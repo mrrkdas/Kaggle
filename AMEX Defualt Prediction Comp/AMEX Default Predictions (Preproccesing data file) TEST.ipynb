{
 "cells": [
  {
   "cell_type": "code",
   "execution_count": 1,
   "id": "a5ff84de",
   "metadata": {},
   "outputs": [],
   "source": [
    "import gc\n",
    "import warnings\n",
    "warnings.filterwarnings('ignore')\n",
    "import scipy as sp\n",
    "import numpy as np\n",
    "import pandas as pd\n",
    "pd.set_option('display.max_rows', 500)\n",
    "pd.set_option('display.max_columns', 500)\n",
    "pd.set_option('display.width', 1000)\n",
    "from tqdm.auto import tqdm\n",
    "import itertools"
   ]
  },
  {
   "cell_type": "code",
   "execution_count": 2,
   "id": "7c4f3b7d",
   "metadata": {},
   "outputs": [
    {
     "name": "stdout",
     "output_type": "stream",
     "text": [
      "(1000000, 190)\n",
      "(2000000, 190)\n",
      "(3000000, 190)\n",
      "(4000000, 190)\n",
      "(5000000, 190)\n",
      "(5531451, 190)\n"
     ]
    }
   ],
   "source": [
    "chunksize = 1000000 # How much of the data to load in\n",
    "\n",
    "# Load in using X_cols and customer_ID\n",
    "train_df_iter = pd.read_csv(\"train_data.csv\", chunksize=chunksize) # for this notebook we will use all the data\n",
    "\n",
    "\n",
    "train_df = pd.DataFrame()\n",
    "for i_chunk, chunk in enumerate(train_df_iter): # i_chunk is the index of the chunk, and chunk is the actual data\n",
    "    train_df = pd.concat([train_df, chunk]) # adding it to train_df which is an empty dataframe\n",
    "    print(train_df.shape)"
   ]
  },
  {
   "cell_type": "code",
   "execution_count": 3,
   "id": "f0da9bbb",
   "metadata": {},
   "outputs": [],
   "source": [
    "# the features we will be using in a list\n",
    "features = train_df.drop(['customer_ID', 'S_2'], axis = 1).columns.to_list()"
   ]
  },
  {
   "cell_type": "code",
   "execution_count": 4,
   "id": "e73c5233",
   "metadata": {},
   "outputs": [],
   "source": [
    "# This is the categorical features\n",
    "cat_features = [\n",
    "        \"B_30\",\n",
    "        \"B_38\",\n",
    "        \"D_114\",\n",
    "        \"D_116\",\n",
    "        \"D_117\",\n",
    "        \"D_120\",\n",
    "        \"D_126\",\n",
    "        \"D_63\",\n",
    "        \"D_64\",\n",
    "        \"D_66\",\n",
    "        \"D_68\",\n",
    "    ]"
   ]
  },
  {
   "cell_type": "code",
   "execution_count": 5,
   "id": "0c5a5761",
   "metadata": {},
   "outputs": [],
   "source": [
    "# This is the number of features that (not including the categorical features), and there column names\n",
    "num_features = [col for col in features if col not in cat_features]"
   ]
  },
  {
   "cell_type": "code",
   "execution_count": 6,
   "id": "f2f3f460",
   "metadata": {},
   "outputs": [
    {
     "data": {
      "text/plain": [
       "0"
      ]
     },
     "execution_count": 6,
     "metadata": {},
     "output_type": "execute_result"
    }
   ],
   "source": [
    "gc.collect()"
   ]
  },
  {
   "cell_type": "code",
   "execution_count": 7,
   "id": "877a0952",
   "metadata": {},
   "outputs": [],
   "source": [
    "del train_df_iter, train_df, chunksize, i_chunk, chunk"
   ]
  },
  {
   "cell_type": "markdown",
   "id": "f7b84738",
   "metadata": {},
   "source": [
    "### Now we will load in the test data"
   ]
  },
  {
   "cell_type": "code",
   "execution_count": 8,
   "id": "0b29d52d",
   "metadata": {},
   "outputs": [
    {
     "name": "stdout",
     "output_type": "stream",
     "text": [
      "(1000000, 190)\n",
      "(2000000, 190)\n",
      "(3000000, 190)\n",
      "(4000000, 190)\n",
      "(5000000, 190)\n",
      "(6000000, 190)\n",
      "(7000000, 190)\n",
      "(8000000, 190)\n",
      "(9000000, 190)\n",
      "(10000000, 190)\n",
      "(11000000, 190)\n",
      "(11363762, 190)\n"
     ]
    }
   ],
   "source": [
    "chunksize = 1000000 # How much of the data to load in\n",
    "\n",
    "# Load in using X_cols and customer_ID\n",
    "test_df_iter = pd.read_csv(\"test_data.csv\", chunksize=chunksize)\n",
    "\n",
    "\n",
    "test_df = pd.DataFrame()\n",
    "for i_chunk, chunk in enumerate(test_df_iter): # i_chunk is the index of the chunk, and chunk is the actual data\n",
    "    test_df = pd.concat([test_df, chunk]) # adding it to train_df which is an empty dataframe\n",
    "    print(test_df.shape)"
   ]
  },
  {
   "cell_type": "code",
   "execution_count": 9,
   "id": "f5648939",
   "metadata": {},
   "outputs": [],
   "source": [
    "del chunksize, i_chunk, chunk, test_df_iter"
   ]
  },
  {
   "cell_type": "code",
   "execution_count": 10,
   "id": "21fc3979",
   "metadata": {},
   "outputs": [
    {
     "data": {
      "text/plain": [
       "0"
      ]
     },
     "execution_count": 10,
     "metadata": {},
     "output_type": "execute_result"
    }
   ],
   "source": [
    "gc.collect()"
   ]
  },
  {
   "cell_type": "code",
   "execution_count": 11,
   "id": "28c458b7",
   "metadata": {},
   "outputs": [
    {
     "name": "stdout",
     "output_type": "stream",
     "text": [
      "Starting test feature engineer...\n",
      "Finished test feature engineer\n"
     ]
    }
   ],
   "source": [
    "print('Starting test feature engineer...')\n",
    "test_num_agg = test_df.groupby(\"customer_ID\")[num_features].agg(['mean', 'std', 'min', 'max', 'last'])\n",
    "test_num_agg.columns = ['_'.join(x) for x in test_num_agg.columns]\n",
    "test_num_agg.reset_index(inplace = True)\n",
    "test_cat_agg = test_df.groupby(\"customer_ID\")[cat_features].agg(['count', 'last', 'nunique'])\n",
    "test_cat_agg.columns = ['_'.join(x) for x in test_cat_agg.columns]\n",
    "test_cat_agg.reset_index(inplace = True)\n",
    "test_df = test_num_agg.merge(test_cat_agg, how = 'inner', on = 'customer_ID')\n",
    "print(\"Finished test feature engineer\")"
   ]
  },
  {
   "cell_type": "code",
   "execution_count": 12,
   "id": "4351f304",
   "metadata": {},
   "outputs": [],
   "source": [
    "del test_num_agg, test_cat_agg"
   ]
  },
  {
   "cell_type": "code",
   "execution_count": 13,
   "id": "7795d455",
   "metadata": {},
   "outputs": [
    {
     "data": {
      "text/plain": [
       "0"
      ]
     },
     "execution_count": 13,
     "metadata": {},
     "output_type": "execute_result"
    }
   ],
   "source": [
    "gc.collect()"
   ]
  },
  {
   "cell_type": "code",
   "execution_count": 14,
   "id": "493dbc6d",
   "metadata": {},
   "outputs": [],
   "source": [
    "test_df.to_parquet(\"test_df_final.parquet\")"
   ]
  },
  {
   "cell_type": "code",
   "execution_count": null,
   "id": "5583c5e2",
   "metadata": {},
   "outputs": [],
   "source": []
  }
 ],
 "metadata": {
  "kernelspec": {
   "display_name": "Python 3.9.12 ('base')",
   "language": "python",
   "name": "python3"
  },
  "language_info": {
   "codemirror_mode": {
    "name": "ipython",
    "version": 3
   },
   "file_extension": ".py",
   "mimetype": "text/x-python",
   "name": "python",
   "nbconvert_exporter": "python",
   "pygments_lexer": "ipython3",
   "version": "3.9.12"
  },
  "vscode": {
   "interpreter": {
    "hash": "31b54185ef9236271117b65ccd40447ed8c429f8dbf9fa6a895ee5e4cb482fd5"
   }
  }
 },
 "nbformat": 4,
 "nbformat_minor": 5
}
