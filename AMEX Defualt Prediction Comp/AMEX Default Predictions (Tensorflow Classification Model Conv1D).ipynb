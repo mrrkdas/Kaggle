{
 "cells": [
  {
   "cell_type": "code",
   "execution_count": null,
   "id": "7c0f2406",
   "metadata": {},
   "outputs": [],
   "source": [
    "import tensorflow as tf\n",
    "import sklearn\n",
    "import pandas as pd\n",
    "import numpy as np\n",
    "import torch"
   ]
  },
  {
   "cell_type": "code",
   "execution_count": 2,
   "id": "dd8a3255",
   "metadata": {},
   "outputs": [
    {
     "name": "stdout",
     "output_type": "stream",
     "text": [
      "Collecting tensorflow\n",
      "  Downloading tensorflow-2.9.1-cp39-cp39-macosx_10_14_x86_64.whl (228.5 MB)\n",
      "\u001b[K     |████████████████████████████████| 228.5 MB 87 kB/s  eta 0:00:016    |████████████▍                   | 88.5 MB 1.4 MB/s eta 0:01:40     |████████████████████████████    | 200.2 MB 7.7 MB/s eta 0:00:04     |█████████████████████████████▊  | 212.0 MB 5.1 MB/s eta 0:00:04\n",
      "\u001b[?25hCollecting gast<=0.4.0,>=0.2.1\n",
      "  Downloading gast-0.4.0-py3-none-any.whl (9.8 kB)\n",
      "Requirement already satisfied: six>=1.12.0 in /Users/rish/opt/anaconda3/lib/python3.9/site-packages (from tensorflow) (1.16.0)\n",
      "Requirement already satisfied: wrapt>=1.11.0 in /Users/rish/opt/anaconda3/lib/python3.9/site-packages (from tensorflow) (1.12.1)\n",
      "Collecting opt-einsum>=2.3.2\n",
      "  Downloading opt_einsum-3.3.0-py3-none-any.whl (65 kB)\n",
      "\u001b[K     |████████████████████████████████| 65 kB 3.9 MB/s eta 0:00:01\n",
      "\u001b[?25hRequirement already satisfied: packaging in /Users/rish/opt/anaconda3/lib/python3.9/site-packages (from tensorflow) (21.3)\n",
      "Collecting libclang>=13.0.0\n",
      "  Downloading libclang-14.0.1-py2.py3-none-macosx_10_9_x86_64.whl (13.2 MB)\n",
      "\u001b[K     |████████████████████████████████| 13.2 MB 1.4 MB/s eta 0:00:01\n",
      "\u001b[?25hRequirement already satisfied: numpy>=1.20 in /Users/rish/opt/anaconda3/lib/python3.9/site-packages (from tensorflow) (1.21.5)\n",
      "Requirement already satisfied: grpcio<2.0,>=1.24.3 in /Users/rish/opt/anaconda3/lib/python3.9/site-packages (from tensorflow) (1.42.0)\n",
      "Collecting absl-py>=1.0.0\n",
      "  Downloading absl_py-1.1.0-py3-none-any.whl (123 kB)\n",
      "\u001b[K     |████████████████████████████████| 123 kB 2.9 MB/s eta 0:00:01\n",
      "\u001b[?25hCollecting tensorboard<2.10,>=2.9\n",
      "  Downloading tensorboard-2.9.1-py3-none-any.whl (5.8 MB)\n",
      "\u001b[K     |████████████████████████████████| 5.8 MB 1.8 MB/s eta 0:00:01\n",
      "\u001b[?25hCollecting tensorflow-io-gcs-filesystem>=0.23.1\n",
      "  Downloading tensorflow_io_gcs_filesystem-0.26.0-cp39-cp39-macosx_10_14_x86_64.whl (1.6 MB)\n",
      "\u001b[K     |████████████████████████████████| 1.6 MB 463 kB/s eta 0:00:01\n",
      "\u001b[?25hRequirement already satisfied: protobuf<3.20,>=3.9.2 in /Users/rish/opt/anaconda3/lib/python3.9/site-packages (from tensorflow) (3.19.1)\n",
      "Collecting tensorflow-estimator<2.10.0,>=2.9.0rc0\n",
      "  Downloading tensorflow_estimator-2.9.0-py2.py3-none-any.whl (438 kB)\n",
      "\u001b[K     |████████████████████████████████| 438 kB 11.0 MB/s eta 0:00:01\n",
      "\u001b[?25hCollecting keras<2.10.0,>=2.9.0rc0\n",
      "  Downloading keras-2.9.0-py2.py3-none-any.whl (1.6 MB)\n",
      "\u001b[K     |████████████████████████████████| 1.6 MB 8.8 MB/s eta 0:00:01\n",
      "\u001b[?25hCollecting termcolor>=1.1.0\n",
      "  Downloading termcolor-1.1.0.tar.gz (3.9 kB)\n",
      "Collecting flatbuffers<2,>=1.12\n",
      "  Downloading flatbuffers-1.12-py2.py3-none-any.whl (15 kB)\n",
      "Requirement already satisfied: typing-extensions>=3.6.6 in /Users/rish/opt/anaconda3/lib/python3.9/site-packages (from tensorflow) (4.1.1)\n",
      "Requirement already satisfied: h5py>=2.9.0 in /Users/rish/opt/anaconda3/lib/python3.9/site-packages (from tensorflow) (3.6.0)\n",
      "Collecting astunparse>=1.6.0\n",
      "  Downloading astunparse-1.6.3-py2.py3-none-any.whl (12 kB)\n",
      "Collecting keras-preprocessing>=1.1.1\n",
      "  Downloading Keras_Preprocessing-1.1.2-py2.py3-none-any.whl (42 kB)\n",
      "\u001b[K     |████████████████████████████████| 42 kB 3.4 MB/s  eta 0:00:01\n",
      "\u001b[?25hCollecting google-pasta>=0.1.1\n",
      "  Downloading google_pasta-0.2.0-py3-none-any.whl (57 kB)\n",
      "\u001b[K     |████████████████████████████████| 57 kB 6.5 MB/s  eta 0:00:01\n",
      "\u001b[?25hRequirement already satisfied: setuptools in /Users/rish/opt/anaconda3/lib/python3.9/site-packages (from tensorflow) (61.2.0)\n",
      "Requirement already satisfied: wheel<1.0,>=0.23.0 in /Users/rish/opt/anaconda3/lib/python3.9/site-packages (from astunparse>=1.6.0->tensorflow) (0.37.1)\n",
      "Collecting google-auth-oauthlib<0.5,>=0.4.1\n",
      "  Downloading google_auth_oauthlib-0.4.6-py2.py3-none-any.whl (18 kB)\n",
      "Collecting tensorboard-data-server<0.7.0,>=0.6.0\n",
      "  Downloading tensorboard_data_server-0.6.1-py3-none-macosx_10_9_x86_64.whl (3.5 MB)\n",
      "\u001b[K     |████████████████████████████████| 3.5 MB 9.1 MB/s eta 0:00:01\n",
      "\u001b[?25hCollecting tensorboard-plugin-wit>=1.6.0\n",
      "  Downloading tensorboard_plugin_wit-1.8.1-py3-none-any.whl (781 kB)\n",
      "\u001b[K     |████████████████████████████████| 781 kB 3.7 MB/s eta 0:00:01\n",
      "\u001b[?25hRequirement already satisfied: requests<3,>=2.21.0 in /Users/rish/opt/anaconda3/lib/python3.9/site-packages (from tensorboard<2.10,>=2.9->tensorflow) (2.27.1)\n",
      "Requirement already satisfied: google-auth<3,>=1.6.3 in /Users/rish/opt/anaconda3/lib/python3.9/site-packages (from tensorboard<2.10,>=2.9->tensorflow) (1.33.0)\n",
      "Requirement already satisfied: markdown>=2.6.8 in /Users/rish/opt/anaconda3/lib/python3.9/site-packages (from tensorboard<2.10,>=2.9->tensorflow) (3.3.4)\n",
      "Requirement already satisfied: werkzeug>=1.0.1 in /Users/rish/opt/anaconda3/lib/python3.9/site-packages (from tensorboard<2.10,>=2.9->tensorflow) (2.0.3)\n",
      "Requirement already satisfied: cachetools<5.0,>=2.0.0 in /Users/rish/opt/anaconda3/lib/python3.9/site-packages (from google-auth<3,>=1.6.3->tensorboard<2.10,>=2.9->tensorflow) (4.2.2)\n",
      "Requirement already satisfied: pyasn1-modules>=0.2.1 in /Users/rish/opt/anaconda3/lib/python3.9/site-packages (from google-auth<3,>=1.6.3->tensorboard<2.10,>=2.9->tensorflow) (0.2.8)\n",
      "Requirement already satisfied: rsa<5,>=3.1.4 in /Users/rish/opt/anaconda3/lib/python3.9/site-packages (from google-auth<3,>=1.6.3->tensorboard<2.10,>=2.9->tensorflow) (4.7.2)\n",
      "Collecting requests-oauthlib>=0.7.0\n",
      "  Downloading requests_oauthlib-1.3.1-py2.py3-none-any.whl (23 kB)\n",
      "Requirement already satisfied: pyasn1<0.5.0,>=0.4.6 in /Users/rish/opt/anaconda3/lib/python3.9/site-packages (from pyasn1-modules>=0.2.1->google-auth<3,>=1.6.3->tensorboard<2.10,>=2.9->tensorflow) (0.4.8)\n",
      "Requirement already satisfied: urllib3<1.27,>=1.21.1 in /Users/rish/opt/anaconda3/lib/python3.9/site-packages (from requests<3,>=2.21.0->tensorboard<2.10,>=2.9->tensorflow) (1.26.9)\n",
      "Requirement already satisfied: certifi>=2017.4.17 in /Users/rish/opt/anaconda3/lib/python3.9/site-packages (from requests<3,>=2.21.0->tensorboard<2.10,>=2.9->tensorflow) (2021.10.8)\n",
      "Requirement already satisfied: idna<4,>=2.5 in /Users/rish/opt/anaconda3/lib/python3.9/site-packages (from requests<3,>=2.21.0->tensorboard<2.10,>=2.9->tensorflow) (3.3)\n",
      "Requirement already satisfied: charset-normalizer~=2.0.0 in /Users/rish/opt/anaconda3/lib/python3.9/site-packages (from requests<3,>=2.21.0->tensorboard<2.10,>=2.9->tensorflow) (2.0.4)\n",
      "Collecting oauthlib>=3.0.0\n",
      "  Downloading oauthlib-3.2.0-py3-none-any.whl (151 kB)\n",
      "\u001b[K     |████████████████████████████████| 151 kB 6.1 MB/s eta 0:00:01\n",
      "\u001b[?25hRequirement already satisfied: pyparsing!=3.0.5,>=2.0.2 in /Users/rish/opt/anaconda3/lib/python3.9/site-packages (from packaging->tensorflow) (3.0.4)\n",
      "Building wheels for collected packages: termcolor\n",
      "  Building wheel for termcolor (setup.py) ... \u001b[?25ldone\n",
      "\u001b[?25h  Created wheel for termcolor: filename=termcolor-1.1.0-py3-none-any.whl size=4848 sha256=fbf8accab82d0fec5beaccb943200bcd53240473b06b5d5fb4e3039e96333610\n",
      "  Stored in directory: /Users/rish/Library/Caches/pip/wheels/b6/0d/90/0d1bbd99855f99cb2f6c2e5ff96f8023fad8ec367695f7d72d\n",
      "Successfully built termcolor\n",
      "Installing collected packages: oauthlib, requests-oauthlib, tensorboard-plugin-wit, tensorboard-data-server, google-auth-oauthlib, absl-py, termcolor, tensorflow-io-gcs-filesystem, tensorflow-estimator, tensorboard, opt-einsum, libclang, keras-preprocessing, keras, google-pasta, gast, flatbuffers, astunparse, tensorflow\n",
      "Successfully installed absl-py-1.1.0 astunparse-1.6.3 flatbuffers-1.12 gast-0.4.0 google-auth-oauthlib-0.4.6 google-pasta-0.2.0 keras-2.9.0 keras-preprocessing-1.1.2 libclang-14.0.1 oauthlib-3.2.0 opt-einsum-3.3.0 requests-oauthlib-1.3.1 tensorboard-2.9.1 tensorboard-data-server-0.6.1 tensorboard-plugin-wit-1.8.1 tensorflow-2.9.1 tensorflow-estimator-2.9.0 tensorflow-io-gcs-filesystem-0.26.0 termcolor-1.1.0\n"
     ]
    }
   ],
   "source": [
    "!pip install tensorflow"
   ]
  },
  {
   "cell_type": "code",
   "execution_count": 2,
   "id": "e3209e37",
   "metadata": {},
   "outputs": [],
   "source": [
    "X_cols = [\n",
    "    \"B_2\", \"B_7\", \"B_18\", \"B_23\", \"B_32\", \"D_48\",\n",
    "    \"D_55\", \"D_61\", \"D_121\", \"P_2\", \"S_11\",\n",
    "]"
   ]
  },
  {
   "cell_type": "code",
   "execution_count": null,
   "id": "c3220559",
   "metadata": {},
   "outputs": [],
   "source": [
    "chunksize = 1000000\n",
    "\n",
    "train_df_iter = pd.read_csv(\"train_data.csv\", chunksize=chunksize, usecols=[\"customer_ID\"] + X_cols)\n",
    "\n",
    "\n",
    "train_df = pd.DataFrame()\n",
    "for i_chunk, chunk in enumerate(train_df_iter):\n",
    "    train_df = pd.concat([train_df, chunk])\n",
    "    print(train_df.shape)"
   ]
  },
  {
   "cell_type": "code",
   "execution_count": 5,
   "id": "9ab436f2",
   "metadata": {},
   "outputs": [],
   "source": [
    "train_labels_df = pd.read_csv(\"train_labels.csv\")"
   ]
  },
  {
   "cell_type": "code",
   "execution_count": 6,
   "id": "5d8e295f",
   "metadata": {},
   "outputs": [],
   "source": [
    "train_df_mean = train_df.groupby(\"customer_ID\")[X_cols].mean().reset_index()\n",
    "train_df_last = train_df.groupby(\"customer_ID\")[X_cols].last().reset_index()\n",
    "\n",
    "train_df = pd.merge(\n",
    "    left=train_df_mean, \n",
    "    right=train_df_last, \n",
    "    how=\"inner\",\n",
    "    on=\"customer_ID\",\n",
    "    suffixes=(\"_mean\", \"_last\"),\n",
    ")\n",
    "\n",
    "train_df = pd.merge(train_df, train_labels_df, on=\"customer_ID\", how=\"left\")"
   ]
  },
  {
   "cell_type": "code",
   "execution_count": 7,
   "id": "bba0519e",
   "metadata": {},
   "outputs": [
    {
     "data": {
      "text/html": [
       "<div>\n",
       "<style scoped>\n",
       "    .dataframe tbody tr th:only-of-type {\n",
       "        vertical-align: middle;\n",
       "    }\n",
       "\n",
       "    .dataframe tbody tr th {\n",
       "        vertical-align: top;\n",
       "    }\n",
       "\n",
       "    .dataframe thead th {\n",
       "        text-align: right;\n",
       "    }\n",
       "</style>\n",
       "<table border=\"1\" class=\"dataframe\">\n",
       "  <thead>\n",
       "    <tr style=\"text-align: right;\">\n",
       "      <th></th>\n",
       "      <th>customer_ID</th>\n",
       "      <th>B_2_mean</th>\n",
       "      <th>B_7_mean</th>\n",
       "      <th>B_18_mean</th>\n",
       "      <th>B_23_mean</th>\n",
       "      <th>B_32_mean</th>\n",
       "      <th>D_48_mean</th>\n",
       "      <th>D_55_mean</th>\n",
       "      <th>D_61_mean</th>\n",
       "      <th>D_121_mean</th>\n",
       "      <th>...</th>\n",
       "      <th>B_18_last</th>\n",
       "      <th>B_23_last</th>\n",
       "      <th>B_32_last</th>\n",
       "      <th>D_48_last</th>\n",
       "      <th>D_55_last</th>\n",
       "      <th>D_61_last</th>\n",
       "      <th>D_121_last</th>\n",
       "      <th>P_2_last</th>\n",
       "      <th>S_11_last</th>\n",
       "      <th>target</th>\n",
       "    </tr>\n",
       "  </thead>\n",
       "  <tbody>\n",
       "    <tr>\n",
       "      <th>0</th>\n",
       "      <td>0000099d6bd597052cdcda90ffabf56573fe9d7c79be5f...</td>\n",
       "      <td>1.005086</td>\n",
       "      <td>0.036624</td>\n",
       "      <td>0.842565</td>\n",
       "      <td>0.026177</td>\n",
       "      <td>0.005084</td>\n",
       "      <td>0.240978</td>\n",
       "      <td>0.224432</td>\n",
       "      <td>0.225847</td>\n",
       "      <td>0.711829</td>\n",
       "      <td>...</td>\n",
       "      <td>1.007897</td>\n",
       "      <td>0.040367</td>\n",
       "      <td>0.007645</td>\n",
       "      <td>0.192376</td>\n",
       "      <td>0.187285</td>\n",
       "      <td>0.227637</td>\n",
       "      <td>0.719791</td>\n",
       "      <td>0.934745</td>\n",
       "      <td>0.402246</td>\n",
       "      <td>0</td>\n",
       "    </tr>\n",
       "    <tr>\n",
       "      <th>1</th>\n",
       "      <td>00000fd6641609c6ece5454664794f0340ad84dddce9a2...</td>\n",
       "      <td>0.991083</td>\n",
       "      <td>0.028049</td>\n",
       "      <td>1.004884</td>\n",
       "      <td>0.013286</td>\n",
       "      <td>0.005960</td>\n",
       "      <td>0.048203</td>\n",
       "      <td>0.048069</td>\n",
       "      <td>0.053319</td>\n",
       "      <td>0.535892</td>\n",
       "      <td>...</td>\n",
       "      <td>1.003602</td>\n",
       "      <td>0.014705</td>\n",
       "      <td>0.008645</td>\n",
       "      <td>0.014696</td>\n",
       "      <td>0.036112</td>\n",
       "      <td>0.048978</td>\n",
       "      <td>0.551341</td>\n",
       "      <td>0.880519</td>\n",
       "      <td>0.363754</td>\n",
       "      <td>0</td>\n",
       "    </tr>\n",
       "    <tr>\n",
       "      <th>2</th>\n",
       "      <td>00001b22f846c82c51f6e3958ccd81970162bae8b007e8...</td>\n",
       "      <td>0.815677</td>\n",
       "      <td>0.034433</td>\n",
       "      <td>0.933173</td>\n",
       "      <td>0.023436</td>\n",
       "      <td>0.005220</td>\n",
       "      <td>0.092284</td>\n",
       "      <td>0.077362</td>\n",
       "      <td>0.109526</td>\n",
       "      <td>0.431903</td>\n",
       "      <td>...</td>\n",
       "      <td>1.004080</td>\n",
       "      <td>0.020228</td>\n",
       "      <td>0.001252</td>\n",
       "      <td>0.080370</td>\n",
       "      <td>0.098963</td>\n",
       "      <td>0.137834</td>\n",
       "      <td>0.444615</td>\n",
       "      <td>0.880875</td>\n",
       "      <td>0.280417</td>\n",
       "      <td>0</td>\n",
       "    </tr>\n",
       "    <tr>\n",
       "      <th>3</th>\n",
       "      <td>000041bdba6ecadd89a52d11886e8eaaec9325906c9723...</td>\n",
       "      <td>0.955264</td>\n",
       "      <td>0.062130</td>\n",
       "      <td>0.910999</td>\n",
       "      <td>0.046339</td>\n",
       "      <td>0.005252</td>\n",
       "      <td>0.076686</td>\n",
       "      <td>0.061726</td>\n",
       "      <td>0.066872</td>\n",
       "      <td>0.621386</td>\n",
       "      <td>...</td>\n",
       "      <td>1.007289</td>\n",
       "      <td>0.005060</td>\n",
       "      <td>0.007541</td>\n",
       "      <td>0.013057</td>\n",
       "      <td>0.021400</td>\n",
       "      <td>0.026844</td>\n",
       "      <td>0.629147</td>\n",
       "      <td>0.621776</td>\n",
       "      <td>0.368774</td>\n",
       "      <td>0</td>\n",
       "    </tr>\n",
       "    <tr>\n",
       "      <th>4</th>\n",
       "      <td>00007889e4fcd2614b6cbe7f8f3d2e5c728eca32d9eb8a...</td>\n",
       "      <td>0.814543</td>\n",
       "      <td>0.115290</td>\n",
       "      <td>0.610194</td>\n",
       "      <td>0.100755</td>\n",
       "      <td>0.005332</td>\n",
       "      <td>0.253697</td>\n",
       "      <td>0.203298</td>\n",
       "      <td>0.356445</td>\n",
       "      <td>0.550940</td>\n",
       "      <td>...</td>\n",
       "      <td>0.531486</td>\n",
       "      <td>0.145214</td>\n",
       "      <td>0.007263</td>\n",
       "      <td>0.325121</td>\n",
       "      <td>0.254067</td>\n",
       "      <td>0.600739</td>\n",
       "      <td>0.565815</td>\n",
       "      <td>0.871900</td>\n",
       "      <td>0.326776</td>\n",
       "      <td>0</td>\n",
       "    </tr>\n",
       "  </tbody>\n",
       "</table>\n",
       "<p>5 rows × 24 columns</p>\n",
       "</div>"
      ],
      "text/plain": [
       "                                         customer_ID  B_2_mean  B_7_mean  \\\n",
       "0  0000099d6bd597052cdcda90ffabf56573fe9d7c79be5f...  1.005086  0.036624   \n",
       "1  00000fd6641609c6ece5454664794f0340ad84dddce9a2...  0.991083  0.028049   \n",
       "2  00001b22f846c82c51f6e3958ccd81970162bae8b007e8...  0.815677  0.034433   \n",
       "3  000041bdba6ecadd89a52d11886e8eaaec9325906c9723...  0.955264  0.062130   \n",
       "4  00007889e4fcd2614b6cbe7f8f3d2e5c728eca32d9eb8a...  0.814543  0.115290   \n",
       "\n",
       "   B_18_mean  B_23_mean  B_32_mean  D_48_mean  D_55_mean  D_61_mean  \\\n",
       "0   0.842565   0.026177   0.005084   0.240978   0.224432   0.225847   \n",
       "1   1.004884   0.013286   0.005960   0.048203   0.048069   0.053319   \n",
       "2   0.933173   0.023436   0.005220   0.092284   0.077362   0.109526   \n",
       "3   0.910999   0.046339   0.005252   0.076686   0.061726   0.066872   \n",
       "4   0.610194   0.100755   0.005332   0.253697   0.203298   0.356445   \n",
       "\n",
       "   D_121_mean  ...  B_18_last  B_23_last  B_32_last  D_48_last  D_55_last  \\\n",
       "0    0.711829  ...   1.007897   0.040367   0.007645   0.192376   0.187285   \n",
       "1    0.535892  ...   1.003602   0.014705   0.008645   0.014696   0.036112   \n",
       "2    0.431903  ...   1.004080   0.020228   0.001252   0.080370   0.098963   \n",
       "3    0.621386  ...   1.007289   0.005060   0.007541   0.013057   0.021400   \n",
       "4    0.550940  ...   0.531486   0.145214   0.007263   0.325121   0.254067   \n",
       "\n",
       "   D_61_last  D_121_last  P_2_last  S_11_last  target  \n",
       "0   0.227637    0.719791  0.934745   0.402246       0  \n",
       "1   0.048978    0.551341  0.880519   0.363754       0  \n",
       "2   0.137834    0.444615  0.880875   0.280417       0  \n",
       "3   0.026844    0.629147  0.621776   0.368774       0  \n",
       "4   0.600739    0.565815  0.871900   0.326776       0  \n",
       "\n",
       "[5 rows x 24 columns]"
      ]
     },
     "execution_count": 7,
     "metadata": {},
     "output_type": "execute_result"
    }
   ],
   "source": [
    "train_df.head()"
   ]
  },
  {
   "cell_type": "code",
   "execution_count": 8,
   "id": "1a1045d0",
   "metadata": {},
   "outputs": [
    {
     "data": {
      "text/plain": [
       "customer_ID        0\n",
       "B_2_mean          31\n",
       "B_7_mean           0\n",
       "B_18_mean          0\n",
       "B_23_mean          0\n",
       "B_32_mean          0\n",
       "D_48_mean      28816\n",
       "D_55_mean       2478\n",
       "D_61_mean      21083\n",
       "D_121_mean      4739\n",
       "P_2_mean        2434\n",
       "S_11_mean          0\n",
       "B_2_last          31\n",
       "B_7_last           0\n",
       "B_18_last          0\n",
       "B_23_last          0\n",
       "B_32_last          0\n",
       "D_48_last      28816\n",
       "D_55_last       2478\n",
       "D_61_last      21083\n",
       "D_121_last      4739\n",
       "P_2_last        2434\n",
       "S_11_last          0\n",
       "target             0\n",
       "dtype: int64"
      ]
     },
     "execution_count": 8,
     "metadata": {},
     "output_type": "execute_result"
    }
   ],
   "source": [
    "train_df.isna().sum()"
   ]
  },
  {
   "cell_type": "code",
   "execution_count": 9,
   "id": "846ed1e7",
   "metadata": {},
   "outputs": [],
   "source": [
    "train_df[\"B_2_mean\"] = train_df[\"B_2_mean\"].fillna(train_df[\"B_2_mean\"].mean())\n",
    "train_df[\"B_2_last\"] = train_df[\"B_2_last\"].fillna(train_df[\"B_2_last\"].mean())\n",
    "\n",
    "train_df[\"D_48_mean\"] = train_df[\"D_48_mean\"].fillna(train_df[\"D_48_mean\"].mean())\n",
    "train_df[\"D_48_last\"] = train_df[\"D_48_last\"].fillna(train_df[\"D_48_last\"].mean())\n",
    "\n",
    "train_df[\"D_55_mean\"] = train_df[\"D_55_mean\"].fillna(train_df[\"D_55_mean\"].mean())\n",
    "train_df[\"D_55_last\"] = train_df[\"D_55_last\"].fillna(train_df[\"D_55_last\"].mean())\n",
    "\n",
    "train_df[\"D_61_mean\"] = train_df[\"D_61_mean\"].fillna(train_df[\"D_61_mean\"].mean())\n",
    "train_df[\"D_61_last\"] = train_df[\"D_61_last\"].fillna(train_df[\"D_61_last\"].mean())\n",
    "\n",
    "train_df[\"D_121_mean\"] = train_df[\"D_121_mean\"].fillna(train_df[\"D_121_mean\"].mean())\n",
    "train_df[\"D_121_last\"] = train_df[\"D_121_last\"].fillna(train_df[\"D_121_last\"].mean())\n",
    "\n",
    "train_df[\"P_2_mean\"] = train_df[\"P_2_mean\"].fillna(train_df[\"P_2_mean\"].mean())\n",
    "train_df[\"P_2_last\"] = train_df[\"P_2_last\"].fillna(train_df[\"P_2_last\"].mean())"
   ]
  },
  {
   "cell_type": "code",
   "execution_count": 10,
   "id": "f8a9c1b0",
   "metadata": {},
   "outputs": [],
   "source": [
    "_X_cols = train_df.columns[1:-1]"
   ]
  },
  {
   "cell_type": "code",
   "execution_count": 11,
   "id": "9f69f649",
   "metadata": {},
   "outputs": [],
   "source": [
    "from sklearn.model_selection import train_test_split\n",
    "\n",
    "X_train, X_test, y_train, y_test = train_test_split(train_df[_X_cols], train_df[\"target\"], test_size=0.2, \n",
    "                                                    random_state=42, stratify=train_df[\"target\"])"
   ]
  },
  {
   "cell_type": "code",
   "execution_count": 12,
   "id": "b76a532e",
   "metadata": {},
   "outputs": [],
   "source": [
    "X_train = tf.expand_dims(X_train,axis = -1)\n",
    "y_train = tf.expand_dims(y_train,axis = -1)\n",
    "X_test = tf.expand_dims(X_test,axis = -1)\n",
    "y_test = tf.expand_dims(y_test,axis = -1)"
   ]
  },
  {
   "cell_type": "code",
   "execution_count": 13,
   "id": "29ae4923",
   "metadata": {},
   "outputs": [
    {
     "data": {
      "text/plain": [
       "TensorShape([367130, 22, 1])"
      ]
     },
     "execution_count": 13,
     "metadata": {},
     "output_type": "execute_result"
    }
   ],
   "source": [
    "X_train.shape"
   ]
  },
  {
   "cell_type": "code",
   "execution_count": 14,
   "id": "890e87bf",
   "metadata": {},
   "outputs": [],
   "source": [
    "model = tf.keras.Sequential([\n",
    "    tf.keras.layers.Input((22,1)),\n",
    "    tf.keras.layers.Conv1D(filters = 64, kernel_size = 3, activation = \"relu\"),\n",
    "    tf.keras.layers.Conv1D(filters = 128, kernel_size = 4, activation = \"relu\"),\n",
    "    tf.keras.layers.Dropout(0.3),\n",
    "    tf.keras.layers.MaxPool1D(2),\n",
    "    tf.keras.layers.Conv1D(filters = 64, kernel_size = 3, activation = \"relu\"),\n",
    "    tf.keras.layers.Conv1D(filters = 32, kernel_size = 2, activation = \"relu\"),\n",
    "    tf.keras.layers.MaxPool1D(2),\n",
    "    tf.keras.layers.Dropout(0.2),\n",
    "    tf.keras.layers.Flatten(),\n",
    "    tf.keras.layers.Dense(128, activation = \"relu\"),\n",
    "    tf.keras.layers.Dense(64, activation = \"relu\"),\n",
    "    tf.keras.layers.Dense(16, activation = \"relu\"),\n",
    "    tf.keras.layers.Dense(1, activation = \"sigmoid\")\n",
    "])"
   ]
  },
  {
   "cell_type": "code",
   "execution_count": 15,
   "id": "9d77d3d3",
   "metadata": {},
   "outputs": [],
   "source": [
    "model.compile(loss = \"binary_crossentropy\", optimizer = \"adam\", metrics = \"accuracy\")"
   ]
  },
  {
   "cell_type": "code",
   "execution_count": 16,
   "id": "88686445",
   "metadata": {},
   "outputs": [
    {
     "name": "stdout",
     "output_type": "stream",
     "text": [
      "Epoch 1/3\n",
      "11473/11473 [==============================] - 125s 11ms/step - loss: 0.2992 - accuracy: 0.8624\n",
      "Epoch 2/3\n",
      "11473/11473 [==============================] - 119s 10ms/step - loss: 0.2889 - accuracy: 0.8669\n",
      "Epoch 3/3\n",
      "11473/11473 [==============================] - 121s 11ms/step - loss: 0.2860 - accuracy: 0.8682\n"
     ]
    },
    {
     "data": {
      "text/plain": [
       "<keras.callbacks.History at 0x2810ff67c70>"
      ]
     },
     "execution_count": 16,
     "metadata": {},
     "output_type": "execute_result"
    }
   ],
   "source": [
    "model.fit(X_train, y_train, epochs = 3)"
   ]
  },
  {
   "cell_type": "code",
   "execution_count": 17,
   "id": "68358291",
   "metadata": {},
   "outputs": [
    {
     "name": "stdout",
     "output_type": "stream",
     "text": [
      "2869/2869 [==============================] - 9s 3ms/step\n"
     ]
    }
   ],
   "source": [
    "predictions = model.predict(X_test)"
   ]
  },
  {
   "cell_type": "code",
   "execution_count": 18,
   "id": "f6f0c2ac",
   "metadata": {},
   "outputs": [
    {
     "name": "stdout",
     "output_type": "stream",
     "text": [
      "2869/2869 [==============================] - 10s 3ms/step - loss: 0.2813 - accuracy: 0.8715\n"
     ]
    },
    {
     "data": {
      "text/plain": [
       "[0.28133344650268555, 0.8714903593063354]"
      ]
     },
     "execution_count": 18,
     "metadata": {},
     "output_type": "execute_result"
    }
   ],
   "source": [
    "model.evaluate(X_test, y_test)"
   ]
  },
  {
   "cell_type": "code",
   "execution_count": 78,
   "id": "3dc8deef",
   "metadata": {},
   "outputs": [],
   "source": [
    "chunksize = 1000000\n",
    "\n",
    "test_df_iter = pd.read_csv(\"test_data.csv\", chunksize=chunksize, usecols=[\"customer_ID\"] + X_cols)"
   ]
  },
  {
   "cell_type": "code",
   "execution_count": 79,
   "id": "6e59c157",
   "metadata": {},
   "outputs": [
    {
     "name": "stdout",
     "output_type": "stream",
     "text": [
      "2543/2543 [==============================] - 8s 3ms/step\n",
      "81358\n",
      "2540/2540 [==============================] - 9s 4ms/step\n",
      "162618\n",
      "2546/2546 [==============================] - 10s 4ms/step\n",
      "244059\n",
      "2544/2544 [==============================] - 9s 3ms/step\n",
      "325450\n",
      "2543/2543 [==============================] - 9s 4ms/step\n",
      "406815\n",
      "2546/2546 [==============================] - 9s 4ms/step\n",
      "488260\n",
      "2541/2541 [==============================] - 11s 4ms/step\n",
      "569555\n",
      "2543/2543 [==============================] - 9s 4ms/step\n",
      "650904\n",
      "2542/2542 [==============================] - 9s 3ms/step\n",
      "732217\n",
      "2542/2542 [==============================] - 12s 5ms/step\n",
      "813543\n",
      "2547/2547 [==============================] - 12s 5ms/step\n",
      "895040\n",
      "925/925 [==============================] - 4s 5ms/step\n",
      "924631\n"
     ]
    }
   ],
   "source": [
    "_index = []\n",
    "_vals = []\n",
    "\n",
    "for chunk in test_df_iter:\n",
    "    _chunk_mean = chunk.groupby(\"customer_ID\")[X_cols].mean().reset_index()\n",
    "    _chunk_last = chunk.groupby(\"customer_ID\")[X_cols].last().reset_index()\n",
    "    _chunk = pd.merge(\n",
    "        left=_chunk_mean, \n",
    "        right=_chunk_last, \n",
    "        how=\"inner\",\n",
    "        on=\"customer_ID\",\n",
    "        suffixes=(\"_mean\", \"_last\"),\n",
    "    )\n",
    "\n",
    "    X_test = _chunk[_X_cols]\n",
    "    X_test = X_test.fillna(0)\n",
    "    X_test = tf.expand_dims(X_test, axis = -1)\n",
    "    \n",
    "    y_test_pred = model.predict(X_test)#:, 1]\n",
    "    _index.extend(_chunk[\"customer_ID\"])\n",
    "    _vals.extend(y_test_pred)\n",
    "    \n",
    "    print(len(_index))"
   ]
  },
  {
   "cell_type": "code",
   "execution_count": 80,
   "id": "e2c173a0",
   "metadata": {},
   "outputs": [],
   "source": [
    "res_df = pd.DataFrame(\n",
    "    {\"customer_ID\": _index, \"prediction\": np.squeeze(_vals)}\n",
    ").groupby(\"customer_ID\")[\"prediction\"].mean().reset_index()"
   ]
  },
  {
   "cell_type": "code",
   "execution_count": 81,
   "id": "a623b2a8",
   "metadata": {},
   "outputs": [
    {
     "data": {
      "text/plain": [
       "customer_ID    0\n",
       "prediction     0\n",
       "dtype: int64"
      ]
     },
     "execution_count": 81,
     "metadata": {},
     "output_type": "execute_result"
    }
   ],
   "source": [
    "res_df.isna().sum()"
   ]
  },
  {
   "cell_type": "code",
   "execution_count": 82,
   "id": "ed79f088",
   "metadata": {},
   "outputs": [],
   "source": [
    "res_df.to_csv(\"tensorflow_predictions_submission3.csv\", index = False)"
   ]
  }
 ],
 "metadata": {
  "kernelspec": {
   "display_name": "Python 3 (ipykernel)",
   "language": "python",
   "name": "python3"
  },
  "language_info": {
   "codemirror_mode": {
    "name": "ipython",
    "version": 3
   },
   "file_extension": ".py",
   "mimetype": "text/x-python",
   "name": "python",
   "nbconvert_exporter": "python",
   "pygments_lexer": "ipython3",
   "version": "3.9.12"
  }
 },
 "nbformat": 4,
 "nbformat_minor": 5
}
