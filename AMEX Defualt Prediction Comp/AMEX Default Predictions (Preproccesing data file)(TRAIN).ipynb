{
 "cells": [
  {
   "cell_type": "code",
   "execution_count": 13,
   "id": "a5ff84de",
   "metadata": {},
   "outputs": [],
   "source": [
    "import gc\n",
    "import warnings\n",
    "warnings.filterwarnings('ignore')\n",
    "import scipy as sp\n",
    "import numpy as np\n",
    "import pandas as pd\n",
    "pd.set_option('display.max_rows', 500)\n",
    "pd.set_option('display.max_columns', 500)\n",
    "pd.set_option('display.width', 1000)\n",
    "from tqdm.auto import tqdm\n",
    "import itertools"
   ]
  },
  {
   "cell_type": "markdown",
   "id": "7a81bc6b",
   "metadata": {},
   "source": [
    "### We load in the train data and preprocess"
   ]
  },
  {
   "cell_type": "code",
   "execution_count": 3,
   "id": "670c43c7",
   "metadata": {},
   "outputs": [
    {
     "name": "stdout",
     "output_type": "stream",
     "text": [
      "(1000000, 190)\n",
      "(2000000, 190)\n",
      "(3000000, 190)\n",
      "(4000000, 190)\n",
      "(5000000, 190)\n",
      "(5531451, 190)\n"
     ]
    }
   ],
   "source": [
    "chunksize = 1000000 # How much of the data to load in\n",
    "\n",
    "# Load in using X_cols and customer_ID\n",
    "train_df_iter = pd.read_csv(\"train_data.csv\", chunksize=chunksize) # for this notebook we will use all the data\n",
    "\n",
    "\n",
    "train_df = pd.DataFrame()\n",
    "for i_chunk, chunk in enumerate(train_df_iter): # i_chunk is the index of the chunk, and chunk is the actual data\n",
    "    train_df = pd.concat([train_df, chunk]) # adding it to train_df which is an empty dataframe\n",
    "    print(train_df.shape)"
   ]
  },
  {
   "cell_type": "code",
   "execution_count": 1,
   "id": "5eba36ae",
   "metadata": {},
   "outputs": [
    {
     "ename": "NameError",
     "evalue": "name 'train_df' is not defined",
     "output_type": "error",
     "traceback": [
      "\u001b[0;31m---------------------------------------------------------------------------\u001b[0m",
      "\u001b[0;31mNameError\u001b[0m                                 Traceback (most recent call last)",
      "Input \u001b[0;32mIn [1]\u001b[0m, in \u001b[0;36m<cell line: 2>\u001b[0;34m()\u001b[0m\n\u001b[1;32m      1\u001b[0m \u001b[38;5;66;03m# the features we will be using in a list\u001b[39;00m\n\u001b[0;32m----> 2\u001b[0m features \u001b[38;5;241m=\u001b[39m \u001b[43mtrain_df\u001b[49m\u001b[38;5;241m.\u001b[39mdrop([\u001b[38;5;124m'\u001b[39m\u001b[38;5;124mcustomer_ID\u001b[39m\u001b[38;5;124m'\u001b[39m, \u001b[38;5;124m'\u001b[39m\u001b[38;5;124mS_2\u001b[39m\u001b[38;5;124m'\u001b[39m], axis \u001b[38;5;241m=\u001b[39m \u001b[38;5;241m1\u001b[39m)\u001b[38;5;241m.\u001b[39mcolumns\u001b[38;5;241m.\u001b[39mto_list()\n",
      "\u001b[0;31mNameError\u001b[0m: name 'train_df' is not defined"
     ]
    }
   ],
   "source": [
    "# the features we will be using in a list\n",
    "features = train_df.drop(['customer_ID', 'S_2'], axis = 1).columns.to_list()"
   ]
  },
  {
   "cell_type": "code",
   "execution_count": 5,
   "id": "51b6bb79",
   "metadata": {},
   "outputs": [],
   "source": [
    "# This is the categorical features\n",
    "cat_features = [\n",
    "        \"B_30\",\n",
    "        \"B_38\",\n",
    "        \"D_114\",\n",
    "        \"D_116\",\n",
    "        \"D_117\",\n",
    "        \"D_120\",\n",
    "        \"D_126\",\n",
    "        \"D_63\",\n",
    "        \"D_64\",\n",
    "        \"D_66\",\n",
    "        \"D_68\",\n",
    "    ]"
   ]
  },
  {
   "cell_type": "code",
   "execution_count": 6,
   "id": "a208dbad",
   "metadata": {},
   "outputs": [],
   "source": [
    "# This is the number of features that (not including the categorical features), and there column names\n",
    "num_features = [col for col in features if col not in cat_features]"
   ]
  },
  {
   "cell_type": "code",
   "execution_count": 7,
   "id": "4adc033a",
   "metadata": {},
   "outputs": [
    {
     "name": "stdout",
     "output_type": "stream",
     "text": [
      "Starting training feature engineer...\n",
      "Finished training feature engineer\n"
     ]
    }
   ],
   "source": [
    "print('Starting training feature engineer...')\n",
    "train_num_agg = train_df.groupby(\"customer_ID\")[num_features].agg(['mean', 'std', 'min', 'max', 'last'])\n",
    "train_num_agg.columns = ['_'.join(x) for x in train_num_agg.columns]\n",
    "train_num_agg.reset_index(inplace = True)\n",
    "train_cat_agg = train_df.groupby(\"customer_ID\")[cat_features].agg(['count', 'last', 'nunique'])\n",
    "train_cat_agg.columns = ['_'.join(x) for x in train_cat_agg.columns]\n",
    "train_cat_agg.reset_index(inplace = True)\n",
    "train_labels = pd.read_csv('train_labels.csv')\n",
    "train_df = train_num_agg.merge(train_cat_agg, how = 'inner', on = 'customer_ID').merge(train_labels, how = 'inner', on = 'customer_ID')\n",
    "print(\"Finished training feature engineer\")"
   ]
  },
  {
   "cell_type": "code",
   "execution_count": 8,
   "id": "46b8b4fb",
   "metadata": {},
   "outputs": [],
   "source": [
    "# Deleting the train numbers aggregated and the categorical ones aggregated\n",
    "del train_num_agg, train_cat_agg"
   ]
  },
  {
   "cell_type": "code",
   "execution_count": 9,
   "id": "67a90105",
   "metadata": {},
   "outputs": [
    {
     "data": {
      "text/plain": [
       "0"
      ]
     },
     "execution_count": 9,
     "metadata": {},
     "output_type": "execute_result"
    }
   ],
   "source": [
    "gc.collect() # NO CLUE WHAT THIS DOES"
   ]
  },
  {
   "cell_type": "code",
   "execution_count": 17,
   "id": "350d73cb",
   "metadata": {},
   "outputs": [],
   "source": [
    "train_df.to_parquet(\"train_df_final.parquet\")"
   ]
  }
 ],
 "metadata": {
  "kernelspec": {
   "display_name": "Python 3 (ipykernel)",
   "language": "python",
   "name": "python3"
  },
  "language_info": {
   "codemirror_mode": {
    "name": "ipython",
    "version": 3
   },
   "file_extension": ".py",
   "mimetype": "text/x-python",
   "name": "python",
   "nbconvert_exporter": "python",
   "pygments_lexer": "ipython3",
   "version": "3.9.12"
  }
 },
 "nbformat": 4,
 "nbformat_minor": 5
}
