{
 "cells": [
  {
   "cell_type": "code",
   "execution_count": 1,
   "id": "eaae47be",
   "metadata": {},
   "outputs": [],
   "source": [
    "# Load in necessary packages \n",
    "import pandas as pd\n",
    "import numpy as np\n",
    "import matplotlib.pyplot as plt\n",
    "import sklearn"
   ]
  },
  {
   "cell_type": "code",
   "execution_count": 2,
   "id": "3e5cd319",
   "metadata": {},
   "outputs": [],
   "source": [
    "# Based of EDA from previous notebook\n",
    "X_cols = [\"B_2\", \"B_7\", \"B_18\", \"B_23\", \"B_32\", \"D_48\", \"D_55\", \"D_61\", \"D_121\", \"P_2\", \"S_11\"]"
   ]
  },
  {
   "cell_type": "code",
   "execution_count": 3,
   "id": "e8a596d7",
   "metadata": {},
   "outputs": [
    {
     "name": "stdout",
     "output_type": "stream",
     "text": [
      "(1000000, 12)\n",
      "(2000000, 12)\n",
      "(3000000, 12)\n",
      "(4000000, 12)\n",
      "(5000000, 12)\n",
      "(5531451, 12)\n"
     ]
    },
    {
     "data": {
      "text/html": [
       "<div>\n",
       "<style scoped>\n",
       "    .dataframe tbody tr th:only-of-type {\n",
       "        vertical-align: middle;\n",
       "    }\n",
       "\n",
       "    .dataframe tbody tr th {\n",
       "        vertical-align: top;\n",
       "    }\n",
       "\n",
       "    .dataframe thead th {\n",
       "        text-align: right;\n",
       "    }\n",
       "</style>\n",
       "<table border=\"1\" class=\"dataframe\">\n",
       "  <thead>\n",
       "    <tr style=\"text-align: right;\">\n",
       "      <th></th>\n",
       "      <th>customer_ID</th>\n",
       "      <th>B_2_mean</th>\n",
       "      <th>B_7_mean</th>\n",
       "      <th>B_18_mean</th>\n",
       "      <th>B_23_mean</th>\n",
       "      <th>B_32_mean</th>\n",
       "      <th>D_48_mean</th>\n",
       "      <th>D_55_mean</th>\n",
       "      <th>D_61_mean</th>\n",
       "      <th>D_121_mean</th>\n",
       "      <th>...</th>\n",
       "      <th>B_18_last</th>\n",
       "      <th>B_23_last</th>\n",
       "      <th>B_32_last</th>\n",
       "      <th>D_48_last</th>\n",
       "      <th>D_55_last</th>\n",
       "      <th>D_61_last</th>\n",
       "      <th>D_121_last</th>\n",
       "      <th>P_2_last</th>\n",
       "      <th>S_11_last</th>\n",
       "      <th>target</th>\n",
       "    </tr>\n",
       "  </thead>\n",
       "  <tbody>\n",
       "    <tr>\n",
       "      <th>0</th>\n",
       "      <td>0000099d6bd597052cdcda90ffabf56573fe9d7c79be5f...</td>\n",
       "      <td>1.005086</td>\n",
       "      <td>0.036624</td>\n",
       "      <td>0.842565</td>\n",
       "      <td>0.026177</td>\n",
       "      <td>0.005084</td>\n",
       "      <td>0.240978</td>\n",
       "      <td>0.224432</td>\n",
       "      <td>0.225847</td>\n",
       "      <td>0.711829</td>\n",
       "      <td>...</td>\n",
       "      <td>1.007897</td>\n",
       "      <td>0.040367</td>\n",
       "      <td>0.007645</td>\n",
       "      <td>0.192376</td>\n",
       "      <td>0.187285</td>\n",
       "      <td>0.227637</td>\n",
       "      <td>0.719791</td>\n",
       "      <td>0.934745</td>\n",
       "      <td>0.402246</td>\n",
       "      <td>0</td>\n",
       "    </tr>\n",
       "    <tr>\n",
       "      <th>1</th>\n",
       "      <td>00000fd6641609c6ece5454664794f0340ad84dddce9a2...</td>\n",
       "      <td>0.991083</td>\n",
       "      <td>0.028049</td>\n",
       "      <td>1.004884</td>\n",
       "      <td>0.013286</td>\n",
       "      <td>0.005960</td>\n",
       "      <td>0.048203</td>\n",
       "      <td>0.048069</td>\n",
       "      <td>0.053319</td>\n",
       "      <td>0.535892</td>\n",
       "      <td>...</td>\n",
       "      <td>1.003602</td>\n",
       "      <td>0.014705</td>\n",
       "      <td>0.008645</td>\n",
       "      <td>0.014696</td>\n",
       "      <td>0.036112</td>\n",
       "      <td>0.048978</td>\n",
       "      <td>0.551341</td>\n",
       "      <td>0.880519</td>\n",
       "      <td>0.363754</td>\n",
       "      <td>0</td>\n",
       "    </tr>\n",
       "    <tr>\n",
       "      <th>2</th>\n",
       "      <td>00001b22f846c82c51f6e3958ccd81970162bae8b007e8...</td>\n",
       "      <td>0.815677</td>\n",
       "      <td>0.034433</td>\n",
       "      <td>0.933173</td>\n",
       "      <td>0.023436</td>\n",
       "      <td>0.005220</td>\n",
       "      <td>0.092284</td>\n",
       "      <td>0.077362</td>\n",
       "      <td>0.109526</td>\n",
       "      <td>0.431903</td>\n",
       "      <td>...</td>\n",
       "      <td>1.004080</td>\n",
       "      <td>0.020228</td>\n",
       "      <td>0.001252</td>\n",
       "      <td>0.080370</td>\n",
       "      <td>0.098963</td>\n",
       "      <td>0.137834</td>\n",
       "      <td>0.444615</td>\n",
       "      <td>0.880875</td>\n",
       "      <td>0.280417</td>\n",
       "      <td>0</td>\n",
       "    </tr>\n",
       "    <tr>\n",
       "      <th>3</th>\n",
       "      <td>000041bdba6ecadd89a52d11886e8eaaec9325906c9723...</td>\n",
       "      <td>0.955264</td>\n",
       "      <td>0.062130</td>\n",
       "      <td>0.910999</td>\n",
       "      <td>0.046339</td>\n",
       "      <td>0.005252</td>\n",
       "      <td>0.076686</td>\n",
       "      <td>0.061726</td>\n",
       "      <td>0.066872</td>\n",
       "      <td>0.621386</td>\n",
       "      <td>...</td>\n",
       "      <td>1.007289</td>\n",
       "      <td>0.005060</td>\n",
       "      <td>0.007541</td>\n",
       "      <td>0.013057</td>\n",
       "      <td>0.021400</td>\n",
       "      <td>0.026844</td>\n",
       "      <td>0.629147</td>\n",
       "      <td>0.621776</td>\n",
       "      <td>0.368774</td>\n",
       "      <td>0</td>\n",
       "    </tr>\n",
       "    <tr>\n",
       "      <th>4</th>\n",
       "      <td>00007889e4fcd2614b6cbe7f8f3d2e5c728eca32d9eb8a...</td>\n",
       "      <td>0.814543</td>\n",
       "      <td>0.115290</td>\n",
       "      <td>0.610194</td>\n",
       "      <td>0.100755</td>\n",
       "      <td>0.005332</td>\n",
       "      <td>0.253697</td>\n",
       "      <td>0.203298</td>\n",
       "      <td>0.356445</td>\n",
       "      <td>0.550940</td>\n",
       "      <td>...</td>\n",
       "      <td>0.531486</td>\n",
       "      <td>0.145214</td>\n",
       "      <td>0.007263</td>\n",
       "      <td>0.325121</td>\n",
       "      <td>0.254067</td>\n",
       "      <td>0.600739</td>\n",
       "      <td>0.565815</td>\n",
       "      <td>0.871900</td>\n",
       "      <td>0.326776</td>\n",
       "      <td>0</td>\n",
       "    </tr>\n",
       "  </tbody>\n",
       "</table>\n",
       "<p>5 rows × 24 columns</p>\n",
       "</div>"
      ],
      "text/plain": [
       "                                         customer_ID  B_2_mean  B_7_mean  \\\n",
       "0  0000099d6bd597052cdcda90ffabf56573fe9d7c79be5f...  1.005086  0.036624   \n",
       "1  00000fd6641609c6ece5454664794f0340ad84dddce9a2...  0.991083  0.028049   \n",
       "2  00001b22f846c82c51f6e3958ccd81970162bae8b007e8...  0.815677  0.034433   \n",
       "3  000041bdba6ecadd89a52d11886e8eaaec9325906c9723...  0.955264  0.062130   \n",
       "4  00007889e4fcd2614b6cbe7f8f3d2e5c728eca32d9eb8a...  0.814543  0.115290   \n",
       "\n",
       "   B_18_mean  B_23_mean  B_32_mean  D_48_mean  D_55_mean  D_61_mean  \\\n",
       "0   0.842565   0.026177   0.005084   0.240978   0.224432   0.225847   \n",
       "1   1.004884   0.013286   0.005960   0.048203   0.048069   0.053319   \n",
       "2   0.933173   0.023436   0.005220   0.092284   0.077362   0.109526   \n",
       "3   0.910999   0.046339   0.005252   0.076686   0.061726   0.066872   \n",
       "4   0.610194   0.100755   0.005332   0.253697   0.203298   0.356445   \n",
       "\n",
       "   D_121_mean  ...  B_18_last  B_23_last  B_32_last  D_48_last  D_55_last  \\\n",
       "0    0.711829  ...   1.007897   0.040367   0.007645   0.192376   0.187285   \n",
       "1    0.535892  ...   1.003602   0.014705   0.008645   0.014696   0.036112   \n",
       "2    0.431903  ...   1.004080   0.020228   0.001252   0.080370   0.098963   \n",
       "3    0.621386  ...   1.007289   0.005060   0.007541   0.013057   0.021400   \n",
       "4    0.550940  ...   0.531486   0.145214   0.007263   0.325121   0.254067   \n",
       "\n",
       "   D_61_last  D_121_last  P_2_last  S_11_last  target  \n",
       "0   0.227637    0.719791  0.934745   0.402246       0  \n",
       "1   0.048978    0.551341  0.880519   0.363754       0  \n",
       "2   0.137834    0.444615  0.880875   0.280417       0  \n",
       "3   0.026844    0.629147  0.621776   0.368774       0  \n",
       "4   0.600739    0.565815  0.871900   0.326776       0  \n",
       "\n",
       "[5 rows x 24 columns]"
      ]
     },
     "execution_count": 3,
     "metadata": {},
     "output_type": "execute_result"
    }
   ],
   "source": [
    "# Load in the data\n",
    "chunksize = 1000000\n",
    "\n",
    "train_df_iter = pd.read_csv('train_data.csv', chunksize = chunksize, usecols = [\"customer_ID\"] + X_cols)\n",
    "train_df_labels = pd.read_csv(\"train_labels.csv\")\n",
    "\n",
    "train_df = pd.DataFrame()\n",
    "\n",
    "for i_chunk, chunk in enumerate(train_df_iter):\n",
    "    train_df = pd.concat([train_df, chunk])\n",
    "    print(train_df.shape)\n",
    "    \n",
    "# Group the data by the \"customer_ID\"\n",
    "train_df_mean = train_df.groupby(\"customer_ID\")[X_cols].mean().reset_index()\n",
    "train_df_last = train_df.groupby(\"customer_ID\")[X_cols].last().reset_index()\n",
    "\n",
    "# Merge the mean and the last into one dataset\n",
    "train_df = pd.merge(\n",
    "    left=train_df_mean, \n",
    "    right=train_df_last, \n",
    "    how=\"inner\",\n",
    "    on=\"customer_ID\",\n",
    "    suffixes=(\"_mean\", \"_last\"),\n",
    ")\n",
    "\n",
    "# Merge labels and data\n",
    "train_df = pd.merge(train_df, train_df_labels, on = \"customer_ID\", how = \"left\")\n",
    "\n",
    "train_df.head()"
   ]
  },
  {
   "cell_type": "code",
   "execution_count": 5,
   "id": "2dec3e23",
   "metadata": {},
   "outputs": [],
   "source": [
    "train_df = train_df.fillna(0)"
   ]
  },
  {
   "cell_type": "code",
   "execution_count": 6,
   "id": "4771597f",
   "metadata": {},
   "outputs": [],
   "source": [
    "_X_cols = train_df.columns[1:-1]\n",
    "\n",
    "from sklearn.model_selection import train_test_split\n",
    "\n",
    "X_train, X_test, y_train, y_test = train_test_split(train_df[_X_cols], train_df[\"target\"], \n",
    "                                                   test_size = 0.2, random_state = 42, stratify = train_df[\"target\"])"
   ]
  },
  {
   "cell_type": "code",
   "execution_count": 7,
   "id": "7d05cb88",
   "metadata": {},
   "outputs": [
    {
     "data": {
      "text/plain": [
       "((367130, 22), (91783, 22), (367130,), (91783,))"
      ]
     },
     "execution_count": 7,
     "metadata": {},
     "output_type": "execute_result"
    }
   ],
   "source": [
    "X_train.shape, X_test.shape, y_train.shape, y_test.shape"
   ]
  },
  {
   "cell_type": "code",
   "execution_count": 10,
   "id": "1b021683",
   "metadata": {},
   "outputs": [],
   "source": [
    "from sklearn.linear_model import LogisticRegression\n",
    "from sklearn.metrics import confusion_matrix\n",
    "\n",
    "model = LogisticRegression()"
   ]
  },
  {
   "cell_type": "code",
   "execution_count": 13,
   "id": "6e885235",
   "metadata": {},
   "outputs": [
    {
     "name": "stderr",
     "output_type": "stream",
     "text": [
      "/opt/anaconda3/lib/python3.9/site-packages/sklearn/linear_model/_logistic.py:814: ConvergenceWarning: lbfgs failed to converge (status=1):\n",
      "STOP: TOTAL NO. of ITERATIONS REACHED LIMIT.\n",
      "\n",
      "Increase the number of iterations (max_iter) or scale the data as shown in:\n",
      "    https://scikit-learn.org/stable/modules/preprocessing.html\n",
      "Please also refer to the documentation for alternative solver options:\n",
      "    https://scikit-learn.org/stable/modules/linear_model.html#logistic-regression\n",
      "  n_iter_i = _check_optimize_result(\n"
     ]
    },
    {
     "data": {
      "text/plain": [
       "LogisticRegression()"
      ]
     },
     "execution_count": 13,
     "metadata": {},
     "output_type": "execute_result"
    }
   ],
   "source": [
    "model.fit(X_train, y_train)"
   ]
  },
  {
   "cell_type": "code",
   "execution_count": 14,
   "id": "542c0871",
   "metadata": {},
   "outputs": [
    {
     "name": "stdout",
     "output_type": "stream",
     "text": [
      "[[62607  5410]\n",
      " [ 6419 17347]]\n"
     ]
    }
   ],
   "source": [
    "predictions_lr = model.predict(X_test)\n",
    "\n",
    "print(confusion_matrix(y_test, predictions_lr))"
   ]
  },
  {
   "cell_type": "code",
   "execution_count": 15,
   "id": "b470b823",
   "metadata": {},
   "outputs": [
    {
     "name": "stdout",
     "output_type": "stream",
     "text": [
      "85.20524301473347\n"
     ]
    }
   ],
   "source": [
    "amount_correct = 100 - ((11829 / 79954) * 100)\n",
    "print(amount_correct) # 76% is correct"
   ]
  },
  {
   "cell_type": "code",
   "execution_count": 16,
   "id": "1209c2f0",
   "metadata": {},
   "outputs": [],
   "source": [
    "chunksize = 1000000\n",
    "\n",
    "test_df_iter = pd.read_csv(\"test_data.csv\", chunksize=chunksize, usecols=[\"customer_ID\"] + X_cols)"
   ]
  },
  {
   "cell_type": "code",
   "execution_count": 17,
   "id": "abacece2",
   "metadata": {},
   "outputs": [
    {
     "name": "stdout",
     "output_type": "stream",
     "text": [
      "81358\n",
      "162618\n",
      "244059\n",
      "325450\n",
      "406815\n",
      "488260\n",
      "569555\n",
      "650904\n",
      "732217\n",
      "813543\n",
      "895040\n",
      "924631\n"
     ]
    }
   ],
   "source": [
    "_X_cols = train_df.columns[1:-1]\n",
    "\n",
    "_index = []\n",
    "_vals = []\n",
    "\n",
    "for chunk in test_df_iter:\n",
    "    _chunk_mean = chunk.groupby(\"customer_ID\")[X_cols].mean().reset_index()\n",
    "    _chunk_last = chunk.groupby(\"customer_ID\")[X_cols].last().reset_index()\n",
    "    _chunk = pd.merge(\n",
    "        left=_chunk_mean, \n",
    "        right=_chunk_last, \n",
    "        how=\"inner\",\n",
    "        on=\"customer_ID\",\n",
    "        suffixes=(\"_mean\", \"_last\"),\n",
    "    )\n",
    "\n",
    "    X_test = _chunk[_X_cols]\n",
    "    # print(X_test.shape)\n",
    "    X_test = X_test.fillna(X_test.mean())\n",
    "    y_test_pred = model.predict_proba(X_test)[:,1]\n",
    "    #y_test_pred = y_test_pred.squeeze()#[:,1]\n",
    "    # y_test_pred = y_test_pred.reshape(1,-1)\n",
    "    # y_test_pred = y_test_pred[:,1]\n",
    "    _index.extend(_chunk[\"customer_ID\"])\n",
    "    _vals.extend(y_test_pred)\n",
    "    \n",
    "    print(len(_index))"
   ]
  },
  {
   "cell_type": "code",
   "execution_count": 18,
   "id": "cf991612",
   "metadata": {},
   "outputs": [],
   "source": [
    "res_df = pd.DataFrame(\n",
    "    {\"customer_ID\": _index, \"prediction\": _vals}\n",
    ").groupby(\"customer_ID\")[\"prediction\"].mean().reset_index()"
   ]
  },
  {
   "cell_type": "code",
   "execution_count": 19,
   "id": "02918e63",
   "metadata": {},
   "outputs": [
    {
     "data": {
      "text/html": [
       "<div>\n",
       "<style scoped>\n",
       "    .dataframe tbody tr th:only-of-type {\n",
       "        vertical-align: middle;\n",
       "    }\n",
       "\n",
       "    .dataframe tbody tr th {\n",
       "        vertical-align: top;\n",
       "    }\n",
       "\n",
       "    .dataframe thead th {\n",
       "        text-align: right;\n",
       "    }\n",
       "</style>\n",
       "<table border=\"1\" class=\"dataframe\">\n",
       "  <thead>\n",
       "    <tr style=\"text-align: right;\">\n",
       "      <th></th>\n",
       "      <th>customer_ID</th>\n",
       "      <th>prediction</th>\n",
       "    </tr>\n",
       "  </thead>\n",
       "  <tbody>\n",
       "    <tr>\n",
       "      <th>0</th>\n",
       "      <td>00000469ba478561f23a92a868bd366de6f6527a684c9a...</td>\n",
       "      <td>0.034890</td>\n",
       "    </tr>\n",
       "    <tr>\n",
       "      <th>1</th>\n",
       "      <td>00001bf2e77ff879fab36aa4fac689b9ba411dae63ae39...</td>\n",
       "      <td>0.008884</td>\n",
       "    </tr>\n",
       "    <tr>\n",
       "      <th>2</th>\n",
       "      <td>0000210045da4f81e5f122c6bde5c2a617d03eef67f82c...</td>\n",
       "      <td>0.048200</td>\n",
       "    </tr>\n",
       "    <tr>\n",
       "      <th>3</th>\n",
       "      <td>00003b41e58ede33b8daf61ab56d9952f17c9ad1c3976c...</td>\n",
       "      <td>0.337402</td>\n",
       "    </tr>\n",
       "    <tr>\n",
       "      <th>4</th>\n",
       "      <td>00004b22eaeeeb0ec976890c1d9bfc14fd9427e98c4ee9...</td>\n",
       "      <td>0.840858</td>\n",
       "    </tr>\n",
       "    <tr>\n",
       "      <th>...</th>\n",
       "      <td>...</td>\n",
       "      <td>...</td>\n",
       "    </tr>\n",
       "    <tr>\n",
       "      <th>924616</th>\n",
       "      <td>ffff952c631f2c911b8a2a8ca56ea6e656309a83d2f64c...</td>\n",
       "      <td>0.117010</td>\n",
       "    </tr>\n",
       "    <tr>\n",
       "      <th>924617</th>\n",
       "      <td>ffffcf5df59e5e0bba2a5ac4578a34e2b5aa64a1546cd3...</td>\n",
       "      <td>0.670619</td>\n",
       "    </tr>\n",
       "    <tr>\n",
       "      <th>924618</th>\n",
       "      <td>ffffd61f098cc056dbd7d2a21380c4804bbfe60856f475...</td>\n",
       "      <td>0.302851</td>\n",
       "    </tr>\n",
       "    <tr>\n",
       "      <th>924619</th>\n",
       "      <td>ffffddef1fc3643ea179c93245b68dca0f36941cd83977...</td>\n",
       "      <td>0.410809</td>\n",
       "    </tr>\n",
       "    <tr>\n",
       "      <th>924620</th>\n",
       "      <td>fffffa7cf7e453e1acc6a1426475d5cb9400859f82ff61...</td>\n",
       "      <td>0.106177</td>\n",
       "    </tr>\n",
       "  </tbody>\n",
       "</table>\n",
       "<p>924621 rows × 2 columns</p>\n",
       "</div>"
      ],
      "text/plain": [
       "                                              customer_ID  prediction\n",
       "0       00000469ba478561f23a92a868bd366de6f6527a684c9a...    0.034890\n",
       "1       00001bf2e77ff879fab36aa4fac689b9ba411dae63ae39...    0.008884\n",
       "2       0000210045da4f81e5f122c6bde5c2a617d03eef67f82c...    0.048200\n",
       "3       00003b41e58ede33b8daf61ab56d9952f17c9ad1c3976c...    0.337402\n",
       "4       00004b22eaeeeb0ec976890c1d9bfc14fd9427e98c4ee9...    0.840858\n",
       "...                                                   ...         ...\n",
       "924616  ffff952c631f2c911b8a2a8ca56ea6e656309a83d2f64c...    0.117010\n",
       "924617  ffffcf5df59e5e0bba2a5ac4578a34e2b5aa64a1546cd3...    0.670619\n",
       "924618  ffffd61f098cc056dbd7d2a21380c4804bbfe60856f475...    0.302851\n",
       "924619  ffffddef1fc3643ea179c93245b68dca0f36941cd83977...    0.410809\n",
       "924620  fffffa7cf7e453e1acc6a1426475d5cb9400859f82ff61...    0.106177\n",
       "\n",
       "[924621 rows x 2 columns]"
      ]
     },
     "execution_count": 19,
     "metadata": {},
     "output_type": "execute_result"
    }
   ],
   "source": [
    "res_df"
   ]
  },
  {
   "cell_type": "code",
   "execution_count": 20,
   "id": "75fa7c0f",
   "metadata": {},
   "outputs": [],
   "source": [
    "res_df.to_csv(\"logisticRegression_predictions1.csv\", index = False)"
   ]
  }
 ],
 "metadata": {
  "kernelspec": {
   "display_name": "Python 3 (ipykernel)",
   "language": "python",
   "name": "python3"
  },
  "language_info": {
   "codemirror_mode": {
    "name": "ipython",
    "version": 3
   },
   "file_extension": ".py",
   "mimetype": "text/x-python",
   "name": "python",
   "nbconvert_exporter": "python",
   "pygments_lexer": "ipython3",
   "version": "3.9.7"
  }
 },
 "nbformat": 4,
 "nbformat_minor": 5
}
