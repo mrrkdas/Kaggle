{
 "cells": [
  {
   "cell_type": "code",
   "execution_count": 1,
   "id": "a5ff84de",
   "metadata": {},
   "outputs": [],
   "source": [
    "import sklearn\n",
    "import numpy as np\n",
    "import pandas as pd\n",
    "import tensorflow as tf\n",
    "import matplotlib.pyplot as plt"
   ]
  },
  {
   "cell_type": "markdown",
   "id": "deafcc74",
   "metadata": {},
   "source": [
    "### We load in the data using all the columns, and we delete the outliers"
   ]
  },
  {
   "cell_type": "code",
   "execution_count": 2,
   "id": "e251dc32",
   "metadata": {},
   "outputs": [],
   "source": [
    "# The columns that we will use \n",
    "X_cols = ['S_2', 'P_2', 'D_39', 'B_1', 'B_2', 'R_1', 'S_3', 'D_41', 'B_3', 'D_42', 'D_43', 'D_44', 'B_4', 'D_45', 'B_5', 'R_2', 'D_46', 'D_47', 'D_48', 'D_49', 'B_6', 'B_7', 'B_8', 'D_50', 'D_51', 'B_9', 'R_3', 'D_52', 'P_3', 'B_10', 'D_53', 'S_5', 'B_11', 'S_6', 'D_54', 'R_4', 'S_7', 'B_12', 'S_8', 'D_55', 'D_56', 'B_13', 'R_5', 'D_58', 'S_9', 'B_14', 'D_59', 'D_60', 'D_61', 'B_15', 'S_11', 'D_62', 'D_63', 'D_64', 'D_65', 'B_16', 'B_17', 'B_18', 'B_19', 'D_66', 'B_20', 'D_68', 'S_12', 'R_6', 'S_13', 'B_21', 'D_69', 'B_22', 'D_70', 'D_71', 'D_72', 'S_15', 'B_23', 'D_73', 'P_4', 'D_74', 'D_75', 'D_76', 'B_24', 'R_7', 'D_77', 'B_25', 'B_26', 'D_78', 'D_79', 'R_8', 'R_9', 'S_16', 'D_80', 'R_10', 'R_11', 'B_27', 'D_81', 'D_82', 'S_17', 'R_12', 'B_28', 'R_13', 'D_83', 'R_14', 'R_15', 'D_84', 'R_16', 'B_29', 'B_30', 'S_18', 'D_86', 'D_87', 'R_17', 'R_18', 'D_88', 'B_31', 'S_19', 'R_19', 'B_32', 'S_20', 'R_20', 'R_21', 'B_33', 'D_89', 'R_22', 'R_23', 'D_91', 'D_92', 'D_93', 'D_94', 'R_24', 'R_25', 'D_96', 'S_22', 'S_23', 'S_24', 'S_25', 'S_26', 'D_102', 'D_103', 'D_104', 'D_105', 'D_106', 'D_107', 'B_36', 'B_37', 'R_26', 'R_27', 'B_38', 'D_108', 'D_109', 'D_110', 'D_111', 'B_39', 'D_112', 'B_40', 'S_27', 'D_113', 'D_114', 'D_115', 'D_116', 'D_117', 'D_118', 'D_119', 'D_120', 'D_121', 'D_122', 'D_123', 'D_124', 'D_125', 'D_126', 'D_127', 'D_128', 'D_129', 'B_41', 'B_42', 'D_130', 'D_131', 'D_132', 'D_133', 'R_28', 'D_134', 'D_135', 'D_136', 'D_137', 'D_138', 'D_139', 'D_140', 'D_141', 'D_142', 'D_143', 'D_144', 'D_145']"
   ]
  },
  {
   "cell_type": "code",
   "execution_count": 3,
   "id": "0d18cb9a",
   "metadata": {},
   "outputs": [],
   "source": [
    "# The columns that are outliers\n",
    "get_rid_of_columns = ['B_5','D_49','B_6','D_50', 'S_5','B_12', 'B_13','D_65', 'S_12','D_69',\n",
    "                    'B_26','B_27','R_14', 'R_18','S_23','S_26','D_106', 'B_40','D_123'] "
   ]
  },
  {
   "cell_type": "code",
   "execution_count": 4,
   "id": "cedf357c",
   "metadata": {},
   "outputs": [],
   "source": [
    "# The columns that we will not use \n",
    "not_use_columns = ['S_2','B_30','B_38','D_114','D_116','D_117','D_120','D_126','D_63','D_64','D_66','D_68']"
   ]
  },
  {
   "cell_type": "code",
   "execution_count": 5,
   "id": "98e8d81c",
   "metadata": {},
   "outputs": [],
   "source": [
    "# For loop for removing the columns\n",
    "for removing in get_rid_of_columns:\n",
    "    X_cols.remove(removing)"
   ]
  },
  {
   "cell_type": "code",
   "execution_count": 6,
   "id": "3732f2ea",
   "metadata": {},
   "outputs": [],
   "source": [
    "# For loop for removing columns that we will not need\n",
    "for removing_ in not_use_columns:\n",
    "    X_cols.remove(removing_)"
   ]
  },
  {
   "cell_type": "code",
   "execution_count": 7,
   "id": "091307fc",
   "metadata": {},
   "outputs": [
    {
     "data": {
      "text/plain": [
       "158"
      ]
     },
     "execution_count": 7,
     "metadata": {},
     "output_type": "execute_result"
    }
   ],
   "source": [
    "len(X_cols) # We have removed 31 colums which is not_use_columns + get_rid_of_columns length"
   ]
  },
  {
   "cell_type": "markdown",
   "id": "7a81bc6b",
   "metadata": {},
   "source": [
    "### We will now load in the data"
   ]
  },
  {
   "cell_type": "code",
   "execution_count": 8,
   "id": "670c43c7",
   "metadata": {},
   "outputs": [
    {
     "name": "stdout",
     "output_type": "stream",
     "text": [
      "(1000000, 159)\n",
      "(2000000, 159)\n",
      "(3000000, 159)\n",
      "(4000000, 159)\n",
      "(5000000, 159)\n",
      "(5531451, 159)\n"
     ]
    }
   ],
   "source": [
    "chunksize = 1000000 # How much of the data to load in\n",
    "\n",
    "# Load in using X_cols and customer_ID\n",
    "train_df_iter = pd.read_csv(\"train_data.csv\", chunksize=chunksize, usecols=[\"customer_ID\"] + X_cols)\n",
    "\n",
    "\n",
    "train_df = pd.DataFrame()\n",
    "for i_chunk, chunk in enumerate(train_df_iter): # i_chunk is the index of the chunk, and chunk is the actual data\n",
    "    train_df = pd.concat([train_df, chunk]) # adding it to train_df which is an empty dataframe\n",
    "    print(train_df.shape)"
   ]
  },
  {
   "cell_type": "code",
   "execution_count": 9,
   "id": "2c662c76",
   "metadata": {},
   "outputs": [],
   "source": [
    "train_df_labels = pd.read_csv(\"train_labels.csv\")"
   ]
  },
  {
   "cell_type": "markdown",
   "id": "76506ac0",
   "metadata": {},
   "source": [
    "##### Light EDA"
   ]
  },
  {
   "cell_type": "code",
   "execution_count": 10,
   "id": "37e92858",
   "metadata": {},
   "outputs": [
    {
     "data": {
      "text/html": [
       "<div>\n",
       "<style scoped>\n",
       "    .dataframe tbody tr th:only-of-type {\n",
       "        vertical-align: middle;\n",
       "    }\n",
       "\n",
       "    .dataframe tbody tr th {\n",
       "        vertical-align: top;\n",
       "    }\n",
       "\n",
       "    .dataframe thead th {\n",
       "        text-align: right;\n",
       "    }\n",
       "</style>\n",
       "<table border=\"1\" class=\"dataframe\">\n",
       "  <thead>\n",
       "    <tr style=\"text-align: right;\">\n",
       "      <th></th>\n",
       "      <th>P_2</th>\n",
       "      <th>D_39</th>\n",
       "      <th>B_1</th>\n",
       "      <th>B_2</th>\n",
       "      <th>R_1</th>\n",
       "      <th>S_3</th>\n",
       "      <th>D_41</th>\n",
       "      <th>B_3</th>\n",
       "      <th>D_42</th>\n",
       "      <th>D_43</th>\n",
       "      <th>...</th>\n",
       "      <th>D_136</th>\n",
       "      <th>D_137</th>\n",
       "      <th>D_138</th>\n",
       "      <th>D_139</th>\n",
       "      <th>D_140</th>\n",
       "      <th>D_141</th>\n",
       "      <th>D_142</th>\n",
       "      <th>D_143</th>\n",
       "      <th>D_144</th>\n",
       "      <th>D_145</th>\n",
       "    </tr>\n",
       "  </thead>\n",
       "  <tbody>\n",
       "    <tr>\n",
       "      <th>count</th>\n",
       "      <td>5.485466e+06</td>\n",
       "      <td>5.531451e+06</td>\n",
       "      <td>5.531451e+06</td>\n",
       "      <td>5.529435e+06</td>\n",
       "      <td>5.531451e+06</td>\n",
       "      <td>4.510907e+06</td>\n",
       "      <td>5.529435e+06</td>\n",
       "      <td>5.529435e+06</td>\n",
       "      <td>791314.000000</td>\n",
       "      <td>3.873055e+06</td>\n",
       "      <td>...</td>\n",
       "      <td>1.946990e+05</td>\n",
       "      <td>1.946990e+05</td>\n",
       "      <td>1.946990e+05</td>\n",
       "      <td>5.429903e+06</td>\n",
       "      <td>5.490819e+06</td>\n",
       "      <td>5.429903e+06</td>\n",
       "      <td>944408.000000</td>\n",
       "      <td>5.429903e+06</td>\n",
       "      <td>5.490724e+06</td>\n",
       "      <td>5.429903e+06</td>\n",
       "    </tr>\n",
       "    <tr>\n",
       "      <th>mean</th>\n",
       "      <td>6.563340e-01</td>\n",
       "      <td>1.531172e-01</td>\n",
       "      <td>1.240100e-01</td>\n",
       "      <td>6.214887e-01</td>\n",
       "      <td>7.880270e-02</td>\n",
       "      <td>2.258455e-01</td>\n",
       "      <td>5.978469e-02</td>\n",
       "      <td>1.325389e-01</td>\n",
       "      <td>0.184974</td>\n",
       "      <td>1.546841e-01</td>\n",
       "      <td>...</td>\n",
       "      <td>2.427725e-01</td>\n",
       "      <td>1.424409e-02</td>\n",
       "      <td>1.646183e-01</td>\n",
       "      <td>1.789305e-01</td>\n",
       "      <td>2.664348e-02</td>\n",
       "      <td>1.645212e-01</td>\n",
       "      <td>0.390799</td>\n",
       "      <td>1.788022e-01</td>\n",
       "      <td>5.238952e-02</td>\n",
       "      <td>6.233496e-02</td>\n",
       "    </tr>\n",
       "    <tr>\n",
       "      <th>std</th>\n",
       "      <td>2.446494e-01</td>\n",
       "      <td>2.700709e-01</td>\n",
       "      <td>2.119869e-01</td>\n",
       "      <td>4.014877e-01</td>\n",
       "      <td>2.263971e-01</td>\n",
       "      <td>1.933475e-01</td>\n",
       "      <td>2.025443e-01</td>\n",
       "      <td>2.349929e-01</td>\n",
       "      <td>0.228185</td>\n",
       "      <td>2.133977e-01</td>\n",
       "      <td>...</td>\n",
       "      <td>2.101320e-01</td>\n",
       "      <td>9.571115e-02</td>\n",
       "      <td>2.670208e-01</td>\n",
       "      <td>3.790614e-01</td>\n",
       "      <td>1.455480e-01</td>\n",
       "      <td>3.482771e-01</td>\n",
       "      <td>0.236182</td>\n",
       "      <td>3.789498e-01</td>\n",
       "      <td>1.825135e-01</td>\n",
       "      <td>1.934937e-01</td>\n",
       "    </tr>\n",
       "    <tr>\n",
       "      <th>min</th>\n",
       "      <td>-4.589548e-01</td>\n",
       "      <td>5.026190e-09</td>\n",
       "      <td>-7.588799e+00</td>\n",
       "      <td>9.192280e-09</td>\n",
       "      <td>1.534223e-09</td>\n",
       "      <td>-6.271320e-01</td>\n",
       "      <td>5.566545e-10</td>\n",
       "      <td>6.285293e-09</td>\n",
       "      <td>-0.000454</td>\n",
       "      <td>1.154550e-07</td>\n",
       "      <td>...</td>\n",
       "      <td>6.316773e-08</td>\n",
       "      <td>1.078787e-08</td>\n",
       "      <td>3.307923e-08</td>\n",
       "      <td>3.767347e-10</td>\n",
       "      <td>3.725073e-09</td>\n",
       "      <td>1.650100e-10</td>\n",
       "      <td>-0.014539</td>\n",
       "      <td>5.549692e-09</td>\n",
       "      <td>2.500991e-09</td>\n",
       "      <td>1.226024e-09</td>\n",
       "    </tr>\n",
       "    <tr>\n",
       "      <th>25%</th>\n",
       "      <td>4.803307e-01</td>\n",
       "      <td>4.528464e-03</td>\n",
       "      <td>8.863645e-03</td>\n",
       "      <td>1.053313e-01</td>\n",
       "      <td>2.895934e-03</td>\n",
       "      <td>1.272588e-01</td>\n",
       "      <td>2.873244e-03</td>\n",
       "      <td>5.227570e-03</td>\n",
       "      <td>0.037516</td>\n",
       "      <td>4.227546e-02</td>\n",
       "      <td>...</td>\n",
       "      <td>9.314305e-03</td>\n",
       "      <td>2.532470e-03</td>\n",
       "      <td>3.517452e-03</td>\n",
       "      <td>3.027212e-03</td>\n",
       "      <td>2.555848e-03</td>\n",
       "      <td>3.026087e-03</td>\n",
       "      <td>0.199399</td>\n",
       "      <td>3.028116e-03</td>\n",
       "      <td>2.752896e-03</td>\n",
       "      <td>3.028347e-03</td>\n",
       "    </tr>\n",
       "    <tr>\n",
       "      <th>50%</th>\n",
       "      <td>6.942950e-01</td>\n",
       "      <td>9.056902e-03</td>\n",
       "      <td>3.132968e-02</td>\n",
       "      <td>8.143328e-01</td>\n",
       "      <td>5.782230e-03</td>\n",
       "      <td>1.639082e-01</td>\n",
       "      <td>5.746725e-03</td>\n",
       "      <td>9.777230e-03</td>\n",
       "      <td>0.120519</td>\n",
       "      <td>8.851245e-02</td>\n",
       "      <td>...</td>\n",
       "      <td>2.539468e-01</td>\n",
       "      <td>5.069830e-03</td>\n",
       "      <td>7.037814e-03</td>\n",
       "      <td>6.053010e-03</td>\n",
       "      <td>5.110523e-03</td>\n",
       "      <td>6.051590e-03</td>\n",
       "      <td>0.382136</td>\n",
       "      <td>6.053151e-03</td>\n",
       "      <td>5.508129e-03</td>\n",
       "      <td>6.053248e-03</td>\n",
       "    </tr>\n",
       "    <tr>\n",
       "      <th>75%</th>\n",
       "      <td>8.648159e-01</td>\n",
       "      <td>2.366407e-01</td>\n",
       "      <td>1.259019e-01</td>\n",
       "      <td>1.002403e+00</td>\n",
       "      <td>8.660590e-03</td>\n",
       "      <td>2.581017e-01</td>\n",
       "      <td>8.615665e-03</td>\n",
       "      <td>1.550507e-01</td>\n",
       "      <td>0.250869</td>\n",
       "      <td>1.843206e-01</td>\n",
       "      <td>...</td>\n",
       "      <td>2.582450e-01</td>\n",
       "      <td>7.573434e-03</td>\n",
       "      <td>5.015468e-01</td>\n",
       "      <td>9.080455e-03</td>\n",
       "      <td>7.663697e-03</td>\n",
       "      <td>9.078915e-03</td>\n",
       "      <td>0.559308</td>\n",
       "      <td>9.076287e-03</td>\n",
       "      <td>8.260447e-03</td>\n",
       "      <td>9.080930e-03</td>\n",
       "    </tr>\n",
       "    <tr>\n",
       "      <th>max</th>\n",
       "      <td>1.010000e+00</td>\n",
       "      <td>5.389619e+00</td>\n",
       "      <td>1.324060e+00</td>\n",
       "      <td>1.010000e+00</td>\n",
       "      <td>3.256284e+00</td>\n",
       "      <td>5.482888e+00</td>\n",
       "      <td>8.988807e+00</td>\n",
       "      <td>1.625262e+00</td>\n",
       "      <td>4.191119</td>\n",
       "      <td>1.011162e+01</td>\n",
       "      <td>...</td>\n",
       "      <td>1.759910e+00</td>\n",
       "      <td>1.009998e+00</td>\n",
       "      <td>3.005383e+00</td>\n",
       "      <td>1.010000e+00</td>\n",
       "      <td>1.010000e+00</td>\n",
       "      <td>1.339910e+00</td>\n",
       "      <td>2.229368</td>\n",
       "      <td>1.010000e+00</td>\n",
       "      <td>1.343331e+00</td>\n",
       "      <td>4.827630e+00</td>\n",
       "    </tr>\n",
       "  </tbody>\n",
       "</table>\n",
       "<p>8 rows × 158 columns</p>\n",
       "</div>"
      ],
      "text/plain": [
       "                P_2          D_39           B_1           B_2           R_1  \\\n",
       "count  5.485466e+06  5.531451e+06  5.531451e+06  5.529435e+06  5.531451e+06   \n",
       "mean   6.563340e-01  1.531172e-01  1.240100e-01  6.214887e-01  7.880270e-02   \n",
       "std    2.446494e-01  2.700709e-01  2.119869e-01  4.014877e-01  2.263971e-01   \n",
       "min   -4.589548e-01  5.026190e-09 -7.588799e+00  9.192280e-09  1.534223e-09   \n",
       "25%    4.803307e-01  4.528464e-03  8.863645e-03  1.053313e-01  2.895934e-03   \n",
       "50%    6.942950e-01  9.056902e-03  3.132968e-02  8.143328e-01  5.782230e-03   \n",
       "75%    8.648159e-01  2.366407e-01  1.259019e-01  1.002403e+00  8.660590e-03   \n",
       "max    1.010000e+00  5.389619e+00  1.324060e+00  1.010000e+00  3.256284e+00   \n",
       "\n",
       "                S_3          D_41           B_3           D_42          D_43  \\\n",
       "count  4.510907e+06  5.529435e+06  5.529435e+06  791314.000000  3.873055e+06   \n",
       "mean   2.258455e-01  5.978469e-02  1.325389e-01       0.184974  1.546841e-01   \n",
       "std    1.933475e-01  2.025443e-01  2.349929e-01       0.228185  2.133977e-01   \n",
       "min   -6.271320e-01  5.566545e-10  6.285293e-09      -0.000454  1.154550e-07   \n",
       "25%    1.272588e-01  2.873244e-03  5.227570e-03       0.037516  4.227546e-02   \n",
       "50%    1.639082e-01  5.746725e-03  9.777230e-03       0.120519  8.851245e-02   \n",
       "75%    2.581017e-01  8.615665e-03  1.550507e-01       0.250869  1.843206e-01   \n",
       "max    5.482888e+00  8.988807e+00  1.625262e+00       4.191119  1.011162e+01   \n",
       "\n",
       "       ...         D_136         D_137         D_138         D_139  \\\n",
       "count  ...  1.946990e+05  1.946990e+05  1.946990e+05  5.429903e+06   \n",
       "mean   ...  2.427725e-01  1.424409e-02  1.646183e-01  1.789305e-01   \n",
       "std    ...  2.101320e-01  9.571115e-02  2.670208e-01  3.790614e-01   \n",
       "min    ...  6.316773e-08  1.078787e-08  3.307923e-08  3.767347e-10   \n",
       "25%    ...  9.314305e-03  2.532470e-03  3.517452e-03  3.027212e-03   \n",
       "50%    ...  2.539468e-01  5.069830e-03  7.037814e-03  6.053010e-03   \n",
       "75%    ...  2.582450e-01  7.573434e-03  5.015468e-01  9.080455e-03   \n",
       "max    ...  1.759910e+00  1.009998e+00  3.005383e+00  1.010000e+00   \n",
       "\n",
       "              D_140         D_141          D_142         D_143         D_144  \\\n",
       "count  5.490819e+06  5.429903e+06  944408.000000  5.429903e+06  5.490724e+06   \n",
       "mean   2.664348e-02  1.645212e-01       0.390799  1.788022e-01  5.238952e-02   \n",
       "std    1.455480e-01  3.482771e-01       0.236182  3.789498e-01  1.825135e-01   \n",
       "min    3.725073e-09  1.650100e-10      -0.014539  5.549692e-09  2.500991e-09   \n",
       "25%    2.555848e-03  3.026087e-03       0.199399  3.028116e-03  2.752896e-03   \n",
       "50%    5.110523e-03  6.051590e-03       0.382136  6.053151e-03  5.508129e-03   \n",
       "75%    7.663697e-03  9.078915e-03       0.559308  9.076287e-03  8.260447e-03   \n",
       "max    1.010000e+00  1.339910e+00       2.229368  1.010000e+00  1.343331e+00   \n",
       "\n",
       "              D_145  \n",
       "count  5.429903e+06  \n",
       "mean   6.233496e-02  \n",
       "std    1.934937e-01  \n",
       "min    1.226024e-09  \n",
       "25%    3.028347e-03  \n",
       "50%    6.053248e-03  \n",
       "75%    9.080930e-03  \n",
       "max    4.827630e+00  \n",
       "\n",
       "[8 rows x 158 columns]"
      ]
     },
     "execution_count": 10,
     "metadata": {},
     "output_type": "execute_result"
    }
   ],
   "source": [
    "train_df.describe()"
   ]
  },
  {
   "cell_type": "code",
   "execution_count": 11,
   "id": "b34a2c7f",
   "metadata": {},
   "outputs": [
    {
     "data": {
      "text/plain": [
       "(array([5.458903e+06, 5.980000e+04, 8.737000e+03, 1.491000e+03,\n",
       "        3.390000e+02, 1.140000e+02, 2.800000e+01, 1.700000e+01,\n",
       "        5.000000e+00, 1.000000e+00]),\n",
       " array([5.56654507e-10, 8.98880704e-01, 1.79776141e+00, 2.69664211e+00,\n",
       "        3.59552281e+00, 4.49440352e+00, 5.39328422e+00, 6.29216492e+00,\n",
       "        7.19104563e+00, 8.08992633e+00, 8.98880703e+00]),\n",
       " <BarContainer object of 10 artists>)"
      ]
     },
     "execution_count": 11,
     "metadata": {},
     "output_type": "execute_result"
    },
    {
     "data": {
      "image/png": "[encoded data removed]",
      "text/plain": [
       "<Figure size 432x288 with 1 Axes>"
      ]
     },
     "metadata": {
      "needs_background": "light"
     },
     "output_type": "display_data"
    }
   ],
   "source": [
    "plt.hist(train_df[\"D_41\"]) # The D_ have majority positive numbers"
   ]
  },
  {
   "cell_type": "code",
   "execution_count": 12,
   "id": "ad6b4228",
   "metadata": {},
   "outputs": [
    {
     "data": {
      "text/plain": [
       "(array([2.260000e+02, 6.079000e+03, 3.795900e+04, 1.002180e+05,\n",
       "        2.581140e+05, 6.366660e+05, 8.808930e+05, 9.694700e+05,\n",
       "        1.207461e+06, 1.388380e+06]),\n",
       " array([-0.45895483, -0.31205936, -0.16516388, -0.0182684 ,  0.12862708,\n",
       "         0.27552256,  0.42241804,  0.56931351,  0.71620899,  0.86310447,\n",
       "         1.00999995]),\n",
       " <BarContainer object of 10 artists>)"
      ]
     },
     "execution_count": 12,
     "metadata": {},
     "output_type": "execute_result"
    },
    {
     "data": {
      "image/png": "[encoded data removed]",
      "text/plain": [
       "<Figure size 432x288 with 1 Axes>"
      ]
     },
     "metadata": {
      "needs_background": "light"
     },
     "output_type": "display_data"
    }
   ],
   "source": [
    "plt.hist(train_df[\"P_2\"]) # The P_ (spending) are majority increasing and a steady rate"
   ]
  },
  {
   "cell_type": "code",
   "execution_count": 13,
   "id": "4972210c",
   "metadata": {},
   "outputs": [
    {
     "data": {
      "text/plain": [
       "(array([1.000000e+00, 0.000000e+00, 0.000000e+00, 0.000000e+00,\n",
       "        1.000000e+00, 0.000000e+00, 4.000000e+00, 3.500000e+01,\n",
       "        5.037944e+06, 4.934660e+05]),\n",
       " array([-7.5887991 , -6.69751315, -5.8062272 , -4.91494125, -4.0236553 ,\n",
       "        -3.13236935, -2.2410834 , -1.34979745, -0.4585115 ,  0.43277445,\n",
       "         1.3240604 ]),\n",
       " <BarContainer object of 10 artists>)"
      ]
     },
     "execution_count": 13,
     "metadata": {},
     "output_type": "execute_result"
    },
    {
     "data": {
      "image/png": "[encoded data removed]",
      "text/plain": [
       "<Figure size 432x288 with 1 Axes>"
      ]
     },
     "metadata": {
      "needs_background": "light"
     },
     "output_type": "display_data"
    }
   ],
   "source": [
    "plt.hist(train_df[\"B_1\"]) # Between -1 and 1"
   ]
  },
  {
   "cell_type": "markdown",
   "id": "a6930dbc",
   "metadata": {},
   "source": [
    "### We will join the data with the labels and make it smaller by using the .groupby().last().reset_index()"
   ]
  },
  {
   "cell_type": "code",
   "execution_count": 14,
   "id": "9a9d4dbf",
   "metadata": {},
   "outputs": [],
   "source": [
    "train_df = train_df.groupby(\"customer_ID\")[X_cols].last().reset_index() # reset the index from (5531451, 159) to (458913, 159)"
   ]
  },
  {
   "cell_type": "code",
   "execution_count": 15,
   "id": "577447c3",
   "metadata": {},
   "outputs": [
    {
     "data": {
      "text/plain": [
       "(458913, 159)"
      ]
     },
     "execution_count": 15,
     "metadata": {},
     "output_type": "execute_result"
    }
   ],
   "source": [
    "train_df.shape"
   ]
  },
  {
   "cell_type": "code",
   "execution_count": 16,
   "id": "c62eec7d",
   "metadata": {},
   "outputs": [
    {
     "data": {
      "text/plain": [
       "(458913, 2)"
      ]
     },
     "execution_count": 16,
     "metadata": {},
     "output_type": "execute_result"
    }
   ],
   "source": [
    "train_df_labels.shape"
   ]
  },
  {
   "cell_type": "code",
   "execution_count": 17,
   "id": "11285fc1",
   "metadata": {},
   "outputs": [
    {
     "name": "stdout",
     "output_type": "stream",
     "text": [
      "Before fillna customer_ID         0\n",
      "P_2              2434\n",
      "D_39                0\n",
      "B_1                 0\n",
      "B_2                31\n",
      "                ...  \n",
      "D_141            2532\n",
      "D_142          373333\n",
      "D_143            2532\n",
      "D_144               0\n",
      "D_145            2532\n",
      "Length: 159, dtype: int64\n",
      "After fillna customer_ID    0\n",
      "P_2            0\n",
      "D_39           0\n",
      "B_1            0\n",
      "B_2            0\n",
      "              ..\n",
      "D_141          0\n",
      "D_142          0\n",
      "D_143          0\n",
      "D_144          0\n",
      "D_145          0\n",
      "Length: 159, dtype: int64\n"
     ]
    }
   ],
   "source": [
    "# fill in the NaN values\n",
    "\n",
    "print(f\"Before fillna {train_df.isna().sum()}\")\n",
    "# Hard fillna (CHECK IF RESULTS ARE BAD)\n",
    "train_df.fillna(0, inplace = True)\n",
    "\n",
    "print(f\"After fillna {train_df.isna().sum()}\")"
   ]
  },
  {
   "cell_type": "code",
   "execution_count": 18,
   "id": "3e4292e3",
   "metadata": {},
   "outputs": [],
   "source": [
    "# merging the data\n",
    "train_df = pd.merge(train_df, train_df_labels, on=\"customer_ID\", how=\"left\")"
   ]
  },
  {
   "cell_type": "code",
   "execution_count": 19,
   "id": "b3838b83",
   "metadata": {},
   "outputs": [
    {
     "data": {
      "text/html": [
       "<div>\n",
       "<style scoped>\n",
       "    .dataframe tbody tr th:only-of-type {\n",
       "        vertical-align: middle;\n",
       "    }\n",
       "\n",
       "    .dataframe tbody tr th {\n",
       "        vertical-align: top;\n",
       "    }\n",
       "\n",
       "    .dataframe thead th {\n",
       "        text-align: right;\n",
       "    }\n",
       "</style>\n",
       "<table border=\"1\" class=\"dataframe\">\n",
       "  <thead>\n",
       "    <tr style=\"text-align: right;\">\n",
       "      <th></th>\n",
       "      <th>customer_ID</th>\n",
       "      <th>P_2</th>\n",
       "      <th>D_39</th>\n",
       "      <th>B_1</th>\n",
       "      <th>B_2</th>\n",
       "      <th>R_1</th>\n",
       "      <th>S_3</th>\n",
       "      <th>D_41</th>\n",
       "      <th>B_3</th>\n",
       "      <th>D_42</th>\n",
       "      <th>...</th>\n",
       "      <th>D_137</th>\n",
       "      <th>D_138</th>\n",
       "      <th>D_139</th>\n",
       "      <th>D_140</th>\n",
       "      <th>D_141</th>\n",
       "      <th>D_142</th>\n",
       "      <th>D_143</th>\n",
       "      <th>D_144</th>\n",
       "      <th>D_145</th>\n",
       "      <th>target</th>\n",
       "    </tr>\n",
       "  </thead>\n",
       "  <tbody>\n",
       "    <tr>\n",
       "      <th>0</th>\n",
       "      <td>0000099d6bd597052cdcda90ffabf56573fe9d7c79be5f...</td>\n",
       "      <td>0.934745</td>\n",
       "      <td>0.009119</td>\n",
       "      <td>0.009382</td>\n",
       "      <td>1.007647</td>\n",
       "      <td>0.006104</td>\n",
       "      <td>0.135021</td>\n",
       "      <td>0.001604</td>\n",
       "      <td>0.007174</td>\n",
       "      <td>0.0</td>\n",
       "      <td>...</td>\n",
       "      <td>0.0</td>\n",
       "      <td>0.0</td>\n",
       "      <td>0.007186</td>\n",
       "      <td>0.004234</td>\n",
       "      <td>0.005086</td>\n",
       "      <td>0.000000</td>\n",
       "      <td>0.005810</td>\n",
       "      <td>0.002970</td>\n",
       "      <td>0.008533</td>\n",
       "      <td>0</td>\n",
       "    </tr>\n",
       "    <tr>\n",
       "      <th>1</th>\n",
       "      <td>00000fd6641609c6ece5454664794f0340ad84dddce9a2...</td>\n",
       "      <td>0.880519</td>\n",
       "      <td>0.178126</td>\n",
       "      <td>0.034684</td>\n",
       "      <td>1.004028</td>\n",
       "      <td>0.006911</td>\n",
       "      <td>0.165509</td>\n",
       "      <td>0.005552</td>\n",
       "      <td>0.005068</td>\n",
       "      <td>0.0</td>\n",
       "      <td>...</td>\n",
       "      <td>0.0</td>\n",
       "      <td>0.0</td>\n",
       "      <td>0.002980</td>\n",
       "      <td>0.007479</td>\n",
       "      <td>0.007870</td>\n",
       "      <td>0.000000</td>\n",
       "      <td>0.003284</td>\n",
       "      <td>0.003169</td>\n",
       "      <td>0.008514</td>\n",
       "      <td>0</td>\n",
       "    </tr>\n",
       "    <tr>\n",
       "      <th>2</th>\n",
       "      <td>00001b22f846c82c51f6e3958ccd81970162bae8b007e8...</td>\n",
       "      <td>0.880875</td>\n",
       "      <td>0.009704</td>\n",
       "      <td>0.004284</td>\n",
       "      <td>0.812650</td>\n",
       "      <td>0.006450</td>\n",
       "      <td>0.000000</td>\n",
       "      <td>0.003796</td>\n",
       "      <td>0.007196</td>\n",
       "      <td>0.0</td>\n",
       "      <td>...</td>\n",
       "      <td>0.0</td>\n",
       "      <td>0.0</td>\n",
       "      <td>0.007383</td>\n",
       "      <td>0.006623</td>\n",
       "      <td>0.000964</td>\n",
       "      <td>0.000000</td>\n",
       "      <td>0.002202</td>\n",
       "      <td>0.000834</td>\n",
       "      <td>0.003444</td>\n",
       "      <td>0</td>\n",
       "    </tr>\n",
       "    <tr>\n",
       "      <th>3</th>\n",
       "      <td>000041bdba6ecadd89a52d11886e8eaaec9325906c9723...</td>\n",
       "      <td>0.621776</td>\n",
       "      <td>0.001083</td>\n",
       "      <td>0.012564</td>\n",
       "      <td>1.006183</td>\n",
       "      <td>0.007829</td>\n",
       "      <td>0.287766</td>\n",
       "      <td>0.004532</td>\n",
       "      <td>0.009937</td>\n",
       "      <td>0.0</td>\n",
       "      <td>...</td>\n",
       "      <td>0.0</td>\n",
       "      <td>0.0</td>\n",
       "      <td>0.002704</td>\n",
       "      <td>0.006184</td>\n",
       "      <td>0.001899</td>\n",
       "      <td>0.000000</td>\n",
       "      <td>0.008183</td>\n",
       "      <td>0.005560</td>\n",
       "      <td>0.002983</td>\n",
       "      <td>0</td>\n",
       "    </tr>\n",
       "    <tr>\n",
       "      <th>4</th>\n",
       "      <td>00007889e4fcd2614b6cbe7f8f3d2e5c728eca32d9eb8a...</td>\n",
       "      <td>0.871900</td>\n",
       "      <td>0.005573</td>\n",
       "      <td>0.007679</td>\n",
       "      <td>0.815746</td>\n",
       "      <td>0.001247</td>\n",
       "      <td>0.176403</td>\n",
       "      <td>0.000231</td>\n",
       "      <td>0.005528</td>\n",
       "      <td>0.0</td>\n",
       "      <td>...</td>\n",
       "      <td>0.0</td>\n",
       "      <td>0.0</td>\n",
       "      <td>0.002974</td>\n",
       "      <td>0.004162</td>\n",
       "      <td>0.005764</td>\n",
       "      <td>0.000000</td>\n",
       "      <td>0.008154</td>\n",
       "      <td>0.006944</td>\n",
       "      <td>0.000905</td>\n",
       "      <td>0</td>\n",
       "    </tr>\n",
       "    <tr>\n",
       "      <th>...</th>\n",
       "      <td>...</td>\n",
       "      <td>...</td>\n",
       "      <td>...</td>\n",
       "      <td>...</td>\n",
       "      <td>...</td>\n",
       "      <td>...</td>\n",
       "      <td>...</td>\n",
       "      <td>...</td>\n",
       "      <td>...</td>\n",
       "      <td>...</td>\n",
       "      <td>...</td>\n",
       "      <td>...</td>\n",
       "      <td>...</td>\n",
       "      <td>...</td>\n",
       "      <td>...</td>\n",
       "      <td>...</td>\n",
       "      <td>...</td>\n",
       "      <td>...</td>\n",
       "      <td>...</td>\n",
       "      <td>...</td>\n",
       "      <td>...</td>\n",
       "    </tr>\n",
       "    <tr>\n",
       "      <th>458908</th>\n",
       "      <td>ffff41c8a52833b56430603969b9ca48d208e7c192c6a4...</td>\n",
       "      <td>0.844229</td>\n",
       "      <td>0.447585</td>\n",
       "      <td>0.028515</td>\n",
       "      <td>1.009867</td>\n",
       "      <td>0.001928</td>\n",
       "      <td>0.128707</td>\n",
       "      <td>0.003482</td>\n",
       "      <td>0.005893</td>\n",
       "      <td>0.0</td>\n",
       "      <td>...</td>\n",
       "      <td>0.0</td>\n",
       "      <td>0.0</td>\n",
       "      <td>0.007917</td>\n",
       "      <td>0.001520</td>\n",
       "      <td>0.005530</td>\n",
       "      <td>0.000000</td>\n",
       "      <td>0.001430</td>\n",
       "      <td>0.003009</td>\n",
       "      <td>0.004843</td>\n",
       "      <td>0</td>\n",
       "    </tr>\n",
       "    <tr>\n",
       "      <th>458909</th>\n",
       "      <td>ffff518bb2075e4816ee3fe9f3b152c57fc0e6f01bf7fd...</td>\n",
       "      <td>0.831279</td>\n",
       "      <td>0.033670</td>\n",
       "      <td>0.292360</td>\n",
       "      <td>0.055656</td>\n",
       "      <td>0.006953</td>\n",
       "      <td>0.194697</td>\n",
       "      <td>0.005791</td>\n",
       "      <td>0.233078</td>\n",
       "      <td>0.0</td>\n",
       "      <td>...</td>\n",
       "      <td>0.0</td>\n",
       "      <td>0.0</td>\n",
       "      <td>0.004393</td>\n",
       "      <td>0.006185</td>\n",
       "      <td>0.001480</td>\n",
       "      <td>0.000000</td>\n",
       "      <td>0.004794</td>\n",
       "      <td>0.009230</td>\n",
       "      <td>0.006435</td>\n",
       "      <td>0</td>\n",
       "    </tr>\n",
       "    <tr>\n",
       "      <th>458910</th>\n",
       "      <td>ffff9984b999fccb2b6127635ed0736dda94e544e67e02...</td>\n",
       "      <td>0.800522</td>\n",
       "      <td>0.267018</td>\n",
       "      <td>0.020563</td>\n",
       "      <td>1.007023</td>\n",
       "      <td>0.000957</td>\n",
       "      <td>0.066648</td>\n",
       "      <td>0.007424</td>\n",
       "      <td>0.006314</td>\n",
       "      <td>0.0</td>\n",
       "      <td>...</td>\n",
       "      <td>0.0</td>\n",
       "      <td>0.0</td>\n",
       "      <td>0.006035</td>\n",
       "      <td>0.002869</td>\n",
       "      <td>0.002149</td>\n",
       "      <td>0.000000</td>\n",
       "      <td>0.008031</td>\n",
       "      <td>0.000340</td>\n",
       "      <td>0.002148</td>\n",
       "      <td>0</td>\n",
       "    </tr>\n",
       "    <tr>\n",
       "      <th>458911</th>\n",
       "      <td>ffffa5c46bc8de74f5a4554e74e239c8dee6b9baf38814...</td>\n",
       "      <td>0.754129</td>\n",
       "      <td>0.008619</td>\n",
       "      <td>0.015838</td>\n",
       "      <td>0.714486</td>\n",
       "      <td>0.000993</td>\n",
       "      <td>0.408849</td>\n",
       "      <td>0.003392</td>\n",
       "      <td>0.050048</td>\n",
       "      <td>0.0</td>\n",
       "      <td>...</td>\n",
       "      <td>0.0</td>\n",
       "      <td>0.0</td>\n",
       "      <td>1.009894</td>\n",
       "      <td>0.004478</td>\n",
       "      <td>0.949723</td>\n",
       "      <td>0.446255</td>\n",
       "      <td>1.009310</td>\n",
       "      <td>0.002502</td>\n",
       "      <td>0.185527</td>\n",
       "      <td>1</td>\n",
       "    </tr>\n",
       "    <tr>\n",
       "      <th>458912</th>\n",
       "      <td>fffff1d38b785cef84adeace64f8f83db3a0c31e8d92ea...</td>\n",
       "      <td>0.982175</td>\n",
       "      <td>0.002474</td>\n",
       "      <td>0.000077</td>\n",
       "      <td>0.992880</td>\n",
       "      <td>0.000809</td>\n",
       "      <td>0.119165</td>\n",
       "      <td>0.003287</td>\n",
       "      <td>0.014092</td>\n",
       "      <td>0.0</td>\n",
       "      <td>...</td>\n",
       "      <td>0.0</td>\n",
       "      <td>0.0</td>\n",
       "      <td>0.007316</td>\n",
       "      <td>0.002888</td>\n",
       "      <td>0.006207</td>\n",
       "      <td>0.000000</td>\n",
       "      <td>0.005110</td>\n",
       "      <td>0.003184</td>\n",
       "      <td>0.001914</td>\n",
       "      <td>0</td>\n",
       "    </tr>\n",
       "  </tbody>\n",
       "</table>\n",
       "<p>458913 rows × 160 columns</p>\n",
       "</div>"
      ],
      "text/plain": [
       "                                              customer_ID       P_2      D_39  \\\n",
       "0       0000099d6bd597052cdcda90ffabf56573fe9d7c79be5f...  0.934745  0.009119   \n",
       "1       00000fd6641609c6ece5454664794f0340ad84dddce9a2...  0.880519  0.178126   \n",
       "2       00001b22f846c82c51f6e3958ccd81970162bae8b007e8...  0.880875  0.009704   \n",
       "3       000041bdba6ecadd89a52d11886e8eaaec9325906c9723...  0.621776  0.001083   \n",
       "4       00007889e4fcd2614b6cbe7f8f3d2e5c728eca32d9eb8a...  0.871900  0.005573   \n",
       "...                                                   ...       ...       ...   \n",
       "458908  ffff41c8a52833b56430603969b9ca48d208e7c192c6a4...  0.844229  0.447585   \n",
       "458909  ffff518bb2075e4816ee3fe9f3b152c57fc0e6f01bf7fd...  0.831279  0.033670   \n",
       "458910  ffff9984b999fccb2b6127635ed0736dda94e544e67e02...  0.800522  0.267018   \n",
       "458911  ffffa5c46bc8de74f5a4554e74e239c8dee6b9baf38814...  0.754129  0.008619   \n",
       "458912  fffff1d38b785cef84adeace64f8f83db3a0c31e8d92ea...  0.982175  0.002474   \n",
       "\n",
       "             B_1       B_2       R_1       S_3      D_41       B_3  D_42  ...  \\\n",
       "0       0.009382  1.007647  0.006104  0.135021  0.001604  0.007174   0.0  ...   \n",
       "1       0.034684  1.004028  0.006911  0.165509  0.005552  0.005068   0.0  ...   \n",
       "2       0.004284  0.812650  0.006450  0.000000  0.003796  0.007196   0.0  ...   \n",
       "3       0.012564  1.006183  0.007829  0.287766  0.004532  0.009937   0.0  ...   \n",
       "4       0.007679  0.815746  0.001247  0.176403  0.000231  0.005528   0.0  ...   \n",
       "...          ...       ...       ...       ...       ...       ...   ...  ...   \n",
       "458908  0.028515  1.009867  0.001928  0.128707  0.003482  0.005893   0.0  ...   \n",
       "458909  0.292360  0.055656  0.006953  0.194697  0.005791  0.233078   0.0  ...   \n",
       "458910  0.020563  1.007023  0.000957  0.066648  0.007424  0.006314   0.0  ...   \n",
       "458911  0.015838  0.714486  0.000993  0.408849  0.003392  0.050048   0.0  ...   \n",
       "458912  0.000077  0.992880  0.000809  0.119165  0.003287  0.014092   0.0  ...   \n",
       "\n",
       "        D_137  D_138     D_139     D_140     D_141     D_142     D_143  \\\n",
       "0         0.0    0.0  0.007186  0.004234  0.005086  0.000000  0.005810   \n",
       "1         0.0    0.0  0.002980  0.007479  0.007870  0.000000  0.003284   \n",
       "2         0.0    0.0  0.007383  0.006623  0.000964  0.000000  0.002202   \n",
       "3         0.0    0.0  0.002704  0.006184  0.001899  0.000000  0.008183   \n",
       "4         0.0    0.0  0.002974  0.004162  0.005764  0.000000  0.008154   \n",
       "...       ...    ...       ...       ...       ...       ...       ...   \n",
       "458908    0.0    0.0  0.007917  0.001520  0.005530  0.000000  0.001430   \n",
       "458909    0.0    0.0  0.004393  0.006185  0.001480  0.000000  0.004794   \n",
       "458910    0.0    0.0  0.006035  0.002869  0.002149  0.000000  0.008031   \n",
       "458911    0.0    0.0  1.009894  0.004478  0.949723  0.446255  1.009310   \n",
       "458912    0.0    0.0  0.007316  0.002888  0.006207  0.000000  0.005110   \n",
       "\n",
       "           D_144     D_145  target  \n",
       "0       0.002970  0.008533       0  \n",
       "1       0.003169  0.008514       0  \n",
       "2       0.000834  0.003444       0  \n",
       "3       0.005560  0.002983       0  \n",
       "4       0.006944  0.000905       0  \n",
       "...          ...       ...     ...  \n",
       "458908  0.003009  0.004843       0  \n",
       "458909  0.009230  0.006435       0  \n",
       "458910  0.000340  0.002148       0  \n",
       "458911  0.002502  0.185527       1  \n",
       "458912  0.003184  0.001914       0  \n",
       "\n",
       "[458913 rows x 160 columns]"
      ]
     },
     "execution_count": 19,
     "metadata": {},
     "output_type": "execute_result"
    }
   ],
   "source": [
    "train_df"
   ]
  },
  {
   "cell_type": "markdown",
   "id": "b2c354d1",
   "metadata": {},
   "source": [
    "### We will now train_test_split the data"
   ]
  },
  {
   "cell_type": "code",
   "execution_count": 20,
   "id": "825771e8",
   "metadata": {},
   "outputs": [
    {
     "data": {
      "text/plain": [
       "(158,)"
      ]
     },
     "execution_count": 20,
     "metadata": {},
     "output_type": "execute_result"
    }
   ],
   "source": [
    "# These are the columns that we will use for the training \n",
    "_X_cols = train_df.columns[1:-1] # We get rid of the customer ID and the \n",
    "_X_cols.shape"
   ]
  },
  {
   "cell_type": "code",
   "execution_count": 21,
   "id": "72c4e8f5",
   "metadata": {},
   "outputs": [
    {
     "data": {
      "text/plain": [
       "((321239, 158), (137674, 158), (321239,), (137674,))"
      ]
     },
     "execution_count": 21,
     "metadata": {},
     "output_type": "execute_result"
    }
   ],
   "source": [
    "from sklearn.model_selection import train_test_split\n",
    "\n",
    "X_train, X_test, y_train, y_test = train_test_split(train_df[_X_cols], train_df[\"target\"], test_size = 0.3,\n",
    "                                                   random_state = 42, stratify = train_df[\"target\"])\n",
    "\n",
    "X_train.shape, X_test.shape, y_train.shape, y_test.shape"
   ]
  },
  {
   "cell_type": "markdown",
   "id": "c6d11158",
   "metadata": {},
   "source": [
    "#### Now we will use a larger than average dense model"
   ]
  },
  {
   "cell_type": "code",
   "execution_count": 22,
   "id": "4dbde676",
   "metadata": {},
   "outputs": [
    {
     "name": "stderr",
     "output_type": "stream",
     "text": [
      "2022-06-26 20:48:58.873817: I tensorflow/core/platform/cpu_feature_guard.cc:193] This TensorFlow binary is optimized with oneAPI Deep Neural Network Library (oneDNN) to use the following CPU instructions in performance-critical operations:  AVX2 FMA\n",
      "To enable them in other operations, rebuild TensorFlow with the appropriate compiler flags.\n"
     ]
    }
   ],
   "source": [
    "model = tf.keras.Sequential([\n",
    "    tf.keras.layers.Dense(300, activation = \"relu\"),\n",
    "    tf.keras.layers.Dense(256, activation = \"relu\"),\n",
    "    tf.keras.layers.Dense(200, activation = \"relu\"),\n",
    "    tf.keras.layers.Dropout(0.3),\n",
    "    tf.keras.layers.Dense(100, activation = \"relu\"),\n",
    "    tf.keras.layers.Dense(50, activation = \"relu\"),\n",
    "    tf.keras.layers.Dense(10, activation = \"relu\"),\n",
    "    tf.keras.layers.Dense(1, activation = \"sigmoid\")\n",
    "])"
   ]
  },
  {
   "cell_type": "code",
   "execution_count": 23,
   "id": "8abe1cf9",
   "metadata": {},
   "outputs": [],
   "source": [
    "model.compile(loss = \"binary_crossentropy\", optimizer = \"adam\", \n",
    "             metrics = [\"accuracy\"])"
   ]
  },
  {
   "cell_type": "code",
   "execution_count": 24,
   "id": "ebf87c2e",
   "metadata": {},
   "outputs": [
    {
     "name": "stdout",
     "output_type": "stream",
     "text": [
      "Epoch 1/5\n",
      "10039/10039 [==============================] - 27s 3ms/step - loss: 0.2402 - accuracy: 0.8946\n",
      "Epoch 2/5\n",
      "10039/10039 [==============================] - 26s 3ms/step - loss: 0.2333 - accuracy: 0.8979\n",
      "Epoch 3/5\n",
      "10039/10039 [==============================] - 27s 3ms/step - loss: 0.2303 - accuracy: 0.8986\n",
      "Epoch 4/5\n",
      "10039/10039 [==============================] - 26s 3ms/step - loss: 0.2282 - accuracy: 0.8998\n",
      "Epoch 5/5\n",
      "10039/10039 [==============================] - 26s 3ms/step - loss: 0.2268 - accuracy: 0.9005\n"
     ]
    },
    {
     "data": {
      "text/plain": [
       "<keras.callbacks.History at 0x7fddbb404070>"
      ]
     },
     "execution_count": 24,
     "metadata": {},
     "output_type": "execute_result"
    }
   ],
   "source": [
    "model.fit(X_train, y_train, epochs = 5) # accuracy is around 90% which is not bad"
   ]
  },
  {
   "cell_type": "code",
   "execution_count": 25,
   "id": "fb1d5210",
   "metadata": {},
   "outputs": [
    {
     "name": "stdout",
     "output_type": "stream",
     "text": [
      "4303/4303 [==============================] - 6s 1ms/step - loss: 0.2277 - accuracy: 0.8998\n"
     ]
    },
    {
     "data": {
      "text/plain": [
       "[0.22774332761764526, 0.8997704982757568]"
      ]
     },
     "execution_count": 25,
     "metadata": {},
     "output_type": "execute_result"
    }
   ],
   "source": [
    "model.evaluate(X_test, y_test) # again accuracy is around 90% which is not bad"
   ]
  },
  {
   "cell_type": "markdown",
   "id": "b6f39792",
   "metadata": {},
   "source": [
    "### We will run predictions on the test dataset and turn it into a CSV file"
   ]
  },
  {
   "cell_type": "code",
   "execution_count": 26,
   "id": "9bb5a92e",
   "metadata": {},
   "outputs": [],
   "source": [
    "chunksize = 1000000\n",
    "\n",
    "test_df_iter = pd.read_csv(\"test_data.csv\", chunksize=chunksize, usecols=[\"customer_ID\"] + X_cols) # Load with same columns as the train_data"
   ]
  },
  {
   "cell_type": "code",
   "execution_count": 27,
   "id": "8dc5bcfd",
   "metadata": {},
   "outputs": [
    {
     "name": "stdout",
     "output_type": "stream",
     "text": [
      "2543/2543 [==============================] - 2s 868us/step\n",
      "81358\n",
      "2540/2540 [==============================] - 3s 1ms/step\n",
      "162618\n",
      "2546/2546 [==============================] - 3s 986us/step\n",
      "244059\n",
      "2544/2544 [==============================] - 3s 1ms/step\n",
      "325450\n",
      "2543/2543 [==============================] - 3s 1ms/step\n",
      "406815\n",
      "2546/2546 [==============================] - 2s 861us/step\n",
      "488260\n",
      "2541/2541 [==============================] - 2s 937us/step\n",
      "569555\n",
      "2543/2543 [==============================] - 2s 878us/step\n",
      "650904\n",
      "2542/2542 [==============================] - 4s 2ms/step\n",
      "732217\n",
      "2542/2542 [==============================] - 4s 2ms/step\n",
      "813543\n",
      "2547/2547 [==============================] - 3s 1ms/step\n",
      "895040\n",
      "925/925 [==============================] - 1s 1ms/step\n",
      "924631\n"
     ]
    }
   ],
   "source": [
    "_index = []\n",
    "_vals = []\n",
    "\n",
    "for chunk in test_df_iter:\n",
    "    _chunk = chunk.groupby(\"customer_ID\")[X_cols].last().reset_index()# Just reseting the index\n",
    "\n",
    "\n",
    "    X_test = _chunk[_X_cols] \n",
    "    X_test = X_test.fillna(0)\n",
    "    y_test_pred = model.predict(X_test)#[:, 1]\n",
    "    _index.extend(_chunk[\"customer_ID\"])\n",
    "    _vals.extend(y_test_pred)\n",
    "    \n",
    "    print(len(_index))"
   ]
  },
  {
   "cell_type": "code",
   "execution_count": 28,
   "id": "7ad6d1c5",
   "metadata": {},
   "outputs": [],
   "source": [
    "res_df = pd.DataFrame(\n",
    "    {\"customer_ID\": _index, \"prediction\": np.squeeze(_vals)}\n",
    ").groupby(\"customer_ID\")[\"prediction\"].mean().reset_index()"
   ]
  },
  {
   "cell_type": "code",
   "execution_count": 29,
   "id": "4d4b3589",
   "metadata": {},
   "outputs": [
    {
     "data": {
      "text/plain": [
       "customer_ID    0\n",
       "prediction     0\n",
       "dtype: int64"
      ]
     },
     "execution_count": 29,
     "metadata": {},
     "output_type": "execute_result"
    }
   ],
   "source": [
    "res_df.isna().sum()"
   ]
  },
  {
   "cell_type": "code",
   "execution_count": 30,
   "id": "f1752a33",
   "metadata": {},
   "outputs": [
    {
     "data": {
      "text/html": [
       "<div>\n",
       "<style scoped>\n",
       "    .dataframe tbody tr th:only-of-type {\n",
       "        vertical-align: middle;\n",
       "    }\n",
       "\n",
       "    .dataframe tbody tr th {\n",
       "        vertical-align: top;\n",
       "    }\n",
       "\n",
       "    .dataframe thead th {\n",
       "        text-align: right;\n",
       "    }\n",
       "</style>\n",
       "<table border=\"1\" class=\"dataframe\">\n",
       "  <thead>\n",
       "    <tr style=\"text-align: right;\">\n",
       "      <th></th>\n",
       "      <th>customer_ID</th>\n",
       "      <th>prediction</th>\n",
       "    </tr>\n",
       "  </thead>\n",
       "  <tbody>\n",
       "    <tr>\n",
       "      <th>0</th>\n",
       "      <td>00000469ba478561f23a92a868bd366de6f6527a684c9a...</td>\n",
       "      <td>0.024297</td>\n",
       "    </tr>\n",
       "    <tr>\n",
       "      <th>1</th>\n",
       "      <td>00001bf2e77ff879fab36aa4fac689b9ba411dae63ae39...</td>\n",
       "      <td>0.002268</td>\n",
       "    </tr>\n",
       "    <tr>\n",
       "      <th>2</th>\n",
       "      <td>0000210045da4f81e5f122c6bde5c2a617d03eef67f82c...</td>\n",
       "      <td>0.041236</td>\n",
       "    </tr>\n",
       "    <tr>\n",
       "      <th>3</th>\n",
       "      <td>00003b41e58ede33b8daf61ab56d9952f17c9ad1c3976c...</td>\n",
       "      <td>0.452359</td>\n",
       "    </tr>\n",
       "    <tr>\n",
       "      <th>4</th>\n",
       "      <td>00004b22eaeeeb0ec976890c1d9bfc14fd9427e98c4ee9...</td>\n",
       "      <td>0.778005</td>\n",
       "    </tr>\n",
       "  </tbody>\n",
       "</table>\n",
       "</div>"
      ],
      "text/plain": [
       "                                         customer_ID  prediction\n",
       "0  00000469ba478561f23a92a868bd366de6f6527a684c9a...    0.024297\n",
       "1  00001bf2e77ff879fab36aa4fac689b9ba411dae63ae39...    0.002268\n",
       "2  0000210045da4f81e5f122c6bde5c2a617d03eef67f82c...    0.041236\n",
       "3  00003b41e58ede33b8daf61ab56d9952f17c9ad1c3976c...    0.452359\n",
       "4  00004b22eaeeeb0ec976890c1d9bfc14fd9427e98c4ee9...    0.778005"
      ]
     },
     "execution_count": 30,
     "metadata": {},
     "output_type": "execute_result"
    }
   ],
   "source": [
    "res_df.head()"
   ]
  },
  {
   "cell_type": "code",
   "execution_count": 31,
   "id": "04e33c26",
   "metadata": {},
   "outputs": [],
   "source": [
    "res_df.to_csv(\"tensorflow_predictions_submission_without_binary_and_outliers.csv\", index = False)"
   ]
  }
 ],
 "metadata": {
  "kernelspec": {
   "display_name": "Python 3 (ipykernel)",
   "language": "python",
   "name": "python3"
  },
  "language_info": {
   "codemirror_mode": {
    "name": "ipython",
    "version": 3
   },
   "file_extension": ".py",
   "mimetype": "text/x-python",
   "name": "python",
   "nbconvert_exporter": "python",
   "pygments_lexer": "ipython3",
   "version": "3.9.12"
  }
 },
 "nbformat": 4,
 "nbformat_minor": 5
}
