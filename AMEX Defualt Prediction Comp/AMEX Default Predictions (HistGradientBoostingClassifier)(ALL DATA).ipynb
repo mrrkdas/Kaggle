{
 "cells": [
  {
   "cell_type": "code",
   "execution_count": 4,
   "id": "fe9a65ee",
   "metadata": {},
   "outputs": [],
   "source": [
    "import os\n",
    "import gc\n",
    "import warnings\n",
    "warnings.filterwarnings('ignore')\n",
    "import random\n",
    "import scipy as sp\n",
    "import numpy as np\n",
    "import pandas as pd\n",
    "import joblib\n",
    "import itertools\n",
    "pd.set_option('display.max_rows', 500)\n",
    "pd.set_option('display.max_columns', 500)\n",
    "pd.set_option('display.width', 1000)\n",
    "from tqdm.auto import tqdm\n",
    "from sklearn.model_selection import StratifiedKFold, train_test_split\n",
    "from sklearn.preprocessing import LabelEncoder\n",
    "import lightgbm as lgb\n",
    "from itertools import combinations\n",
    "import tensorflow as tf\n",
    "from sklearn.ensemble import HistGradientBoostingClassifier"
   ]
  },
  {
   "cell_type": "code",
   "execution_count": 5,
   "id": "d5c804cd",
   "metadata": {},
   "outputs": [],
   "source": [
    "# ====================================================\n",
    "# Read data\n",
    "# ====================================================\n",
    "def read_data():\n",
    "    input_dir = ''\n",
    "    train = pd.read_parquet(input_dir + 'train_df_final.parquet')\n",
    "    test = pd.read_parquet(input_dir + 'test_df_final.parquet')\n",
    "    return train, test"
   ]
  },
  {
   "cell_type": "code",
   "execution_count": 6,
   "id": "e80c58c2",
   "metadata": {},
   "outputs": [],
   "source": [
    "# ====================================================\n",
    "# Amex metric\n",
    "# ====================================================\n",
    "def amex_metric(y_true, y_pred):\n",
    "    labels = np.transpose(np.array([y_true, y_pred]))\n",
    "    labels = labels[labels[:, 1].argsort()[::-1]]\n",
    "    weights = np.where(labels[:,0]==0, 20, 1)\n",
    "    cut_vals = labels[np.cumsum(weights) <= int(0.04 * np.sum(weights))]\n",
    "    top_four = np.sum(cut_vals[:,0]) / np.sum(labels[:,0])\n",
    "    gini = [0,0]\n",
    "    for i in [1,0]:\n",
    "        labels = np.transpose(np.array([y_true, y_pred]))\n",
    "        labels = labels[labels[:, i].argsort()[::-1]]\n",
    "        weight = np.where(labels[:,0]==0, 20, 1)\n",
    "        weight_random = np.cumsum(weight / np.sum(weight))\n",
    "        total_pos = np.sum(labels[:, 0] *  weight)\n",
    "        cum_pos_found = np.cumsum(labels[:, 0] * weight)\n",
    "        lorentz = cum_pos_found / total_pos\n",
    "        gini[i] = np.sum((lorentz - weight_random) * weight)\n",
    "    return 0.5 * (gini[1]/gini[0] + top_four)\n"
   ]
  },
  {
   "cell_type": "code",
   "execution_count": 7,
   "id": "da85aa8f",
   "metadata": {},
   "outputs": [],
   "source": [
    "# ====================================================\n",
    "# tf amex metric\n",
    "# ====================================================\n",
    "def tf_amex_metric(y_pred, y_true):\n",
    "    #y_true = y_true.get_label()\n",
    "    return 'amex_metric', amex_metric(y_true, y_pred), True"
   ]
  },
  {
   "cell_type": "code",
   "execution_count": 14,
   "id": "ccc9534c",
   "metadata": {},
   "outputs": [],
   "source": [
    "# ====================================================\n",
    "# Training\n",
    "# ====================================================\n",
    "def train_(train, test):\n",
    "    # Label encode categorical features\n",
    "    cat_features = [\n",
    "        \"B_30\",\n",
    "        \"B_38\",\n",
    "        \"D_114\",\n",
    "        \"D_116\",\n",
    "        \"D_117\",\n",
    "        \"D_120\",\n",
    "        \"D_126\",\n",
    "        \"D_63\",\n",
    "        \"D_64\",\n",
    "        \"D_66\",\n",
    "        \"D_68\"\n",
    "    ]\n",
    "    print(\"Encoding categorical variables\")\n",
    "    cat_features = [f\"{cf}_last\" for cf in cat_features]\n",
    "    for cat_col in cat_features:\n",
    "        encoder = LabelEncoder()\n",
    "        train[cat_col] = encoder.fit_transform(train[cat_col])\n",
    "        test[cat_col] = encoder.transform(test[cat_col])\n",
    "        \n",
    "    # Round last float features to 2 decimal place\n",
    "    print(\"Rounding float features\")\n",
    "    num_cols = list(train.dtypes[(train.dtypes == 'float32') | (train.dtypes == 'float64')].index)\n",
    "    num_cols = [col for col in num_cols if 'last' in col]\n",
    "    for col in num_cols:\n",
    "        train[col + '_round2'] = train[col].round(2)\n",
    "        test[col + '_round2'] = test[col].round(2)\n",
    "    \n",
    "    # Filling NaN\n",
    "    print(\"printing NaN values: \")\n",
    "    print(train.isna().sum())\n",
    "    print(test.isna().sum())\n",
    "    \n",
    "    train = train.replace(np.nan, 0)\n",
    "    test = test.replace(np.nan, 0)\n",
    "    \n",
    "    print(\"After the fillna\")\n",
    "    print(train.isna().sum())\n",
    "    print(test.isna().sum())\n",
    "        \n",
    "    # Get feature list\n",
    "    print(\"Getting feature list\")\n",
    "    features = [col for col in train.columns if col not in ['customer_ID', \"target\"]]\n",
    "    \n",
    "    \n",
    "    print(\"KFOLD Algorithm\")\n",
    "    kfold = StratifiedKFold(n_splits = 5, shuffle = True, random_state = 42)\n",
    "    for fold, (trn_ind, val_ind) in enumerate(kfold.split(train, train[\"target\"])):\n",
    "        X_train, X_test = train[features].iloc[trn_ind], train[features].iloc[val_ind]\n",
    "        y_train, y_test = train[\"target\"].iloc[trn_ind], train[\"target\"].iloc[val_ind]\n",
    "        \n",
    "    print(\"Creating model\")\n",
    "    \n",
    "    model = HistGradientBoostingClassifier(loss = \"binary_crossentropy\", max_iter = 350)\n",
    "    print(\"\\n\\nFitting model\")\n",
    "    model.fit(X_train, y_train)\n",
    "    \n",
    "    return model, X_test, y_test, test, features"
   ]
  },
  {
   "cell_type": "code",
   "execution_count": 18,
   "id": "38971418",
   "metadata": {},
   "outputs": [],
   "source": [
    "def evaluate():\n",
    "    preds = model.predict(X_test)\n",
    "    \n",
    "    print(\"Calculating metric....\")\n",
    "    #preds = preds.squeeze(axis = 1)\n",
    "    metric = tf_amex_metric(preds, y_test)\n",
    "    print(metric)"
   ]
  },
  {
   "cell_type": "code",
   "execution_count": 19,
   "id": "d9969b18",
   "metadata": {},
   "outputs": [],
   "source": [
    "# ====================================================\n",
    "# Predict\n",
    "# ====================================================\n",
    "def predict(test):\n",
    "    predictions = model.predict(test[features])\n",
    "    \n",
    "    sub_df = pd.DataFrame({\"customer_ID\": test[\"customer_ID\"], \"prediction\":predictions})\n",
    "    sub_df.isna().sum()\n",
    "    sub_df.head()\n",
    "    \n",
    "    return sub_df, predictions"
   ]
  },
  {
   "cell_type": "code",
   "execution_count": 11,
   "id": "d084a2bc",
   "metadata": {},
   "outputs": [],
   "source": [
    "# ====================================================\n",
    "# to_csv\n",
    "# ====================================================\n",
    "def to_csv(sub_df, name):\n",
    "    sub_df.to_csv(name, index = False)"
   ]
  },
  {
   "cell_type": "code",
   "execution_count": 15,
   "id": "e5e2a139",
   "metadata": {},
   "outputs": [],
   "source": [
    "train_df, test_df = read_data()"
   ]
  },
  {
   "cell_type": "code",
   "execution_count": 16,
   "id": "f21e1af9",
   "metadata": {},
   "outputs": [
    {
     "name": "stdout",
     "output_type": "stream",
     "text": [
      "Encoding categorical variables\n",
      "Rounding float features\n",
      "printing NaN values: \n",
      "customer_ID               0\n",
      "P_2_mean               2434\n",
      "P_2_std                7829\n",
      "P_2_min                2434\n",
      "P_2_max                2434\n",
      "                      ...  \n",
      "D_141_last_round2      2532\n",
      "D_142_last_round2    373333\n",
      "D_143_last_round2      2532\n",
      "D_144_last_round2         0\n",
      "D_145_last_round2      2532\n",
      "Length: 1096, dtype: int64\n",
      "customer_ID               0\n",
      "P_2_mean               4175\n",
      "P_2_std                9937\n",
      "P_2_min                4175\n",
      "P_2_max                4175\n",
      "                      ...  \n",
      "D_141_last_round2      4607\n",
      "D_142_last_round2    752615\n",
      "D_143_last_round2      4607\n",
      "D_144_last_round2         0\n",
      "D_145_last_round2      4607\n",
      "Length: 1095, dtype: int64\n",
      "After the fillna\n",
      "customer_ID          0\n",
      "P_2_mean             0\n",
      "P_2_std              0\n",
      "P_2_min              0\n",
      "P_2_max              0\n",
      "                    ..\n",
      "D_141_last_round2    0\n",
      "D_142_last_round2    0\n",
      "D_143_last_round2    0\n",
      "D_144_last_round2    0\n",
      "D_145_last_round2    0\n",
      "Length: 1096, dtype: int64\n",
      "customer_ID          0\n",
      "P_2_mean             0\n",
      "P_2_std              0\n",
      "P_2_min              0\n",
      "P_2_max              0\n",
      "                    ..\n",
      "D_141_last_round2    0\n",
      "D_142_last_round2    0\n",
      "D_143_last_round2    0\n",
      "D_144_last_round2    0\n",
      "D_145_last_round2    0\n",
      "Length: 1095, dtype: int64\n",
      "Getting feature list\n",
      "KFOLD Algorithm\n",
      "Creating model\n",
      "\n",
      "\n",
      "Fitting model\n"
     ]
    }
   ],
   "source": [
    "model, X_test, y_test, test, features = train_(train_df, test_df)"
   ]
  },
  {
   "cell_type": "code",
   "execution_count": 20,
   "id": "ad3c2708",
   "metadata": {},
   "outputs": [
    {
     "name": "stdout",
     "output_type": "stream",
     "text": [
      "Calculating metric....\n",
      "('amex_metric', 0.5748004223840135, True)\n"
     ]
    }
   ],
   "source": [
    "evaluate()"
   ]
  },
  {
   "cell_type": "code",
   "execution_count": 21,
   "id": "ffa496e9",
   "metadata": {},
   "outputs": [],
   "source": [
    "sub_df, predictions = predict(test)"
   ]
  },
  {
   "cell_type": "code",
   "execution_count": 22,
   "id": "a13222f0",
   "metadata": {},
   "outputs": [
    {
     "data": {
      "text/plain": [
       "(924621,)"
      ]
     },
     "execution_count": 22,
     "metadata": {},
     "output_type": "execute_result"
    }
   ],
   "source": [
    "test[\"customer_ID\"].shape"
   ]
  },
  {
   "cell_type": "code",
   "execution_count": 23,
   "id": "e6c45aac",
   "metadata": {},
   "outputs": [],
   "source": [
    "to_csv(sub_df, \"histgradientboosting(withALLDATA).csv\")"
   ]
  },
  {
   "cell_type": "code",
   "execution_count": 24,
   "id": "41a78e04",
   "metadata": {},
   "outputs": [
    {
     "data": {
      "text/plain": [
       "customer_ID    0\n",
       "prediction     0\n",
       "dtype: int64"
      ]
     },
     "execution_count": 24,
     "metadata": {},
     "output_type": "execute_result"
    }
   ],
   "source": [
    "sub_df.isna().sum()"
   ]
  },
  {
   "cell_type": "code",
   "execution_count": null,
   "id": "088e130d",
   "metadata": {},
   "outputs": [],
   "source": [
    " "
   ]
  }
 ],
 "metadata": {
  "kernelspec": {
   "display_name": "Python 3 (ipykernel)",
   "language": "python",
   "name": "python3"
  },
  "language_info": {
   "codemirror_mode": {
    "name": "ipython",
    "version": 3
   },
   "file_extension": ".py",
   "mimetype": "text/x-python",
   "name": "python",
   "nbconvert_exporter": "python",
   "pygments_lexer": "ipython3",
   "version": "3.9.12"
  },
  "toc": {
   "base_numbering": 1,
   "nav_menu": {},
   "number_sections": true,
   "sideBar": true,
   "skip_h1_title": false,
   "title_cell": "Table of Contents",
   "title_sidebar": "Contents",
   "toc_cell": false,
   "toc_position": {},
   "toc_section_display": true,
   "toc_window_display": false
  },
  "varInspector": {
   "cols": {
    "lenName": 16,
    "lenType": 16,
    "lenVar": 40
   },
   "kernels_config": {
    "python": {
     "delete_cmd_postfix": "",
     "delete_cmd_prefix": "del ",
     "library": "var_list.py",
     "varRefreshCmd": "print(var_dic_list())"
    },
    "r": {
     "delete_cmd_postfix": ") ",
     "delete_cmd_prefix": "rm(",
     "library": "var_list.r",
     "varRefreshCmd": "cat(var_dic_list()) "
    }
   },
   "position": {
    "height": "354.844px",
    "left": "1101px",
    "right": "20px",
    "top": "91px",
    "width": "800px"
   },
   "types_to_exclude": [
    "module",
    "function",
    "builtin_function_or_method",
    "instance",
    "_Feature"
   ],
   "window_display": false
  }
 },
 "nbformat": 4,
 "nbformat_minor": 5
}
