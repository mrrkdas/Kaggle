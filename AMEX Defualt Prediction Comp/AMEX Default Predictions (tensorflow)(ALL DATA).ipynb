{
 "cells": [
  {
   "cell_type": "code",
   "execution_count": 1,
   "id": "fe9a65ee",
   "metadata": {},
   "outputs": [],
   "source": [
    "import os\n",
    "import gc\n",
    "import warnings\n",
    "warnings.filterwarnings('ignore')\n",
    "import random\n",
    "import scipy as sp\n",
    "import numpy as np\n",
    "import pandas as pd\n",
    "import joblib\n",
    "import itertools\n",
    "pd.set_option('display.max_rows', 500)\n",
    "pd.set_option('display.max_columns', 500)\n",
    "pd.set_option('display.width', 1000)\n",
    "from tqdm.auto import tqdm\n",
    "from sklearn.model_selection import StratifiedKFold, train_test_split\n",
    "from sklearn.preprocessing import LabelEncoder\n",
    "import lightgbm as lgb\n",
    "from itertools import combinations\n",
    "import tensorflow as tf"
   ]
  },
  {
   "cell_type": "code",
   "execution_count": 2,
   "id": "d5c804cd",
   "metadata": {},
   "outputs": [],
   "source": [
    "# ====================================================\n",
    "# Read data\n",
    "# ====================================================\n",
    "def read_data():\n",
    "    input_dir = ''\n",
    "    train = pd.read_parquet(input_dir + 'train_df_final.parquet')\n",
    "    test = pd.read_parquet(input_dir + 'test_df_final.parquet')\n",
    "    return train, test"
   ]
  },
  {
   "cell_type": "code",
   "execution_count": 3,
   "id": "e80c58c2",
   "metadata": {},
   "outputs": [],
   "source": [
    "# ====================================================\n",
    "# Amex metric\n",
    "# ====================================================\n",
    "def amex_metric(y_true, y_pred):\n",
    "    labels = np.transpose(np.array([y_true, y_pred]))\n",
    "    labels = labels[labels[:, 1].argsort()[::-1]]\n",
    "    weights = np.where(labels[:,0]==0, 20, 1)\n",
    "    cut_vals = labels[np.cumsum(weights) <= int(0.04 * np.sum(weights))]\n",
    "    top_four = np.sum(cut_vals[:,0]) / np.sum(labels[:,0])\n",
    "    gini = [0,0]\n",
    "    for i in [1,0]:\n",
    "        labels = np.transpose(np.array([y_true, y_pred]))\n",
    "        labels = labels[labels[:, i].argsort()[::-1]]\n",
    "        weight = np.where(labels[:,0]==0, 20, 1)\n",
    "        weight_random = np.cumsum(weight / np.sum(weight))\n",
    "        total_pos = np.sum(labels[:, 0] *  weight)\n",
    "        cum_pos_found = np.cumsum(labels[:, 0] * weight)\n",
    "        lorentz = cum_pos_found / total_pos\n",
    "        gini[i] = np.sum((lorentz - weight_random) * weight)\n",
    "    return 0.5 * (gini[1]/gini[0] + top_four)\n"
   ]
  },
  {
   "cell_type": "code",
   "execution_count": 4,
   "id": "da85aa8f",
   "metadata": {},
   "outputs": [],
   "source": [
    "# ====================================================\n",
    "# tf amex metric\n",
    "# ====================================================\n",
    "def tf_amex_metric(y_pred, y_true):\n",
    "    #y_true = y_true.get_label()\n",
    "    return 'amex_metric', amex_metric(y_true, y_pred), True"
   ]
  },
  {
   "cell_type": "code",
   "execution_count": 5,
   "id": "ccc9534c",
   "metadata": {},
   "outputs": [],
   "source": [
    "# ====================================================\n",
    "# Training\n",
    "# ====================================================\n",
    "def train_(train, test):\n",
    "    # Label encode categorical features\n",
    "    cat_features = [\n",
    "        \"B_30\",\n",
    "        \"B_38\",\n",
    "        \"D_114\",\n",
    "        \"D_116\",\n",
    "        \"D_117\",\n",
    "        \"D_120\",\n",
    "        \"D_126\",\n",
    "        \"D_63\",\n",
    "        \"D_64\",\n",
    "        \"D_66\",\n",
    "        \"D_68\"\n",
    "    ]\n",
    "    print(\"Encoding categorical variables\")\n",
    "    cat_features = [f\"{cf}_last\" for cf in cat_features]\n",
    "    for cat_col in cat_features:\n",
    "        encoder = LabelEncoder()\n",
    "        train[cat_col] = encoder.fit_transform(train[cat_col])\n",
    "        test[cat_col] = encoder.transform(test[cat_col])\n",
    "        \n",
    "    # Round last float features to 2 decimal place\n",
    "    print(\"Rounding float features\")\n",
    "    num_cols = list(train.dtypes[(train.dtypes == 'float32') | (train.dtypes == 'float64')].index)\n",
    "    num_cols = [col for col in num_cols if 'last' in col]\n",
    "    for col in num_cols:\n",
    "        train[col + '_round2'] = train[col].round(2)\n",
    "        test[col + '_round2'] = test[col].round(2)\n",
    "    \n",
    "    # Filling NaN\n",
    "    print(\"printing NaN values: \")\n",
    "    print(train.isna().sum())\n",
    "    print(test.isna().sum())\n",
    "    \n",
    "    train = train.replace(np.nan, 0)\n",
    "    test = test.replace(np.nan, 0)\n",
    "    \n",
    "    print(\"After the fillna\")\n",
    "    print(train.isna().sum())\n",
    "    print(test.isna().sum())\n",
    "        \n",
    "    # Get feature list\n",
    "    print(\"Getting feature list\")\n",
    "    features = [col for col in train.columns if col not in ['customer_ID', \"target\"]]\n",
    "    \n",
    "    \n",
    "    print(\"KFOLD Algorithm\")\n",
    "    kfold = StratifiedKFold(n_splits = 5, shuffle = True, random_state = 42)\n",
    "    for fold, (trn_ind, val_ind) in enumerate(kfold.split(train, train[\"target\"])):\n",
    "        X_train, X_test = train[features].iloc[trn_ind], train[features].iloc[val_ind]\n",
    "        y_train, y_test = train[\"target\"].iloc[trn_ind], train[\"target\"].iloc[val_ind]\n",
    "        \n",
    "    print(\"Creating model\")\n",
    "    \n",
    "    model = tf.keras.Sequential([\n",
    "    tf.keras.layers.Dense(224, activation = \"relu\"),\n",
    "    tf.keras.layers.Dense(300, activation = 'relu'),\n",
    "    tf.keras.layers.Dense(368, activation = \"relu\"),\n",
    "    tf.keras.layers.Dropout(0.3),\n",
    "    tf.keras.layers.Dense(240, activation = 'relu'),\n",
    "    tf.keras.layers.Dense(180, activation = 'relu'),\n",
    "    tf.keras.layers.Dense(164, activation = \"relu\"),\n",
    "    tf.keras.layers.Dense(128, activation = \"relu\"),\n",
    "    tf.keras.layers.Dropout(0.4),\n",
    "    tf.keras.layers.Dense(64, activation = \"relu\"),\n",
    "    tf.keras.layers.Dense(32, activation = \"relu\"),\n",
    "    tf.keras.layers.Dropout(0.4),\n",
    "    tf.keras.layers.Dense(8, activation = \"relu\"),\n",
    "    tf.keras.layers.Dense(1, activation = \"sigmoid\")\n",
    "    ])\n",
    "    \n",
    "    print(\"Compiling model\")\n",
    "    model.compile(loss = \"binary_crossentropy\", optimizer = \"adam\",\n",
    "                 metrics = [\"accuracy\"])\n",
    "    \n",
    "    print(\"\\n\\nFitting model\")\n",
    "    model.fit(X_train, y_train, epochs = 10)\n",
    "    \n",
    "    return model, X_test, y_test, test, features"
   ]
  },
  {
   "cell_type": "code",
   "execution_count": 6,
   "id": "38971418",
   "metadata": {},
   "outputs": [],
   "source": [
    "def evaluate():\n",
    "    preds = model.predict(X_test)\n",
    "    \n",
    "    print(\"Calculating metric....\")\n",
    "    #preds = preds.squeeze(axis = 1)\n",
    "    metric = tf_amex_metric(preds.squeeze(axis = 1), y_test)\n",
    "    print(metric)"
   ]
  },
  {
   "cell_type": "code",
   "execution_count": 26,
   "id": "d9969b18",
   "metadata": {},
   "outputs": [],
   "source": [
    "# ====================================================\n",
    "# Predict\n",
    "# ====================================================\n",
    "def predict(test):\n",
    "    predictions = model.predict(test[features])\n",
    "    predictions = predictions.squeeze(axis = 1)\n",
    "    \n",
    "    sub_df = pd.DataFrame({\"customer_ID\": test[\"customer_ID\"], \"prediction\":predictions})\n",
    "    sub_df.isna().sum()\n",
    "    sub_df.head()\n",
    "    \n",
    "    return sub_df, predictions"
   ]
  },
  {
   "cell_type": "code",
   "execution_count": 8,
   "id": "d084a2bc",
   "metadata": {},
   "outputs": [],
   "source": [
    "# ====================================================\n",
    "# to_csv\n",
    "# ====================================================\n",
    "def to_csv(sub_df, name):\n",
    "    sub_df.to_csv(name, index = False)"
   ]
  },
  {
   "cell_type": "code",
   "execution_count": 11,
   "id": "e5e2a139",
   "metadata": {},
   "outputs": [],
   "source": [
    "train_df, test_df = read_data()"
   ]
  },
  {
   "cell_type": "code",
   "execution_count": 12,
   "id": "f21e1af9",
   "metadata": {
    "collapsed": true
   },
   "outputs": [
    {
     "name": "stdout",
     "output_type": "stream",
     "text": [
      "Encoding categorical variables\n",
      "Rounding float features\n",
      "printing NaN values: \n",
      "customer_ID               0\n",
      "P_2_mean               2434\n",
      "P_2_std                7829\n",
      "P_2_min                2434\n",
      "P_2_max                2434\n",
      "                      ...  \n",
      "D_141_last_round2      2532\n",
      "D_142_last_round2    373333\n",
      "D_143_last_round2      2532\n",
      "D_144_last_round2         0\n",
      "D_145_last_round2      2532\n",
      "Length: 1096, dtype: int64\n",
      "customer_ID               0\n",
      "P_2_mean               4175\n",
      "P_2_std                9937\n",
      "P_2_min                4175\n",
      "P_2_max                4175\n",
      "                      ...  \n",
      "D_141_last_round2      4607\n",
      "D_142_last_round2    752615\n",
      "D_143_last_round2      4607\n",
      "D_144_last_round2         0\n",
      "D_145_last_round2      4607\n",
      "Length: 1095, dtype: int64\n",
      "After the fillna\n",
      "customer_ID          0\n",
      "P_2_mean             0\n",
      "P_2_std              0\n",
      "P_2_min              0\n",
      "P_2_max              0\n",
      "                    ..\n",
      "D_141_last_round2    0\n",
      "D_142_last_round2    0\n",
      "D_143_last_round2    0\n",
      "D_144_last_round2    0\n",
      "D_145_last_round2    0\n",
      "Length: 1096, dtype: int64\n",
      "customer_ID          0\n",
      "P_2_mean             0\n",
      "P_2_std              0\n",
      "P_2_min              0\n",
      "P_2_max              0\n",
      "                    ..\n",
      "D_141_last_round2    0\n",
      "D_142_last_round2    0\n",
      "D_143_last_round2    0\n",
      "D_144_last_round2    0\n",
      "D_145_last_round2    0\n",
      "Length: 1095, dtype: int64\n",
      "Getting feature list\n",
      "KFOLD Algorithm\n",
      "Creating model\n",
      "Compiling model\n",
      "\n",
      "\n",
      "Fitting model\n",
      "Epoch 1/10\n",
      "11473/11473 [==============================] - 266s 23ms/step - loss: 0.2513 - accuracy: 0.8916\n",
      "Epoch 2/10\n",
      "11473/11473 [==============================] - 50s 4ms/step - loss: 0.2364 - accuracy: 0.8967\n",
      "Epoch 3/10\n",
      "11473/11473 [==============================] - 51s 4ms/step - loss: 0.2332 - accuracy: 0.8987\n",
      "Epoch 4/10\n",
      "11473/11473 [==============================] - 130s 11ms/step - loss: 0.2307 - accuracy: 0.8992\n",
      "Epoch 5/10\n",
      "11473/11473 [==============================] - 51s 4ms/step - loss: 0.2294 - accuracy: 0.9002\n",
      "Epoch 6/10\n",
      "11473/11473 [==============================] - 51s 4ms/step - loss: 0.2301 - accuracy: 0.9003\n",
      "Epoch 7/10\n",
      "11473/11473 [==============================] - 50s 4ms/step - loss: 0.2293 - accuracy: 0.9008\n",
      "Epoch 8/10\n",
      "11473/11473 [==============================] - 608s 53ms/step - loss: 0.2271 - accuracy: 0.9009\n",
      "Epoch 9/10\n",
      "11473/11473 [==============================] - 51s 4ms/step - loss: 0.2280 - accuracy: 0.9014\n",
      "Epoch 10/10\n",
      "11473/11473 [==============================] - 52s 5ms/step - loss: 0.2257 - accuracy: 0.9016\n"
     ]
    }
   ],
   "source": [
    "model, X_test, y_test, test, features = train_(train_df, test_df)"
   ]
  },
  {
   "cell_type": "code",
   "execution_count": 13,
   "id": "ad3c2708",
   "metadata": {},
   "outputs": [
    {
     "name": "stdout",
     "output_type": "stream",
     "text": [
      "2869/2869 [==============================] - 4s 1ms/step\n",
      "Calculating metric....\n",
      "('amex_metric', 0.7862040881991049, True)\n"
     ]
    }
   ],
   "source": [
    "evaluate()"
   ]
  },
  {
   "cell_type": "code",
   "execution_count": 27,
   "id": "ffa496e9",
   "metadata": {},
   "outputs": [
    {
     "name": "stdout",
     "output_type": "stream",
     "text": [
      "28895/28895 [==============================] - 49s 2ms/step\n"
     ]
    }
   ],
   "source": [
    "sub_df, predictions = predict(test)"
   ]
  },
  {
   "cell_type": "code",
   "execution_count": 17,
   "id": "a13222f0",
   "metadata": {},
   "outputs": [
    {
     "data": {
      "text/plain": [
       "(924621,)"
      ]
     },
     "execution_count": 17,
     "metadata": {},
     "output_type": "execute_result"
    }
   ],
   "source": [
    "test[\"customer_ID\"].shape"
   ]
  },
  {
   "cell_type": "code",
   "execution_count": 30,
   "id": "4a2dc614",
   "metadata": {},
   "outputs": [
    {
     "data": {
      "text/html": [
       "<div>\n",
       "<style scoped>\n",
       "    .dataframe tbody tr th:only-of-type {\n",
       "        vertical-align: middle;\n",
       "    }\n",
       "\n",
       "    .dataframe tbody tr th {\n",
       "        vertical-align: top;\n",
       "    }\n",
       "\n",
       "    .dataframe thead th {\n",
       "        text-align: right;\n",
       "    }\n",
       "</style>\n",
       "<table border=\"1\" class=\"dataframe\">\n",
       "  <thead>\n",
       "    <tr style=\"text-align: right;\">\n",
       "      <th></th>\n",
       "      <th>customer_ID</th>\n",
       "      <th>prediction</th>\n",
       "    </tr>\n",
       "  </thead>\n",
       "  <tbody>\n",
       "    <tr>\n",
       "      <th>0</th>\n",
       "      <td>00000469ba478561f23a92a868bd366de6f6527a684c9a...</td>\n",
       "      <td>0.040084</td>\n",
       "    </tr>\n",
       "    <tr>\n",
       "      <th>1</th>\n",
       "      <td>00001bf2e77ff879fab36aa4fac689b9ba411dae63ae39...</td>\n",
       "      <td>0.012515</td>\n",
       "    </tr>\n",
       "    <tr>\n",
       "      <th>2</th>\n",
       "      <td>0000210045da4f81e5f122c6bde5c2a617d03eef67f82c...</td>\n",
       "      <td>0.052648</td>\n",
       "    </tr>\n",
       "    <tr>\n",
       "      <th>3</th>\n",
       "      <td>00003b41e58ede33b8daf61ab56d9952f17c9ad1c3976c...</td>\n",
       "      <td>0.281016</td>\n",
       "    </tr>\n",
       "    <tr>\n",
       "      <th>4</th>\n",
       "      <td>00004b22eaeeeb0ec976890c1d9bfc14fd9427e98c4ee9...</td>\n",
       "      <td>0.751047</td>\n",
       "    </tr>\n",
       "    <tr>\n",
       "      <th>...</th>\n",
       "      <td>...</td>\n",
       "      <td>...</td>\n",
       "    </tr>\n",
       "    <tr>\n",
       "      <th>924616</th>\n",
       "      <td>ffff952c631f2c911b8a2a8ca56ea6e656309a83d2f64c...</td>\n",
       "      <td>0.029792</td>\n",
       "    </tr>\n",
       "    <tr>\n",
       "      <th>924617</th>\n",
       "      <td>ffffcf5df59e5e0bba2a5ac4578a34e2b5aa64a1546cd3...</td>\n",
       "      <td>0.699897</td>\n",
       "    </tr>\n",
       "    <tr>\n",
       "      <th>924618</th>\n",
       "      <td>ffffd61f098cc056dbd7d2a21380c4804bbfe60856f475...</td>\n",
       "      <td>0.388129</td>\n",
       "    </tr>\n",
       "    <tr>\n",
       "      <th>924619</th>\n",
       "      <td>ffffddef1fc3643ea179c93245b68dca0f36941cd83977...</td>\n",
       "      <td>0.225238</td>\n",
       "    </tr>\n",
       "    <tr>\n",
       "      <th>924620</th>\n",
       "      <td>fffffa7cf7e453e1acc6a1426475d5cb9400859f82ff61...</td>\n",
       "      <td>0.065130</td>\n",
       "    </tr>\n",
       "  </tbody>\n",
       "</table>\n",
       "<p>924621 rows × 2 columns</p>\n",
       "</div>"
      ],
      "text/plain": [
       "                                              customer_ID  prediction\n",
       "0       00000469ba478561f23a92a868bd366de6f6527a684c9a...    0.040084\n",
       "1       00001bf2e77ff879fab36aa4fac689b9ba411dae63ae39...    0.012515\n",
       "2       0000210045da4f81e5f122c6bde5c2a617d03eef67f82c...    0.052648\n",
       "3       00003b41e58ede33b8daf61ab56d9952f17c9ad1c3976c...    0.281016\n",
       "4       00004b22eaeeeb0ec976890c1d9bfc14fd9427e98c4ee9...    0.751047\n",
       "...                                                   ...         ...\n",
       "924616  ffff952c631f2c911b8a2a8ca56ea6e656309a83d2f64c...    0.029792\n",
       "924617  ffffcf5df59e5e0bba2a5ac4578a34e2b5aa64a1546cd3...    0.699897\n",
       "924618  ffffd61f098cc056dbd7d2a21380c4804bbfe60856f475...    0.388129\n",
       "924619  ffffddef1fc3643ea179c93245b68dca0f36941cd83977...    0.225238\n",
       "924620  fffffa7cf7e453e1acc6a1426475d5cb9400859f82ff61...    0.065130\n",
       "\n",
       "[924621 rows x 2 columns]"
      ]
     },
     "execution_count": 30,
     "metadata": {},
     "output_type": "execute_result"
    }
   ],
   "source": [
    "sub_df"
   ]
  },
  {
   "cell_type": "code",
   "execution_count": 31,
   "id": "e6c45aac",
   "metadata": {},
   "outputs": [],
   "source": [
    "to_csv(sub_df, \"tensorflowclassification(withALLDATA).csv\")"
   ]
  },
  {
   "cell_type": "code",
   "execution_count": 33,
   "id": "41a78e04",
   "metadata": {},
   "outputs": [
    {
     "data": {
      "text/plain": [
       "customer_ID    0\n",
       "prediction     0\n",
       "dtype: int64"
      ]
     },
     "execution_count": 33,
     "metadata": {},
     "output_type": "execute_result"
    }
   ],
   "source": [
    "sub_df.isna().sum()"
   ]
  }
 ],
 "metadata": {
  "kernelspec": {
   "display_name": "Python 3 (ipykernel)",
   "language": "python",
   "name": "python3"
  },
  "language_info": {
   "codemirror_mode": {
    "name": "ipython",
    "version": 3
   },
   "file_extension": ".py",
   "mimetype": "text/x-python",
   "name": "python",
   "nbconvert_exporter": "python",
   "pygments_lexer": "ipython3",
   "version": "3.9.12"
  }
 },
 "nbformat": 4,
 "nbformat_minor": 5
}
