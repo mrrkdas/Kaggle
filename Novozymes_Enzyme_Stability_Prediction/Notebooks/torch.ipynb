{
 "cells": [
  {
   "cell_type": "code",
   "execution_count": 1,
   "metadata": {},
   "outputs": [],
   "source": [
    "import pandas as pd\n",
    "import numpy as np\n",
    "import torch \n",
    "from function import *"
   ]
  },
  {
   "cell_type": "code",
   "execution_count": 2,
   "metadata": {},
   "outputs": [],
   "source": [
    "train_df = pd.read_csv(\"/Users/rish/Desktop/Kaggle/Novozymes_Enzyme_Stability_Prediction/Data/Data_/train_data.csv\")\n",
    "test_df = pd.read_csv(\"/Users/rish/Desktop/Kaggle/Novozymes_Enzyme_Stability_Prediction/Data/Data_/test_data.csv\")"
   ]
  },
  {
   "cell_type": "code",
   "execution_count": 3,
   "metadata": {},
   "outputs": [],
   "source": [
    "train_df, test_df = finalize_data(train_data=train_df, test_data=test_df)"
   ]
  },
  {
   "cell_type": "code",
   "execution_count": 6,
   "metadata": {},
   "outputs": [],
   "source": [
    "X_cols = train_df.drop(\"tm\", axis = 1).columns"
   ]
  },
  {
   "cell_type": "code",
   "execution_count": 4,
   "metadata": {},
   "outputs": [],
   "source": [
    "from sklearn.model_selection import StratifiedKFold"
   ]
  },
  {
   "cell_type": "code",
   "execution_count": 7,
   "metadata": {},
   "outputs": [
    {
     "ename": "TypeError",
     "evalue": "split() missing 1 required positional argument: 'y'",
     "output_type": "error",
     "traceback": [
      "\u001b[0;31m---------------------------------------------------------------------------\u001b[0m",
      "\u001b[0;31mTypeError\u001b[0m                                 Traceback (most recent call last)",
      "\u001b[1;32m/Users/rish/Desktop/Kaggle/Novozymes_Enzyme_Stability_Prediction/Notebooks/torch.ipynb Cell 6'\u001b[0m in \u001b[0;36m<cell line: 2>\u001b[0;34m()\u001b[0m\n\u001b[1;32m      <a href='vscode-notebook-cell:/Users/rish/Desktop/Kaggle/Novozymes_Enzyme_Stability_Prediction/Notebooks/torch.ipynb#ch0000005?line=0'>1</a>\u001b[0m kfold \u001b[39m=\u001b[39m StratifiedKFold(n_splits \u001b[39m=\u001b[39m \u001b[39m4\u001b[39m)\n\u001b[0;32m----> <a href='vscode-notebook-cell:/Users/rish/Desktop/Kaggle/Novozymes_Enzyme_Stability_Prediction/Notebooks/torch.ipynb#ch0000005?line=1'>2</a>\u001b[0m \u001b[39mfor\u001b[39;00m train_index, val_index \u001b[39min\u001b[39;00m kfold\u001b[39m.\u001b[39;49msplit(train_df[X_cols]):\n\u001b[1;32m      <a href='vscode-notebook-cell:/Users/rish/Desktop/Kaggle/Novozymes_Enzyme_Stability_Prediction/Notebooks/torch.ipynb#ch0000005?line=2'>3</a>\u001b[0m     X_train \u001b[39m=\u001b[39m train_df[X_cols]\u001b[39m.\u001b[39miloc[train_index]\n\u001b[1;32m      <a href='vscode-notebook-cell:/Users/rish/Desktop/Kaggle/Novozymes_Enzyme_Stability_Prediction/Notebooks/torch.ipynb#ch0000005?line=3'>4</a>\u001b[0m     X_test \u001b[39m=\u001b[39m train_df[X_cols]\u001b[39m.\u001b[39miloc[val_index]\n",
      "\u001b[0;31mTypeError\u001b[0m: split() missing 1 required positional argument: 'y'"
     ]
    }
   ],
   "source": [
    "kfold = StratifiedKFold(n_splits = 4)\n",
    "for train_index, val_index in kfold.split(train_df[X_cols]):\n",
    "    X_train = train_df[X_cols].iloc[train_index]\n",
    "    X_test = train_df[X_cols].iloc[val_index]\n",
    "    y_train = train_df[\"tm\"].iloc[train_index]\n",
    "    y_test = train_df[\"tm\"].iloc[val_index]"
   ]
  },
  {
   "cell_type": "code",
   "execution_count": 12,
   "metadata": {},
   "outputs": [],
   "source": [
    "from sklearn.model_selection import KFold\n",
    "\n",
    "kf = KFold(n_splits = 4)\n",
    "\n",
    "for train_index, val_index in kf.split(train_df[X_cols]):\n",
    "    X_train = train_df[X_cols].iloc[train_index]\n",
    "    X_test = train_df[X_cols].iloc[val_index]\n",
    "    y_train = train_df[\"tm\"].iloc[train_index]\n",
    "    y_test = train_df[\"tm\"].iloc[val_index]"
   ]
  }
 ],
 "metadata": {
  "kernelspec": {
   "display_name": "Python 3.9.12 ('base')",
   "language": "python",
   "name": "python3"
  },
  "language_info": {
   "codemirror_mode": {
    "name": "ipython",
    "version": 3
   },
   "file_extension": ".py",
   "mimetype": "text/x-python",
   "name": "python",
   "nbconvert_exporter": "python",
   "pygments_lexer": "ipython3",
   "version": "3.9.12"
  },
  "orig_nbformat": 4,
  "vscode": {
   "interpreter": {
    "hash": "31b54185ef9236271117b65ccd40447ed8c429f8dbf9fa6a895ee5e4cb482fd5"
   }
  }
 },
 "nbformat": 4,
 "nbformat_minor": 2
}
