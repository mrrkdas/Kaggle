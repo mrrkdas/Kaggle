{
 "cells": [
  {
   "cell_type": "code",
   "execution_count": 1,
   "metadata": {},
   "outputs": [],
   "source": [
    "import pandas as pd\n",
    "import numpy as np\n",
    "import lightgbm\n",
    "from function import *"
   ]
  },
  {
   "cell_type": "code",
   "execution_count": 3,
   "metadata": {},
   "outputs": [],
   "source": [
    "train_df = pd.read_csv(\"/Users/rish/Desktop/Kaggle/Novozymes_Enzyme_Stability_Prediction/Data/Data_/train_data.csv\")\n",
    "test_df = pd.read_csv(\"/Users/rish/Desktop/Kaggle/Novozymes_Enzyme_Stability_Prediction/Data/Data_/test_data.csv\")"
   ]
  },
  {
   "cell_type": "code",
   "execution_count": 4,
   "metadata": {},
   "outputs": [],
   "source": [
    "train_df, test_df = finalize_data(train_df, test_df)"
   ]
  },
  {
   "cell_type": "code",
   "execution_count": 6,
   "metadata": {},
   "outputs": [],
   "source": [
    "from sklearn.model_selection import KFold"
   ]
  },
  {
   "cell_type": "code",
   "execution_count": 11,
   "metadata": {},
   "outputs": [],
   "source": [
    "X_cols = train_df.drop(\"tm\", axis = 1).columns"
   ]
  },
  {
   "cell_type": "code",
   "execution_count": 12,
   "metadata": {},
   "outputs": [],
   "source": [
    "kf = KFold(n_splits=5)\n",
    "for train_index, val_index in kf.split(train_df[X_cols]):\n",
    "    X_train = train_df[X_cols].iloc[train_index]\n",
    "    X_test = train_df[X_cols].iloc[val_index]\n",
    "    y_train = train_df[\"tm\"].iloc[train_index]\n",
    "    y_test = train_df[\"tm\"].iloc[val_index]\n"
   ]
  },
  {
   "cell_type": "code",
   "execution_count": 13,
   "metadata": {},
   "outputs": [],
   "source": [
    "lgb_train = lightgbm.Dataset(X_train, y_train)\n",
    "lgb_test = lightgbm.Dataset(X_test, y_test)"
   ]
  },
  {
   "cell_type": "code",
   "execution_count": 16,
   "metadata": {},
   "outputs": [],
   "source": [
    "params = {\n",
    "    'boosting_type': 'gbdt',\n",
    "    'objective': 'regression',\n",
    "    'metric': {'l2', 'l1'},\n",
    "    'num_leaves': 31,\n",
    "    'learning_rate': 0.05,\n",
    "    'feature_fraction': 0.9,\n",
    "    'bagging_fraction': 0.8,\n",
    "    'bagging_freq': 5,\n",
    "    'verbose': 0\n",
    "}"
   ]
  },
  {
   "cell_type": "code",
   "execution_count": 17,
   "metadata": {},
   "outputs": [
    {
     "name": "stdout",
     "output_type": "stream",
     "text": [
      "[LightGBM] [Warning] Auto-choosing col-wise multi-threading, the overhead of testing was 0.007324 seconds.\n",
      "You can set `force_col_wise=true` to remove the overhead.\n",
      "[1]\tvalid_0's l2: 144.754\tvalid_0's l1: 8.68187\n",
      "Training until validation scores don't improve for 5 rounds\n",
      "[2]\tvalid_0's l2: 140.632\tvalid_0's l1: 8.56982\n",
      "[3]\tvalid_0's l2: 136.944\tvalid_0's l1: 8.47078\n",
      "[4]\tvalid_0's l2: 133.336\tvalid_0's l1: 8.37357\n",
      "[5]\tvalid_0's l2: 130.482\tvalid_0's l1: 8.29125\n",
      "[6]\tvalid_0's l2: 127.853\tvalid_0's l1: 8.2069\n",
      "[7]\tvalid_0's l2: 125.621\tvalid_0's l1: 8.14337\n",
      "[8]\tvalid_0's l2: 123.276\tvalid_0's l1: 8.07012\n",
      "[9]\tvalid_0's l2: 121.063\tvalid_0's l1: 8.00285\n",
      "[10]\tvalid_0's l2: 118.912\tvalid_0's l1: 7.93639\n",
      "[11]\tvalid_0's l2: 117.189\tvalid_0's l1: 7.88095\n",
      "[12]\tvalid_0's l2: 115.513\tvalid_0's l1: 7.82675\n",
      "[13]\tvalid_0's l2: 113.826\tvalid_0's l1: 7.77846\n",
      "[14]\tvalid_0's l2: 112.317\tvalid_0's l1: 7.73162\n",
      "[15]\tvalid_0's l2: 111.042\tvalid_0's l1: 7.68598\n",
      "[16]\tvalid_0's l2: 109.651\tvalid_0's l1: 7.64096\n",
      "[17]\tvalid_0's l2: 108.26\tvalid_0's l1: 7.59349\n",
      "[18]\tvalid_0's l2: 107.003\tvalid_0's l1: 7.54837\n",
      "[19]\tvalid_0's l2: 105.992\tvalid_0's l1: 7.50956\n",
      "[20]\tvalid_0's l2: 104.958\tvalid_0's l1: 7.47075\n",
      "Did not meet early stopping. Best iteration is:\n",
      "[20]\tvalid_0's l2: 104.958\tvalid_0's l1: 7.47075\n"
     ]
    }
   ],
   "source": [
    "gbm = lightgbm.train(params,\n",
    "                lgb_train,\n",
    "                num_boost_round=20,\n",
    "                valid_sets=lgb_test,\n",
    "                callbacks=[lightgbm.early_stopping(stopping_rounds=5)])"
   ]
  },
  {
   "cell_type": "code",
   "execution_count": 19,
   "metadata": {},
   "outputs": [],
   "source": [
    "preds = gbm.predict(X_test, num_iteration=gbm.best_iteration)"
   ]
  },
  {
   "cell_type": "code",
   "execution_count": 20,
   "metadata": {},
   "outputs": [
    {
     "name": "stdout",
     "output_type": "stream",
     "text": [
      "SpearmanrResult(correlation=0.30376061841720137, pvalue=5.4573627223337295e-124)\n"
     ]
    }
   ],
   "source": [
    "score(preds, y_test)"
   ]
  },
  {
   "cell_type": "code",
   "execution_count": 21,
   "metadata": {},
   "outputs": [],
   "source": [
    "preds_test = gbm.predict(test_df, num_iteration=gbm.best_iteration)"
   ]
  },
  {
   "cell_type": "code",
   "execution_count": 23,
   "metadata": {},
   "outputs": [],
   "source": [
    "make_submmission(preds = preds_test, name = \"LGBMtrainAPI.csv\")"
   ]
  },
  {
   "cell_type": "code",
   "execution_count": null,
   "metadata": {},
   "outputs": [],
   "source": []
  }
 ],
 "metadata": {
  "kernelspec": {
   "display_name": "Python 3.9.12 ('base')",
   "language": "python",
   "name": "python3"
  },
  "language_info": {
   "codemirror_mode": {
    "name": "ipython",
    "version": 3
   },
   "file_extension": ".py",
   "mimetype": "text/x-python",
   "name": "python",
   "nbconvert_exporter": "python",
   "pygments_lexer": "ipython3",
   "version": "3.9.12"
  },
  "orig_nbformat": 4,
  "vscode": {
   "interpreter": {
    "hash": "31b54185ef9236271117b65ccd40447ed8c429f8dbf9fa6a895ee5e4cb482fd5"
   }
  }
 },
 "nbformat": 4,
 "nbformat_minor": 2
}
