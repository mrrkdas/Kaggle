{
 "cells": [
  {
   "cell_type": "code",
   "execution_count": 1,
   "metadata": {},
   "outputs": [],
   "source": [
    "import pandas as pd\n",
    "import numpy as np\n",
    "import lightgbm\n",
    "from function import *"
   ]
  },
  {
   "cell_type": "code",
   "execution_count": 3,
   "metadata": {},
   "outputs": [],
   "source": [
    "train_df = pd.read_csv(\"/Users/rish/Desktop/Kaggle/Novozymes_Enzyme_Stability_Prediction/Data/Data_/train_data.csv\")\n",
    "test_df = pd.read_csv(\"/Users/rish/Desktop/Kaggle/Novozymes_Enzyme_Stability_Prediction/Data/Data_/test_data.csv\")"
   ]
  },
  {
   "cell_type": "code",
   "execution_count": 4,
   "metadata": {},
   "outputs": [],
   "source": [
    "train_df, test_df = finalize_data(train_df, test_df)"
   ]
  },
  {
   "cell_type": "code",
   "execution_count": 6,
   "metadata": {},
   "outputs": [],
   "source": [
    "from sklearn.model_selection import KFold"
   ]
  },
  {
   "cell_type": "code",
   "execution_count": 11,
   "metadata": {},
   "outputs": [],
   "source": [
    "X_cols = train_df.drop(\"tm\", axis = 1).columns"
   ]
  },
  {
   "cell_type": "code",
   "execution_count": 12,
   "metadata": {},
   "outputs": [],
   "source": [
    "kf = KFold(n_splits=5)\n",
    "for train_index, val_index in kf.split(train_df[X_cols]):\n",
    "    X_train = train_df[X_cols].iloc[train_index]\n",
    "    X_test = train_df[X_cols].iloc[val_index]\n",
    "    y_train = train_df[\"tm\"].iloc[train_index]\n",
    "    y_test = train_df[\"tm\"].iloc[val_index]\n"
   ]
  },
  {
   "cell_type": "code",
   "execution_count": 13,
   "metadata": {},
   "outputs": [],
   "source": [
    "lgb_train = lightgbm.Dataset(X_train, y_train)\n",
    "lgb_test = lightgbm.Dataset(X_test, y_test)"
   ]
  },
  {
   "cell_type": "code",
   "execution_count": 14,
   "metadata": {},
   "outputs": [],
   "source": [
    "params = {\n",
    "    'boosting_type': 'gbdt',\n",
    "    'objective': 'regression',\n",
    "    'metric': {'l2', 'l1'},\n",
    "    'num_leaves': 31,\n",
    "    'learning_rate': 0.05,\n",
    "    'feature_fraction': 0.9,\n",
    "    'bagging_fraction': 0.8,\n",
    "    'bagging_freq': 5,\n",
    "    'verbose': 0\n",
    "}"
   ]
  },
  {
   "cell_type": "code",
   "execution_count": 15,
   "metadata": {},
   "outputs": [
    {
     "name": "stderr",
     "output_type": "stream",
     "text": [
      "[LightGBM] [Fatal] Unknown objective type name: classification\n"
     ]
    },
    {
     "ename": "LightGBMError",
     "evalue": "Unknown objective type name: classification",
     "output_type": "error",
     "traceback": [
      "\u001b[0;31m---------------------------------------------------------------------------\u001b[0m",
      "\u001b[0;31mLightGBMError\u001b[0m                             Traceback (most recent call last)",
      "\u001b[1;32m/Users/rish/Desktop/Kaggle/Novozymes_Enzyme_Stability_Prediction/Notebooks/LGBM_trainAPI.ipynb Cell 9'\u001b[0m in \u001b[0;36m<cell line: 1>\u001b[0;34m()\u001b[0m\n\u001b[0;32m----> <a href='vscode-notebook-cell:/Users/rish/Desktop/Kaggle/Novozymes_Enzyme_Stability_Prediction/Notebooks/LGBM_trainAPI.ipynb#ch0000011?line=0'>1</a>\u001b[0m gbm \u001b[39m=\u001b[39m lightgbm\u001b[39m.\u001b[39;49mtrain(params,\n\u001b[1;32m      <a href='vscode-notebook-cell:/Users/rish/Desktop/Kaggle/Novozymes_Enzyme_Stability_Prediction/Notebooks/LGBM_trainAPI.ipynb#ch0000011?line=1'>2</a>\u001b[0m                 lgb_train,\n\u001b[1;32m      <a href='vscode-notebook-cell:/Users/rish/Desktop/Kaggle/Novozymes_Enzyme_Stability_Prediction/Notebooks/LGBM_trainAPI.ipynb#ch0000011?line=2'>3</a>\u001b[0m                 num_boost_round\u001b[39m=\u001b[39;49m\u001b[39m20\u001b[39;49m,\n\u001b[1;32m      <a href='vscode-notebook-cell:/Users/rish/Desktop/Kaggle/Novozymes_Enzyme_Stability_Prediction/Notebooks/LGBM_trainAPI.ipynb#ch0000011?line=3'>4</a>\u001b[0m                 valid_sets\u001b[39m=\u001b[39;49mlgb_test,\n\u001b[1;32m      <a href='vscode-notebook-cell:/Users/rish/Desktop/Kaggle/Novozymes_Enzyme_Stability_Prediction/Notebooks/LGBM_trainAPI.ipynb#ch0000011?line=4'>5</a>\u001b[0m                 callbacks\u001b[39m=\u001b[39;49m[lightgbm\u001b[39m.\u001b[39;49mearly_stopping(stopping_rounds\u001b[39m=\u001b[39;49m\u001b[39m5\u001b[39;49m)])\n",
      "File \u001b[0;32m~/opt/anaconda3/lib/python3.9/site-packages/lightgbm/engine.py:228\u001b[0m, in \u001b[0;36mtrain\u001b[0;34m(params, train_set, num_boost_round, valid_sets, valid_names, fobj, feval, init_model, feature_name, categorical_feature, early_stopping_rounds, evals_result, verbose_eval, learning_rates, keep_training_booster, callbacks)\u001b[0m\n\u001b[1;32m    226\u001b[0m \u001b[39m# construct booster\u001b[39;00m\n\u001b[1;32m    227\u001b[0m \u001b[39mtry\u001b[39;00m:\n\u001b[0;32m--> 228\u001b[0m     booster \u001b[39m=\u001b[39m Booster(params\u001b[39m=\u001b[39;49mparams, train_set\u001b[39m=\u001b[39;49mtrain_set)\n\u001b[1;32m    229\u001b[0m     \u001b[39mif\u001b[39;00m is_valid_contain_train:\n\u001b[1;32m    230\u001b[0m         booster\u001b[39m.\u001b[39mset_train_data_name(train_data_name)\n",
      "File \u001b[0;32m~/opt/anaconda3/lib/python3.9/site-packages/lightgbm/basic.py:2234\u001b[0m, in \u001b[0;36mBooster.__init__\u001b[0;34m(self, params, train_set, model_file, model_str, silent)\u001b[0m\n\u001b[1;32m   2232\u001b[0m params_str \u001b[39m=\u001b[39m param_dict_to_str(params)\n\u001b[1;32m   2233\u001b[0m \u001b[39mself\u001b[39m\u001b[39m.\u001b[39mhandle \u001b[39m=\u001b[39m ctypes\u001b[39m.\u001b[39mc_void_p()\n\u001b[0;32m-> 2234\u001b[0m _safe_call(_LIB\u001b[39m.\u001b[39;49mLGBM_BoosterCreate(\n\u001b[1;32m   2235\u001b[0m     train_set\u001b[39m.\u001b[39;49mhandle,\n\u001b[1;32m   2236\u001b[0m     c_str(params_str),\n\u001b[1;32m   2237\u001b[0m     ctypes\u001b[39m.\u001b[39;49mbyref(\u001b[39mself\u001b[39;49m\u001b[39m.\u001b[39;49mhandle)))\n\u001b[1;32m   2238\u001b[0m \u001b[39m# save reference to data\u001b[39;00m\n\u001b[1;32m   2239\u001b[0m \u001b[39mself\u001b[39m\u001b[39m.\u001b[39mtrain_set \u001b[39m=\u001b[39m train_set\n",
      "File \u001b[0;32m~/opt/anaconda3/lib/python3.9/site-packages/lightgbm/basic.py:110\u001b[0m, in \u001b[0;36m_safe_call\u001b[0;34m(ret)\u001b[0m\n\u001b[1;32m    102\u001b[0m \u001b[39m\"\"\"Check the return value from C API call.\u001b[39;00m\n\u001b[1;32m    103\u001b[0m \n\u001b[1;32m    104\u001b[0m \u001b[39mParameters\u001b[39;00m\n\u001b[0;32m   (...)\u001b[0m\n\u001b[1;32m    107\u001b[0m \u001b[39m    The return value from C API calls.\u001b[39;00m\n\u001b[1;32m    108\u001b[0m \u001b[39m\"\"\"\u001b[39;00m\n\u001b[1;32m    109\u001b[0m \u001b[39mif\u001b[39;00m ret \u001b[39m!=\u001b[39m \u001b[39m0\u001b[39m:\n\u001b[0;32m--> 110\u001b[0m     \u001b[39mraise\u001b[39;00m LightGBMError(_LIB\u001b[39m.\u001b[39mLGBM_GetLastError()\u001b[39m.\u001b[39mdecode(\u001b[39m'\u001b[39m\u001b[39mutf-8\u001b[39m\u001b[39m'\u001b[39m))\n",
      "\u001b[0;31mLightGBMError\u001b[0m: Unknown objective type name: classification"
     ]
    }
   ],
   "source": [
    "gbm = lightgbm.train(params,\n",
    "                lgb_train,\n",
    "                num_boost_round=20,\n",
    "                valid_sets=lgb_test,\n",
    "                callbacks=[lightgbm.early_stopping(stopping_rounds=5)])"
   ]
  }
 ],
 "metadata": {
  "kernelspec": {
   "display_name": "Python 3.9.12 ('base')",
   "language": "python",
   "name": "python3"
  },
  "language_info": {
   "codemirror_mode": {
    "name": "ipython",
    "version": 3
   },
   "file_extension": ".py",
   "mimetype": "text/x-python",
   "name": "python",
   "nbconvert_exporter": "python",
   "pygments_lexer": "ipython3",
   "version": "3.9.12"
  },
  "orig_nbformat": 4,
  "vscode": {
   "interpreter": {
    "hash": "31b54185ef9236271117b65ccd40447ed8c429f8dbf9fa6a895ee5e4cb482fd5"
   }
  }
 },
 "nbformat": 4,
 "nbformat_minor": 2
}
