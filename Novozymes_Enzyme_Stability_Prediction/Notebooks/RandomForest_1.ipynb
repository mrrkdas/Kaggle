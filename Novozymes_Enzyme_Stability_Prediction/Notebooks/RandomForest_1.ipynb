{
 "cells": [
  {
   "cell_type": "markdown",
   "metadata": {},
   "source": [
    "# Random Forest"
   ]
  },
  {
   "cell_type": "markdown",
   "metadata": {},
   "source": [
    "This random forest won't have any \"protein_sequence\" column"
   ]
  },
  {
   "cell_type": "markdown",
   "metadata": {},
   "source": [
    "### Preprocessing"
   ]
  },
  {
   "cell_type": "code",
   "execution_count": 1,
   "metadata": {},
   "outputs": [],
   "source": [
    "import pandas as pd\n",
    "import numpy as np\n",
    "from function import *"
   ]
  },
  {
   "cell_type": "code",
   "execution_count": 2,
   "metadata": {},
   "outputs": [],
   "source": [
    "from sklearn.ensemble import RandomForestRegressor"
   ]
  },
  {
   "cell_type": "code",
   "execution_count": 3,
   "metadata": {},
   "outputs": [],
   "source": [
    "train_data = pd.read_csv(\"/Users/rish/Desktop/Kaggle/Novozymes_Enzyme_Stability_Prediction/Data/Data_/train_data.csv\")\n",
    "test_data = pd.read_csv(\"/Users/rish/Desktop/Kaggle/Novozymes_Enzyme_Stability_Prediction/Data/Data_/test_data.csv\")"
   ]
  },
  {
   "cell_type": "code",
   "execution_count": 7,
   "metadata": {},
   "outputs": [],
   "source": [
    "train_data.drop([\"seq_id\", \"protein_sequence\"], axis = 1, inplace = True)\n",
    "test_data.drop([\"seq_id\", \"protein_sequence\"], axis = 1, inplace = True)"
   ]
  },
  {
   "cell_type": "code",
   "execution_count": 8,
   "metadata": {},
   "outputs": [
    {
     "data": {
      "text/plain": [
       "Index(['seq_id', 'protein_sequence', 'pH', 'len', 'molecular_weight',\n",
       "       'aromaticity', 'secondary__structure_fraction', 'instablity_index', 'A',\n",
       "       'C', 'D', 'E', 'F', 'G', 'H', 'I', 'K', 'L', 'M', 'N', 'P', 'Q', 'R',\n",
       "       'S', 'T', 'V', 'W', 'Y'],\n",
       "      dtype='object')"
      ]
     },
     "execution_count": 8,
     "metadata": {},
     "output_type": "execute_result"
    }
   ],
   "source": [
    "test_data.columns"
   ]
  },
  {
   "cell_type": "code",
   "execution_count": 9,
   "metadata": {},
   "outputs": [],
   "source": [
    "test_data.drop([\"seq_id\", \"protein_sequence\"], axis = 1, inplace = True)"
   ]
  },
  {
   "cell_type": "markdown",
   "metadata": {},
   "source": [
    "#### Fixing Problem"
   ]
  },
  {
   "cell_type": "code",
   "execution_count": 10,
   "metadata": {},
   "outputs": [],
   "source": [
    "random_ssf = train_data[\"secondary__structure_fraction\"].loc[1]"
   ]
  },
  {
   "cell_type": "code",
   "execution_count": 11,
   "metadata": {},
   "outputs": [],
   "source": [
    "random_ssf = random_ssf.replace(\"(\", \"\")\n",
    "random_ssf = random_ssf.replace(\")\", \"\")"
   ]
  },
  {
   "cell_type": "code",
   "execution_count": 12,
   "metadata": {},
   "outputs": [],
   "source": [
    "random_ssf_array = np.array(random_ssf.split(\",\"))"
   ]
  },
  {
   "cell_type": "code",
   "execution_count": 13,
   "metadata": {},
   "outputs": [
    {
     "data": {
      "text/plain": [
       "array([0.21328671, 0.16083916, 0.36713287])"
      ]
     },
     "execution_count": 13,
     "metadata": {},
     "output_type": "execute_result"
    }
   ],
   "source": [
    "random_ssf_array.astype(np.float64)"
   ]
  },
  {
   "cell_type": "code",
   "execution_count": 14,
   "metadata": {},
   "outputs": [
    {
     "data": {
      "text/plain": [
       "array([0.21328671, 0.16083916, 0.36713287])"
      ]
     },
     "execution_count": 14,
     "metadata": {},
     "output_type": "execute_result"
    }
   ],
   "source": [
    "random_ssf_array.astype(np.float64)"
   ]
  },
  {
   "cell_type": "code",
   "execution_count": 15,
   "metadata": {},
   "outputs": [],
   "source": [
    "def ssf_change(random_sff_):\n",
    "  random_ssf = random_sff_\n",
    "  random_ssf = random_ssf.replace(\"(\", \"\")\n",
    "  random_ssf = random_ssf.replace(\")\", \"\")\n",
    "  random_ssf = random_ssf.strip()\n",
    "  random_ssf_array = np.array(random_ssf.split(\",\"))\n",
    "  random_ssf_array = random_ssf_array.astype(np.float64)\n",
    "\n",
    "  return mean(random_ssf_array)"
   ]
  },
  {
   "cell_type": "code",
   "execution_count": 16,
   "metadata": {},
   "outputs": [
    {
     "ename": "NameError",
     "evalue": "name 'mean' is not defined",
     "output_type": "error",
     "traceback": [
      "\u001b[0;31m---------------------------------------------------------------------------\u001b[0m",
      "\u001b[0;31mNameError\u001b[0m                                 Traceback (most recent call last)",
      "\u001b[1;32m/Users/rish/Desktop/Kaggle/Novozymes_Enzyme_Stability_Prediction/Notebooks/RandomForest_1.ipynb Cell 20'\u001b[0m in \u001b[0;36m<cell line: 1>\u001b[0;34m()\u001b[0m\n\u001b[0;32m----> <a href='vscode-notebook-cell:/Users/rish/Desktop/Kaggle/Novozymes_Enzyme_Stability_Prediction/Notebooks/RandomForest_1.ipynb#ch0000019?line=0'>1</a>\u001b[0m train_data[\u001b[39m\"\u001b[39m\u001b[39mssf_num\u001b[39m\u001b[39m\"\u001b[39m] \u001b[39m=\u001b[39m train_data[\u001b[39m\"\u001b[39;49m\u001b[39msecondary__structure_fraction\u001b[39;49m\u001b[39m\"\u001b[39;49m]\u001b[39m.\u001b[39;49mmap(\u001b[39mlambda\u001b[39;49;00m x: ssf_change(x)) \n\u001b[1;32m      <a href='vscode-notebook-cell:/Users/rish/Desktop/Kaggle/Novozymes_Enzyme_Stability_Prediction/Notebooks/RandomForest_1.ipynb#ch0000019?line=1'>2</a>\u001b[0m test_data[\u001b[39m\"\u001b[39m\u001b[39mssf_num\u001b[39m\u001b[39m\"\u001b[39m] \u001b[39m=\u001b[39m train_data[\u001b[39m\"\u001b[39m\u001b[39msecondary__structure_fraction\u001b[39m\u001b[39m\"\u001b[39m]\u001b[39m.\u001b[39mmap(\u001b[39mlambda\u001b[39;00m x: ssf_change(x))\n",
      "File \u001b[0;32m~/opt/anaconda3/lib/python3.9/site-packages/pandas/core/series.py:4237\u001b[0m, in \u001b[0;36mSeries.map\u001b[0;34m(self, arg, na_action)\u001b[0m\n\u001b[1;32m   4162\u001b[0m \u001b[39mdef\u001b[39;00m \u001b[39mmap\u001b[39m(\u001b[39mself\u001b[39m, arg, na_action\u001b[39m=\u001b[39m\u001b[39mNone\u001b[39;00m) \u001b[39m-\u001b[39m\u001b[39m>\u001b[39m Series:\n\u001b[1;32m   4163\u001b[0m     \u001b[39m\"\"\"\u001b[39;00m\n\u001b[1;32m   4164\u001b[0m \u001b[39m    Map values of Series according to an input mapping or function.\u001b[39;00m\n\u001b[1;32m   4165\u001b[0m \n\u001b[0;32m   (...)\u001b[0m\n\u001b[1;32m   4235\u001b[0m \u001b[39m    dtype: object\u001b[39;00m\n\u001b[1;32m   4236\u001b[0m \u001b[39m    \"\"\"\u001b[39;00m\n\u001b[0;32m-> 4237\u001b[0m     new_values \u001b[39m=\u001b[39m \u001b[39mself\u001b[39;49m\u001b[39m.\u001b[39;49m_map_values(arg, na_action\u001b[39m=\u001b[39;49mna_action)\n\u001b[1;32m   4238\u001b[0m     \u001b[39mreturn\u001b[39;00m \u001b[39mself\u001b[39m\u001b[39m.\u001b[39m_constructor(new_values, index\u001b[39m=\u001b[39m\u001b[39mself\u001b[39m\u001b[39m.\u001b[39mindex)\u001b[39m.\u001b[39m__finalize__(\n\u001b[1;32m   4239\u001b[0m         \u001b[39mself\u001b[39m, method\u001b[39m=\u001b[39m\u001b[39m\"\u001b[39m\u001b[39mmap\u001b[39m\u001b[39m\"\u001b[39m\n\u001b[1;32m   4240\u001b[0m     )\n",
      "File \u001b[0;32m~/opt/anaconda3/lib/python3.9/site-packages/pandas/core/base.py:880\u001b[0m, in \u001b[0;36mIndexOpsMixin._map_values\u001b[0;34m(self, mapper, na_action)\u001b[0m\n\u001b[1;32m    877\u001b[0m         \u001b[39mraise\u001b[39;00m \u001b[39mValueError\u001b[39;00m(msg)\n\u001b[1;32m    879\u001b[0m \u001b[39m# mapper is a function\u001b[39;00m\n\u001b[0;32m--> 880\u001b[0m new_values \u001b[39m=\u001b[39m map_f(values, mapper)\n\u001b[1;32m    882\u001b[0m \u001b[39mreturn\u001b[39;00m new_values\n",
      "File \u001b[0;32m~/opt/anaconda3/lib/python3.9/site-packages/pandas/_libs/lib.pyx:2870\u001b[0m, in \u001b[0;36mpandas._libs.lib.map_infer\u001b[0;34m()\u001b[0m\n",
      "\u001b[1;32m/Users/rish/Desktop/Kaggle/Novozymes_Enzyme_Stability_Prediction/Notebooks/RandomForest_1.ipynb Cell 20'\u001b[0m in \u001b[0;36m<lambda>\u001b[0;34m(x)\u001b[0m\n\u001b[0;32m----> <a href='vscode-notebook-cell:/Users/rish/Desktop/Kaggle/Novozymes_Enzyme_Stability_Prediction/Notebooks/RandomForest_1.ipynb#ch0000019?line=0'>1</a>\u001b[0m train_data[\u001b[39m\"\u001b[39m\u001b[39mssf_num\u001b[39m\u001b[39m\"\u001b[39m] \u001b[39m=\u001b[39m train_data[\u001b[39m\"\u001b[39m\u001b[39msecondary__structure_fraction\u001b[39m\u001b[39m\"\u001b[39m]\u001b[39m.\u001b[39mmap(\u001b[39mlambda\u001b[39;00m x: ssf_change(x)) \n\u001b[1;32m      <a href='vscode-notebook-cell:/Users/rish/Desktop/Kaggle/Novozymes_Enzyme_Stability_Prediction/Notebooks/RandomForest_1.ipynb#ch0000019?line=1'>2</a>\u001b[0m test_data[\u001b[39m\"\u001b[39m\u001b[39mssf_num\u001b[39m\u001b[39m\"\u001b[39m] \u001b[39m=\u001b[39m train_data[\u001b[39m\"\u001b[39m\u001b[39msecondary__structure_fraction\u001b[39m\u001b[39m\"\u001b[39m]\u001b[39m.\u001b[39mmap(\u001b[39mlambda\u001b[39;00m x: ssf_change(x))\n",
      "\u001b[1;32m/Users/rish/Desktop/Kaggle/Novozymes_Enzyme_Stability_Prediction/Notebooks/RandomForest_1.ipynb Cell 19'\u001b[0m in \u001b[0;36mssf_change\u001b[0;34m(random_sff_)\u001b[0m\n\u001b[1;32m      <a href='vscode-notebook-cell:/Users/rish/Desktop/Kaggle/Novozymes_Enzyme_Stability_Prediction/Notebooks/RandomForest_1.ipynb#ch0000018?line=5'>6</a>\u001b[0m random_ssf_array \u001b[39m=\u001b[39m np\u001b[39m.\u001b[39marray(random_ssf\u001b[39m.\u001b[39msplit(\u001b[39m\"\u001b[39m\u001b[39m,\u001b[39m\u001b[39m\"\u001b[39m))\n\u001b[1;32m      <a href='vscode-notebook-cell:/Users/rish/Desktop/Kaggle/Novozymes_Enzyme_Stability_Prediction/Notebooks/RandomForest_1.ipynb#ch0000018?line=6'>7</a>\u001b[0m random_ssf_array \u001b[39m=\u001b[39m random_ssf_array\u001b[39m.\u001b[39mastype(np\u001b[39m.\u001b[39mfloat64)\n\u001b[0;32m----> <a href='vscode-notebook-cell:/Users/rish/Desktop/Kaggle/Novozymes_Enzyme_Stability_Prediction/Notebooks/RandomForest_1.ipynb#ch0000018?line=8'>9</a>\u001b[0m \u001b[39mreturn\u001b[39;00m mean(random_ssf_array)\n",
      "\u001b[0;31mNameError\u001b[0m: name 'mean' is not defined"
     ]
    }
   ],
   "source": [
    "train_data[\"ssf_num\"] = train_data[\"secondary__structure_fraction\"].map(lambda x: ssf_change(x)) \n",
    "test_data[\"ssf_num\"] = train_data[\"secondary__structure_fraction\"].map(lambda x: ssf_change(x))"
   ]
  },
  {
   "cell_type": "code",
   "execution_count": null,
   "metadata": {},
   "outputs": [],
   "source": [
    "train_data.drop(\"secondary__structure_fraction\", axis = 1, inplace = True)\n",
    "test_data.drop(\"secondary__structure_fraction\", axis = 1, inplace = True)"
   ]
  },
  {
   "cell_type": "markdown",
   "metadata": {},
   "source": [
    "#### Variables"
   ]
  },
  {
   "cell_type": "code",
   "execution_count": null,
   "metadata": {},
   "outputs": [],
   "source": [
    "X = train_data.drop(\"tm\", axis = 1)\n",
    "y = train_data[\"tm\"]"
   ]
  },
  {
   "cell_type": "code",
   "execution_count": null,
   "metadata": {},
   "outputs": [],
   "source": [
    "X.shape"
   ]
  },
  {
   "cell_type": "code",
   "execution_count": null,
   "metadata": {},
   "outputs": [],
   "source": [
    "test_data.shape"
   ]
  },
  {
   "cell_type": "markdown",
   "metadata": {},
   "source": [
    "#### Train test split"
   ]
  },
  {
   "cell_type": "code",
   "execution_count": null,
   "metadata": {},
   "outputs": [],
   "source": [
    "from sklearn.model_selection import train_test_split"
   ]
  },
  {
   "cell_type": "code",
   "execution_count": null,
   "metadata": {},
   "outputs": [],
   "source": [
    "X_train, X_test, y_train, y_test = train_test_split(X, y, test_size = 0.2)"
   ]
  },
  {
   "cell_type": "code",
   "execution_count": null,
   "metadata": {},
   "outputs": [],
   "source": [
    "X_train.shape, y_train.shape"
   ]
  },
  {
   "cell_type": "markdown",
   "metadata": {},
   "source": [
    "###  Modelling"
   ]
  },
  {
   "cell_type": "code",
   "execution_count": null,
   "metadata": {},
   "outputs": [],
   "source": [
    "model = RandomForestRegressor()\n",
    "model.fit(X_train, y_train)"
   ]
  },
  {
   "cell_type": "code",
   "execution_count": null,
   "metadata": {},
   "outputs": [],
   "source": [
    "y_preds = model.predict(X_test)"
   ]
  },
  {
   "cell_type": "code",
   "execution_count": null,
   "metadata": {},
   "outputs": [],
   "source": [
    "from scipy.stats import spearmanr\n",
    "score = spearmanr(y_preds, y_test)\n",
    "score"
   ]
  },
  {
   "cell_type": "markdown",
   "metadata": {},
   "source": [
    "##### Test Data"
   ]
  },
  {
   "cell_type": "code",
   "execution_count": null,
   "metadata": {},
   "outputs": [],
   "source": [
    "test_data.shape"
   ]
  },
  {
   "cell_type": "code",
   "execution_count": null,
   "metadata": {},
   "outputs": [],
   "source": [
    "preds = model.predict(test_data)"
   ]
  },
  {
   "cell_type": "code",
   "execution_count": null,
   "metadata": {},
   "outputs": [],
   "source": [
    "len(preds)"
   ]
  },
  {
   "cell_type": "code",
   "execution_count": null,
   "metadata": {},
   "outputs": [],
   "source": [
    "submission = pd.read_csv(\"/content/sample_submission.csv\")\n",
    "submission[\"tm\"] = preds.round()"
   ]
  },
  {
   "cell_type": "code",
   "execution_count": null,
   "metadata": {},
   "outputs": [],
   "source": [
    "submission"
   ]
  },
  {
   "cell_type": "code",
   "execution_count": null,
   "metadata": {},
   "outputs": [],
   "source": [
    "submission.to_csv(\"randomForestSubmission.csv\", index = False)"
   ]
  }
 ],
 "metadata": {
  "kernelspec": {
   "display_name": "Python 3.9.12 ('base')",
   "language": "python",
   "name": "python3"
  },
  "language_info": {
   "codemirror_mode": {
    "name": "ipython",
    "version": 3
   },
   "file_extension": ".py",
   "mimetype": "text/x-python",
   "name": "python",
   "nbconvert_exporter": "python",
   "pygments_lexer": "ipython3",
   "version": "3.9.12"
  },
  "orig_nbformat": 4,
  "vscode": {
   "interpreter": {
    "hash": "31b54185ef9236271117b65ccd40447ed8c429f8dbf9fa6a895ee5e4cb482fd5"
   }
  }
 },
 "nbformat": 4,
 "nbformat_minor": 2
}
