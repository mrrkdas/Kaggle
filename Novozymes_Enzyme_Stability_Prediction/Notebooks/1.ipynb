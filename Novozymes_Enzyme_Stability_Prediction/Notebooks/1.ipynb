{
 "cells": [
  {
   "cell_type": "markdown",
   "metadata": {},
   "source": [
    "## Loading Data"
   ]
  },
  {
   "cell_type": "code",
   "execution_count": null,
   "metadata": {},
   "outputs": [],
   "source": [
    "import zipfile\n",
    "with zipfile.ZipFile(\"/content/novozymes-enzyme-stability-prediction.zip\", \"r\") as zip_ref:\n",
    "  zip_ref.extractall(\"Data\")"
   ]
  },
  {
   "cell_type": "code",
   "execution_count": null,
   "metadata": {},
   "outputs": [],
   "source": [
    "import pandas as pd\n",
    "train_df = pd.read_csv(\"/content/Data/train.csv\")"
   ]
  },
  {
   "cell_type": "code",
   "execution_count": null,
   "metadata": {},
   "outputs": [],
   "source": [
    "train_df.head()"
   ]
  },
  {
   "cell_type": "code",
   "execution_count": null,
   "metadata": {},
   "outputs": [],
   "source": [
    "train_updated_df = pd.read_csv(\"/content/Data/train_updates_20220929.csv\")\n",
    "train_updated_df.head()"
   ]
  },
  {
   "cell_type": "markdown",
   "metadata": {},
   "source": [
    "## Updated CSV"
   ]
  },
  {
   "cell_type": "code",
   "execution_count": null,
   "metadata": {},
   "outputs": [],
   "source": [
    "import pandas as pd\n",
    "\n",
    "\n",
    "df_train = pd.read_csv(\"/content/Data/train.csv\", index_col=\"seq_id\")\n",
    "df_train_updates = pd.read_csv(\"/content/Data/train_updates_20220929.csv\", index_col=\"seq_id\")\n",
    "\n",
    "all_features_nan = df_train_updates.isnull().all(\"columns\")\n",
    "\n",
    "drop_indices = df_train_updates[all_features_nan].index\n",
    "df_train = df_train.drop(index=drop_indices)\n",
    "\n",
    "swap_ph_tm_indices = df_train_updates[~all_features_nan].index\n",
    "df_train.loc[swap_ph_tm_indices, [\"pH\", \"tm\"]] = df_train_updates.loc[swap_ph_tm_indices, [\"pH\", \"tm\"]]"
   ]
  },
  {
   "cell_type": "code",
   "execution_count": null,
   "metadata": {},
   "outputs": [],
   "source": [
    "df_train_updates"
   ]
  },
  {
   "cell_type": "code",
   "execution_count": null,
   "metadata": {},
   "outputs": [],
   "source": [
    "df_train"
   ]
  },
  {
   "cell_type": "code",
   "execution_count": null,
   "metadata": {},
   "outputs": [],
   "source": [
    "df = pd.read_csv(\"/content/Data/train.csv\")\n",
    "updates = pd.read_csv(\"/content/Data/train_updates_20220929.csv\")\n",
    "\n",
    "drop_seq_ids = updates[updates[\"pH\"].isnull()][\"seq_id\"].values\n",
    "change_seq_ids = updates[updates[\"pH\"].notnull()][\"seq_id\"].values\n",
    "\n",
    "# drop\n",
    "df.drop(df[df.seq_id.isin(drop_seq_ids)].index, inplace=True)\n",
    "\n",
    "# change\n",
    "df.loc[df.seq_id.isin(change_seq_ids), [\"pH\", \"tm\"]] = updates[\n",
    "    updates.seq_id.isin(change_seq_ids)\n",
    "][[\"pH\", \"tm\"]].values\n",
    "\n",
    "df.to_csv(\"updated_train.csv\", index=False)"
   ]
  },
  {
   "cell_type": "code",
   "execution_count": null,
   "metadata": {},
   "outputs": [],
   "source": [
    "df_updated = pd.read_csv(\"/content/updated_train.csv\")"
   ]
  },
  {
   "cell_type": "code",
   "execution_count": null,
   "metadata": {},
   "outputs": [],
   "source": [
    "df_updated.head()"
   ]
  },
  {
   "cell_type": "markdown",
   "metadata": {},
   "source": [
    "## EDA"
   ]
  },
  {
   "cell_type": "code",
   "execution_count": null,
   "metadata": {},
   "outputs": [],
   "source": [
    "conda install biopandas"
   ]
  },
  {
   "cell_type": "code",
   "execution_count": null,
   "metadata": {},
   "outputs": [],
   "source": [
    "import biopandas"
   ]
  },
  {
   "cell_type": "code",
   "execution_count": null,
   "metadata": {},
   "outputs": [],
   "source": [
    "somethin = ppdb.df[\"ATOM\"]"
   ]
  },
  {
   "cell_type": "code",
   "execution_count": null,
   "metadata": {},
   "outputs": [],
   "source": [
    "wt = somethin.groupby('residue_number').b_factor.agg('first').values"
   ]
  }
 ],
 "metadata": {
  "language_info": {
   "name": "python"
  },
  "orig_nbformat": 4
 },
 "nbformat": 4,
 "nbformat_minor": 2
}
