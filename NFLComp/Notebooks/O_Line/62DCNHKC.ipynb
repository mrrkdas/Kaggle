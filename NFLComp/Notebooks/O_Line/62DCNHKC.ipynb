{
 "cells": [
  {
   "cell_type": "code",
   "execution_count": 4,
   "metadata": {},
   "outputs": [],
   "source": [
    "import pandas as pd \n",
    "import numpy as np \n",
    "import ptplot "
   ]
  },
  {
   "cell_type": "code",
   "execution_count": null,
   "metadata": {},
   "outputs": [],
   "source": [
    "def load_week_data(file_paths):\n",
    "    for i in len(file_paths):\n",
    "        scan[i] = pd.read_csv(file_paths[i]) # I was trying to make a function but it doesn't work, ima keep trying later\n"
   ]
  },
  {
   "cell_type": "code",
   "execution_count": null,
   "metadata": {},
   "outputs": [],
   "source": [
    "week1DF = pd.read_csv(\"/Users/rish/Desktop/week1.csv\")\n",
    "week2DF = pd.read_csv(\"/Users/rish/Desktop/week2.csv\")\n",
    "week3DF = pd.read_csv(\"/Users/rish/Desktop/week3.csv\")\n",
    "week4DF = pd.read_csv(\"/Users/rish/Desktop/week4.csv\")\n",
    "week5DF = pd.read_csv(\"/Users/rish/Desktop/week5.csv\")\n",
    "week6DF = pd.read_csv(\"/Users/rish/Desktop/week6.csv\")\n",
    "week7DF = pd.read_csv(\"/Users/rish/Desktop/week7.csv\")\n",
    "week8DF = pd.read_csv(\"/Users/rish/Desktop/week8.csv\")"
   ]
  },
  {
   "cell_type": "code",
   "execution_count": null,
   "metadata": {},
   "outputs": [],
   "source": [
    "plays_data = pd.read_csv(\"/Users/rish/Desktop/plays.csv\") \n",
    "pffScoutingData = pd.read_csv(\"/Users/rish/Desktop/pffScoutingData.csv\") \n",
    "players_data = pd.read_csv(\"/Users/rish/Desktop/players.csv\")\n",
    "game_data = pd.read_csv(\"/Users/rish/Desktop/games.csv\")"
   ]
  },
  {
   "cell_type": "code",
   "execution_count": null,
   "metadata": {},
   "outputs": [],
   "source": [
    "plays_data_corr = plays_data.corr()\n",
    "plays_data_corr"
   ]
  },
  {
   "cell_type": "code",
   "execution_count": null,
   "metadata": {},
   "outputs": [],
   "source": [
    "# Tracking data, Pffscouting data, and players data have nflID\n",
    "players_pffScouting_merge = players_data.merge(pffScoutingData, how = \"inner\")\n",
    "players_pffScouting_merge"
   ]
  },
  {
   "cell_type": "code",
   "execution_count": null,
   "metadata": {},
   "outputs": [],
   "source": [
    "players_pffScouting_merge.columns # need to groupby unique nfl, we need to drop the gameID"
   ]
  },
  {
   "cell_type": "code",
   "execution_count": null,
   "metadata": {},
   "outputs": [],
   "source": [
    "notUseColumns = [\"gameId\", \"collegeName\", \"displayName\", \"birthDate\", \"height\"]\n",
    "\n",
    "for removing in notUseColumns:\n",
    "  players_pffScouting_merge.drop(removing, axis = 1, inplace = True)"
   ]
  },
  {
   "cell_type": "code",
   "execution_count": null,
   "metadata": {},
   "outputs": [],
   "source": [
    "players_pffScouting_merge.columns"
   ]
  },
  {
   "cell_type": "code",
   "execution_count": null,
   "metadata": {},
   "outputs": [],
   "source": [
    "players_pffScouting_merge.dtypes"
   ]
  },
  {
   "cell_type": "code",
   "execution_count": null,
   "metadata": {},
   "outputs": [],
   "source": [
    "from sklearn.preprocessing import OrdinalEncoder\n",
    "\n",
    "encoder = OrdinalEncoder()\n",
    "players_pffScouting_merge[[\"officialPositionCode\", \"pff_roleCode\", \"pff_positionLinedUpCode\", \"pff_blockTypeCode\"]] = encoder.fit_transform(\n",
    "    players_pffScouting_merge[[\"officialPosition\", \"pff_role\", \"pff_positionLinedUp\", \"pff_blockType\"]])"
   ]
  },
  {
   "cell_type": "code",
   "execution_count": null,
   "metadata": {},
   "outputs": [],
   "source": [
    "players_pffScouting_merge.drop([\"officialPosition\", \"pff_role\", \"pff_positionLinedUp\", \"pff_blockType\"], axis = 1, inplace = True)"
   ]
  },
  {
   "cell_type": "code",
   "execution_count": null,
   "metadata": {},
   "outputs": [],
   "source": [
    "players_pffScouting_merge.isnull().sum() # lots of null"
   ]
  },
  {
   "cell_type": "code",
   "execution_count": null,
   "metadata": {},
   "outputs": [],
   "source": [
    "players_pffScouting_merge[\"nflId\"]"
   ]
  },
  {
   "cell_type": "code",
   "execution_count": null,
   "metadata": {},
   "outputs": [],
   "source": [
    "players_pffScouting_merge = players_pffScouting_merge.groupby(\"nflId\").last().reset_index()"
   ]
  },
  {
   "cell_type": "code",
   "execution_count": null,
   "metadata": {},
   "outputs": [],
   "source": []
  }
 ],
 "metadata": {
  "kernelspec": {
   "display_name": "Python 3.9.12 ('base')",
   "language": "python",
   "name": "python3"
  },
  "language_info": {
   "codemirror_mode": {
    "name": "ipython",
    "version": 3
   },
   "file_extension": ".py",
   "mimetype": "text/x-python",
   "name": "python",
   "nbconvert_exporter": "python",
   "pygments_lexer": "ipython3",
   "version": "3.9.12"
  },
  "orig_nbformat": 4,
  "vscode": {
   "interpreter": {
    "hash": "31b54185ef9236271117b65ccd40447ed8c429f8dbf9fa6a895ee5e4cb482fd5"
   }
  }
 },
 "nbformat": 4,
 "nbformat_minor": 2
}
