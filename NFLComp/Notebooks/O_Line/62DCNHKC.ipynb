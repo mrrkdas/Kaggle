{
 "cells": [
  {
   "cell_type": "code",
   "execution_count": 4,
   "metadata": {},
   "outputs": [],
   "source": [
    "import pandas as pd \n",
    "import numpy as np \n",
    "import ptplot "
   ]
  },
  {
   "cell_type": "code",
   "execution_count": null,
   "metadata": {},
   "outputs": [],
   "source": [
    "def load_week_data(file_paths):\n",
    "    for i in len(file_paths):\n",
    "        scan[i] = pd.read_csv(file_paths[i]) # I was trying to make a function but it doesn't work, ima keep trying later\n"
   ]
  },
  {
   "cell_type": "code",
   "execution_count": null,
   "metadata": {},
   "outputs": [],
   "source": [
    "week1DF = pd.read_csv(\"/Users/rish/Desktop/week1.csv\")\n",
    "week2DF = pd.read_csv(\"/Users/rish/Desktop/week2.csv\")\n",
    "week3DF = pd.read_csv(\"/Users/rish/Desktop/week3.csv\")\n",
    "week4DF = pd.read_csv(\"/Users/rish/Desktop/week4.csv\")\n",
    "week5DF = pd.read_csv(\"/Users/rish/Desktop/week5.csv\")\n",
    "week6DF = pd.read_csv(\"/Users/rish/Desktop/week6.csv\")\n",
    "week7DF = pd.read_csv(\"/Users/rish/Desktop/week7.csv\")\n",
    "week8DF = pd.read_csv(\"/Users/rish/Desktop/week8.csv\")"
   ]
  },
  {
   "cell_type": "markdown",
   "metadata": {},
   "source": [
    "# EDA"
   ]
  },
  {
   "cell_type": "markdown",
   "metadata": {},
   "source": [
    "### pffScoutingData and player data"
   ]
  },
  {
   "cell_type": "code",
   "execution_count": null,
   "metadata": {},
   "outputs": [],
   "source": [
    "plays_data = pd.read_csv(\"/Users/rish/Desktop/plays.csv\") \n",
    "pffScoutingData = pd.read_csv(\"/Users/rish/Desktop/pffScoutingData.csv\") \n",
    "players_data = pd.read_csv(\"/Users/rish/Desktop/players.csv\")\n",
    "game_data = pd.read_csv(\"/Users/rish/Desktop/games.csv\")"
   ]
  },
  {
   "cell_type": "code",
   "execution_count": null,
   "metadata": {},
   "outputs": [],
   "source": [
    "plays_data_corr = plays_data.corr()\n",
    "plays_data_corr"
   ]
  },
  {
   "cell_type": "code",
   "execution_count": null,
   "metadata": {},
   "outputs": [],
   "source": [
    "# Tracking data, Pffscouting data, and players data have nflID\n",
    "players_pffScouting_merge = players_data.merge(pffScoutingData, how = \"inner\")\n",
    "players_pffScouting_merge"
   ]
  },
  {
   "cell_type": "code",
   "execution_count": null,
   "metadata": {},
   "outputs": [],
   "source": [
    "players_pffScouting_merge.columns # need to groupby unique nfl, we need to drop the gameID"
   ]
  },
  {
   "cell_type": "code",
   "execution_count": null,
   "metadata": {},
   "outputs": [],
   "source": [
    "notUseColumns = [\"gameId\", \"collegeName\", \"displayName\", \"birthDate\", \"height\"]\n",
    "\n",
    "for removing in notUseColumns:\n",
    "  players_pffScouting_merge.drop(removing, axis = 1, inplace = True)"
   ]
  },
  {
   "cell_type": "code",
   "execution_count": null,
   "metadata": {},
   "outputs": [],
   "source": [
    "players_pffScouting_merge.columns"
   ]
  },
  {
   "cell_type": "code",
   "execution_count": null,
   "metadata": {},
   "outputs": [],
   "source": [
    "players_pffScouting_merge.dtypes"
   ]
  },
  {
   "cell_type": "code",
   "execution_count": null,
   "metadata": {},
   "outputs": [],
   "source": [
    "from sklearn.preprocessing import OrdinalEncoder\n",
    "\n",
    "encoder = OrdinalEncoder()\n",
    "players_pffScouting_merge[[\"officialPositionCode\", \"pff_roleCode\", \"pff_positionLinedUpCode\", \"pff_blockTypeCode\"]] = encoder.fit_transform(\n",
    "    players_pffScouting_merge[[\"officialPosition\", \"pff_role\", \"pff_positionLinedUp\", \"pff_blockType\"]])"
   ]
  },
  {
   "cell_type": "code",
   "execution_count": null,
   "metadata": {},
   "outputs": [],
   "source": [
    "players_pffScouting_merge.drop([\"officialPosition\", \"pff_role\", \"pff_positionLinedUp\", \"pff_blockType\"], axis = 1, inplace = True)"
   ]
  },
  {
   "cell_type": "code",
   "execution_count": null,
   "metadata": {},
   "outputs": [],
   "source": [
    "players_pffScouting_merge.isnull().sum() # lots of null"
   ]
  },
  {
   "cell_type": "code",
   "execution_count": null,
   "metadata": {},
   "outputs": [],
   "source": [
    "players_pffScouting_merge[\"nflId\"]"
   ]
  },
  {
   "cell_type": "code",
   "execution_count": null,
   "metadata": {},
   "outputs": [],
   "source": [
    "players_pffScouting_merge = players_pffScouting_merge.groupby(\"nflId\").last().reset_index()"
   ]
  },
  {
   "cell_type": "code",
   "execution_count": null,
   "metadata": {},
   "outputs": [],
   "source": [
    "# Final DF\n",
    "players_pffScouting_merge"
   ]
  },
  {
   "cell_type": "markdown",
   "metadata": {},
   "source": [
    "### pffScoutingData and plays data"
   ]
  },
  {
   "cell_type": "code",
   "execution_count": null,
   "metadata": {},
   "outputs": [],
   "source": [
    "# pffScoutingData and plays data have a play \n",
    "pffScoutingData.columns"
   ]
  },
  {
   "cell_type": "code",
   "execution_count": null,
   "metadata": {},
   "outputs": [],
   "source": [
    "plays_data.columns"
   ]
  },
  {
   "cell_type": "code",
   "execution_count": null,
   "metadata": {},
   "outputs": [],
   "source": [
    "plays_data.corr()"
   ]
  },
  {
   "cell_type": "code",
   "execution_count": null,
   "metadata": {},
   "outputs": [],
   "source": [
    "pffScouting_plays_merge = plays_data.merge(pffScoutingData, how = \"inner\")"
   ]
  },
  {
   "cell_type": "code",
   "execution_count": null,
   "metadata": {},
   "outputs": [],
   "source": [
    "pffScouting_plays_merge.head()"
   ]
  },
  {
   "cell_type": "code",
   "execution_count": null,
   "metadata": {},
   "outputs": [],
   "source": [
    "pffScouting_plays_merge.columns"
   ]
  },
  {
   "cell_type": "code",
   "execution_count": null,
   "metadata": {},
   "outputs": [],
   "source": [
    "pffScouting_plays_merge.dtypes # passResult, pff_passCoverage, pff_passCoverageType, pffBlockType, offenseFormation, dropBackType, pff_passCoverage, pff_passCoverageType, \n",
    "# pff_role, pff_positionLinedUp, pff_blockType"
   ]
  },
  {
   "cell_type": "code",
   "execution_count": null,
   "metadata": {},
   "outputs": [],
   "source": [
    "not_use_cols = [\"gameId\", \"playDescription\", \"gameClock\", \"pff_nflIdBlockedPlayer\", \"possessionTeam\", \"defensiveTeam\", \"yardlineSide\", \"foulName1\", \n",
    "                \"foulNFLId1\", \"foulName2\", \"foulNFLId2\", \"foulName3\", \"foulNFLId3\", \"personnelO\", \"personnelD\", \"nflId\"]"
   ]
  },
  {
   "cell_type": "code",
   "execution_count": null,
   "metadata": {},
   "outputs": [],
   "source": [
    "from sklearn.preprocessing import OrdinalEncoder\n",
    "\n",
    "encoder = OrdinalEncoder()\n",
    "pffScouting_plays_merge[[\"passResultCode\", \"pff_passCoverageCode\", \"pff_passCoverageTypeCode\", \"offenseFormationCode\", \"dropBackTypeCode\", \"pff_passCoverageCode\", \"pff_passCoverageTypeCode\", \"pff_roleCode\", \"pff_positionLinedUpCode\", \"pff_blockTypeCode\"]] = encoder.fit_transform(\n",
    "    pffScouting_plays_merge[[\"passResult\", \"pff_passCoverage\", \"pff_passCoverageType\", \"offenseFormation\", \"dropBackType\", \"pff_passCoverage\", \"pff_passCoverageType\", \"pff_role\", \"pff_positionLinedUp\", \"pff_blockType\"]])"
   ]
  },
  {
   "cell_type": "code",
   "execution_count": null,
   "metadata": {},
   "outputs": [],
   "source": [
    "pffScouting_plays_merge.drop([\"passResult\", \"pff_passCoverage\", \"pff_passCoverageType\", \"offenseFormation\", \"dropBackType\", \"pff_passCoverage\", \"pff_passCoverageType\", \"pff_role\", \"pff_positionLinedUp\", \"pff_blockType\"], inplace = True, axis = 1)"
   ]
  },
  {
   "cell_type": "code",
   "execution_count": null,
   "metadata": {},
   "outputs": [],
   "source": [
    "pffScouting_plays_merge = pffScouting_plays_merge.groupby(\"playId\").last().reset_index()"
   ]
  },
  {
   "cell_type": "code",
   "execution_count": null,
   "metadata": {},
   "outputs": [],
   "source": [
    "pffScouting_plays_merge"
   ]
  },
  {
   "cell_type": "markdown",
   "metadata": {},
   "source": [
    "#### Merging Those two datasets"
   ]
  },
  {
   "cell_type": "code",
   "execution_count": null,
   "metadata": {},
   "outputs": [],
   "source": [
    "pffScouting_plays_merge.head()"
   ]
  },
  {
   "cell_type": "code",
   "execution_count": null,
   "metadata": {},
   "outputs": [],
   "source": [
    "players_pffScouting_merge.tail()"
   ]
  },
  {
   "cell_type": "code",
   "execution_count": null,
   "metadata": {},
   "outputs": [],
   "source": [
    "import matplotlib.pyplot as plt\n",
    "plt.plot(players_pffScouting_merge[[\"pff_beatenByDefender\", \"pff_sackAllowed\"]])"
   ]
  },
  {
   "cell_type": "markdown",
   "metadata": {},
   "source": [
    "### Finding X and Y pos of players"
   ]
  },
  {
   "cell_type": "code",
   "execution_count": null,
   "metadata": {},
   "outputs": [],
   "source": [
    "week1DF[:50]"
   ]
  },
  {
   "cell_type": "code",
   "execution_count": null,
   "metadata": {},
   "outputs": [],
   "source": [
    "x_pos_1 = week1DF[\"x\"]\n",
    "y_pos_1 = week1DF[\"y\"]"
   ]
  },
  {
   "cell_type": "code",
   "execution_count": null,
   "metadata": {},
   "outputs": [],
   "source": [
    "plt.plot(x_pos_1[:42], y_pos_1[:42]) # this for tb"
   ]
  },
  {
   "cell_type": "code",
   "execution_count": null,
   "metadata": {},
   "outputs": [],
   "source": [
    "# using ptplot\n",
    "\n",
    "from bokeh.plotting import show\n",
    "\n",
    "from ptplot import PTPlot\n",
    "from ptplot.nfl import Field\n",
    "from ptplot.plot import Positions"
   ]
  },
  {
   "cell_type": "code",
   "execution_count": null,
   "metadata": {},
   "outputs": [],
   "source": [
    "plot = PTPlot(week1DF) + Field() + Positions(\"x-10\", \"y\")\n",
    "show(plot.draw())"
   ]
  },
  {
   "cell_type": "code",
   "execution_count": null,
   "metadata": {},
   "outputs": [],
   "source": [
    "from bokeh.io import output_notebook\n",
    "\n",
    "output_notebook()"
   ]
  },
  {
   "cell_type": "code",
   "execution_count": null,
   "metadata": {},
   "outputs": [],
   "source": [
    "show(plot.draw())"
   ]
  }
 ],
 "metadata": {
  "kernelspec": {
   "display_name": "Python 3.9.12 ('base')",
   "language": "python",
   "name": "python3"
  },
  "language_info": {
   "codemirror_mode": {
    "name": "ipython",
    "version": 3
   },
   "file_extension": ".py",
   "mimetype": "text/x-python",
   "name": "python",
   "nbconvert_exporter": "python",
   "pygments_lexer": "ipython3",
   "version": "3.9.12"
  },
  "orig_nbformat": 4,
  "vscode": {
   "interpreter": {
    "hash": "31b54185ef9236271117b65ccd40447ed8c429f8dbf9fa6a895ee5e4cb482fd5"
   }
  }
 },
 "nbformat": 4,
 "nbformat_minor": 2
}
